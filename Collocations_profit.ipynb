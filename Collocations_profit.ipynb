{
  "nbformat": 4,
  "nbformat_minor": 0,
  "metadata": {
    "colab": {
      "name": "Collocations_profit.ipynb",
      "provenance": [],
      "collapsed_sections": []
    },
    "kernelspec": {
      "name": "python3",
      "display_name": "Python 3"
    }
  },
  "cells": [
    {
      "cell_type": "code",
      "metadata": {
        "colab": {
          "base_uri": "https://localhost:8080/"
        },
        "id": "1VX9SEscXaJn",
        "outputId": "ba0d46e3-439d-48f1-90a3-137e617ec650"
      },
      "source": [
        "import pandas as pd\r\n",
        "import matplotlib\r\n",
        "import nltk\r\n",
        "nltk.download('punkt')\r\n",
        "nltk.download('wordnet')\r\n",
        "from nltk import sent_tokenize, word_tokenize\r\n",
        "from nltk.stem.snowball import SnowballStemmer\r\n",
        "from nltk.stem.wordnet import WordNetLemmatizer\r\n",
        "from nltk.corpus import stopwords\r\n",
        "nltk.download('stopwords')\r\n",
        "stop_words = stopwords.words('english')\r\n",
        "stop_words.extend(['from', 'would', 'could', 'may', 'one', 'I', 'It', 'but', 'also', 'this', 'that', 'they', 'it', 'The', 'But', 'And', 'A', 'We', 'They', 'This', 'That', 'In', 'These', 'even', 'There', 'As', 'If', 'He', 'us', 'For'])\r\n",
        "import pandas as pd\r\n",
        "import numpy as np\r\n",
        "import re"
      ],
      "execution_count": null,
      "outputs": [
        {
          "output_type": "stream",
          "text": [
            "[nltk_data] Downloading package punkt to /root/nltk_data...\n",
            "[nltk_data]   Unzipping tokenizers/punkt.zip.\n",
            "[nltk_data] Downloading package wordnet to /root/nltk_data...\n",
            "[nltk_data]   Unzipping corpora/wordnet.zip.\n",
            "[nltk_data] Downloading package stopwords to /root/nltk_data...\n",
            "[nltk_data]   Unzipping corpora/stopwords.zip.\n"
          ],
          "name": "stdout"
        }
      ]
    },
    {
      "cell_type": "code",
      "metadata": {
        "colab": {
          "base_uri": "https://localhost:8080/"
        },
        "id": "XjZhBG49XvQo",
        "outputId": "5d57ec2d-2857-4a9e-cf45-506dbb2236c6"
      },
      "source": [
        "\r\n",
        "from google.colab import drive\r\n",
        "drive.mount('/gdrive')"
      ],
      "execution_count": null,
      "outputs": [
        {
          "output_type": "stream",
          "text": [
            "Mounted at /gdrive\n"
          ],
          "name": "stdout"
        }
      ]
    },
    {
      "cell_type": "code",
      "metadata": {
        "id": "EtJbUDv_X4HI"
      },
      "source": [
        "Downsizing_df = pd.read_csv(\"/gdrive/My Drive/Neoliber_2020.csv\")"
      ],
      "execution_count": null,
      "outputs": []
    },
    {
      "cell_type": "code",
      "metadata": {
        "colab": {
          "base_uri": "https://localhost:8080/",
          "height": 407
        },
        "id": "EoIkO0qRYNM4",
        "outputId": "3c75f02f-aed4-4899-f239-466f1eeb1a92"
      },
      "source": [
        "Downsizing_df"
      ],
      "execution_count": null,
      "outputs": [
        {
          "output_type": "execute_result",
          "data": {
            "text/html": [
              "<div>\n",
              "<style scoped>\n",
              "    .dataframe tbody tr th:only-of-type {\n",
              "        vertical-align: middle;\n",
              "    }\n",
              "\n",
              "    .dataframe tbody tr th {\n",
              "        vertical-align: top;\n",
              "    }\n",
              "\n",
              "    .dataframe thead th {\n",
              "        text-align: right;\n",
              "    }\n",
              "</style>\n",
              "<table border=\"1\" class=\"dataframe\">\n",
              "  <thead>\n",
              "    <tr style=\"text-align: right;\">\n",
              "      <th></th>\n",
              "      <th>Unnamed: 0</th>\n",
              "      <th>author</th>\n",
              "      <th>body</th>\n",
              "      <th>date</th>\n",
              "      <th>title</th>\n",
              "      <th>url</th>\n",
              "      <th>year</th>\n",
              "      <th>month</th>\n",
              "      <th>day</th>\n",
              "    </tr>\n",
              "  </thead>\n",
              "  <tbody>\n",
              "    <tr>\n",
              "      <th>0</th>\n",
              "      <td>0.0</td>\n",
              "      <td>Matt Kilcoyne</td>\n",
              "      <td>With the release of the details of the make-up...</td>\n",
              "      <td>2020-05-04</td>\n",
              "      <td>WHITHER THE ECONOMISTS WHILE THE ECONOMY WITHE...</td>\n",
              "      <td>https://www.adamsmith.org/news/whither-the-eco...</td>\n",
              "      <td>2020.0</td>\n",
              "      <td>5.0</td>\n",
              "      <td>4.0</td>\n",
              "    </tr>\n",
              "    <tr>\n",
              "      <th>1</th>\n",
              "      <td>1.0</td>\n",
              "      <td>Madsen Pirie</td>\n",
              "      <td>Cost-benefit analysis is a useful tool for wor...</td>\n",
              "      <td>2020-05-10</td>\n",
              "      <td>WE'RE MISSING COST BENEFIT ANALYSIS IN OUR COV...</td>\n",
              "      <td>https://www.adamsmith.org/blog/were-missing-co...</td>\n",
              "      <td>2020.0</td>\n",
              "      <td>5.0</td>\n",
              "      <td>10.0</td>\n",
              "    </tr>\n",
              "    <tr>\n",
              "      <th>2</th>\n",
              "      <td>2.0</td>\n",
              "      <td>Dr Smith</td>\n",
              "      <td>I have been asked how medicine is practised di...</td>\n",
              "      <td>2020-04-29</td>\n",
              "      <td>MEDICINE DURING COVID</td>\n",
              "      <td>https://www.adamsmith.org/despatches/medicine-...</td>\n",
              "      <td>2020.0</td>\n",
              "      <td>4.0</td>\n",
              "      <td>29.0</td>\n",
              "    </tr>\n",
              "    <tr>\n",
              "      <th>3</th>\n",
              "      <td>3.0</td>\n",
              "      <td>Lance Forman</td>\n",
              "      <td>The Government is going about supporting the e...</td>\n",
              "      <td>2020-03-19</td>\n",
              "      <td>COVID19: HOW TO DEAL WITH BUSINESS COLLAPSE AN...</td>\n",
              "      <td>https://www.adamsmith.org/blog/covid19-how-do-...</td>\n",
              "      <td>2020.0</td>\n",
              "      <td>3.0</td>\n",
              "      <td>19.0</td>\n",
              "    </tr>\n",
              "    <tr>\n",
              "      <th>4</th>\n",
              "      <td>4.0</td>\n",
              "      <td>Eamonn Butler</td>\n",
              "      <td>Too late now, but I think I understand why min...</td>\n",
              "      <td>2020-04-27</td>\n",
              "      <td>WHY THE POLICE GOT IT SO WRONG ON ENFORCING CO...</td>\n",
              "      <td>https://www.adamsmith.org/blog/why-the-police-...</td>\n",
              "      <td>2020.0</td>\n",
              "      <td>4.0</td>\n",
              "      <td>27.0</td>\n",
              "    </tr>\n",
              "    <tr>\n",
              "      <th>...</th>\n",
              "      <td>...</td>\n",
              "      <td>...</td>\n",
              "      <td>...</td>\n",
              "      <td>...</td>\n",
              "      <td>...</td>\n",
              "      <td>...</td>\n",
              "      <td>...</td>\n",
              "      <td>...</td>\n",
              "      <td>...</td>\n",
              "    </tr>\n",
              "    <tr>\n",
              "      <th>781</th>\n",
              "      <td>405.0</td>\n",
              "      <td>Andrew  McIndoe</td>\n",
              "      <td>Our most memorable heroes are forged through c...</td>\n",
              "      <td>2020-05-15</td>\n",
              "      <td>When People See Nonprofits Persevering, They’l...</td>\n",
              "      <td>https://www.heritage.org/jobs-and-labor/commen...</td>\n",
              "      <td>2020.0</td>\n",
              "      <td>5.0</td>\n",
              "      <td>15.0</td>\n",
              "    </tr>\n",
              "    <tr>\n",
              "      <th>782</th>\n",
              "      <td>406.0</td>\n",
              "      <td>Tommy  Binion</td>\n",
              "      <td>The news has been full of stories on SCOTUS no...</td>\n",
              "      <td>2020-10-13</td>\n",
              "      <td>The Confirmation of Amy Coney Barrett: Opening...</td>\n",
              "      <td>https://www.heritage.org/political-process/com...</td>\n",
              "      <td>2020.0</td>\n",
              "      <td>10.0</td>\n",
              "      <td>13.0</td>\n",
              "    </tr>\n",
              "    <tr>\n",
              "      <th>783</th>\n",
              "      <td>407.0</td>\n",
              "      <td>Kay C. James</td>\n",
              "      <td>When the nongovernmental National Coronavirus ...</td>\n",
              "      <td>2020-04-22</td>\n",
              "      <td>COVID-19 Crisis Has Re-Ignited a Sense of Comm...</td>\n",
              "      <td>https://www.heritage.org/civil-society/comment...</td>\n",
              "      <td>2020.0</td>\n",
              "      <td>4.0</td>\n",
              "      <td>22.0</td>\n",
              "    </tr>\n",
              "    <tr>\n",
              "      <th>784</th>\n",
              "      <td>408.0</td>\n",
              "      <td>Kevin  Pham, MD</td>\n",
              "      <td>America’s coronavirus testing rates have emerg...</td>\n",
              "      <td>2020-04-26</td>\n",
              "      <td>COVID-19 Testing and the Way Forward on Resumi...</td>\n",
              "      <td>https://www.heritage.org/public-health/comment...</td>\n",
              "      <td>2020.0</td>\n",
              "      <td>4.0</td>\n",
              "      <td>26.0</td>\n",
              "    </tr>\n",
              "    <tr>\n",
              "      <th>785</th>\n",
              "      <td>409.0</td>\n",
              "      <td>Kevin  Pham, MD</td>\n",
              "      <td>The Centers for Disease Control and Prevention...</td>\n",
              "      <td>2020-09-05</td>\n",
              "      <td>New COVID-19 Findings Confirm What We Have Lea...</td>\n",
              "      <td>https://www.heritage.org/public-health/comment...</td>\n",
              "      <td>2020.0</td>\n",
              "      <td>9.0</td>\n",
              "      <td>5.0</td>\n",
              "    </tr>\n",
              "  </tbody>\n",
              "</table>\n",
              "<p>786 rows × 9 columns</p>\n",
              "</div>"
            ],
            "text/plain": [
              "     Unnamed: 0           author  ... month   day\n",
              "0           0.0    Matt Kilcoyne  ...   5.0   4.0\n",
              "1           1.0     Madsen Pirie  ...   5.0  10.0\n",
              "2           2.0         Dr Smith  ...   4.0  29.0\n",
              "3           3.0     Lance Forman  ...   3.0  19.0\n",
              "4           4.0    Eamonn Butler  ...   4.0  27.0\n",
              "..          ...              ...  ...   ...   ...\n",
              "781       405.0  Andrew  McIndoe  ...   5.0  15.0\n",
              "782       406.0    Tommy  Binion  ...  10.0  13.0\n",
              "783       407.0     Kay C. James  ...   4.0  22.0\n",
              "784       408.0  Kevin  Pham, MD  ...   4.0  26.0\n",
              "785       409.0  Kevin  Pham, MD  ...   9.0   5.0\n",
              "\n",
              "[786 rows x 9 columns]"
            ]
          },
          "metadata": {
            "tags": []
          },
          "execution_count": 4
        }
      ]
    },
    {
      "cell_type": "code",
      "metadata": {
        "id": "wqKpV-aqYiI_"
      },
      "source": [
        "# Σβήνω κάποιες στήλες διότι δεν μου προσδίδουν καμία χρήσιμη πληροφορία \r\n",
        "\r\n",
        "Downsizing_df = Downsizing_df.drop('Unnamed: 0', axis = 1)"
      ],
      "execution_count": null,
      "outputs": []
    },
    {
      "cell_type": "code",
      "metadata": {
        "id": "hxXIBOTGYmc4"
      },
      "source": [
        "Downsizing_df = Downsizing_df[Downsizing_df.body.notnull()]"
      ],
      "execution_count": null,
      "outputs": []
    },
    {
      "cell_type": "code",
      "metadata": {
        "id": "ZgTXeV_8Yx__",
        "colab": {
          "base_uri": "https://localhost:8080/"
        },
        "outputId": "058623e4-651a-4f40-ae12-3e9f65b46b73"
      },
      "source": [
        "Downsizing_df.shape"
      ],
      "execution_count": null,
      "outputs": [
        {
          "output_type": "execute_result",
          "data": {
            "text/plain": [
              "(785, 8)"
            ]
          },
          "metadata": {
            "tags": []
          },
          "execution_count": 7
        }
      ]
    },
    {
      "cell_type": "code",
      "metadata": {
        "colab": {
          "base_uri": "https://localhost:8080/",
          "height": 108
        },
        "id": "Q5UsHRGenYhm",
        "outputId": "8d5f3858-b61e-459e-c2be-6a5bfc0389a0"
      },
      "source": [
        "Downsizing_df['body'][16]"
      ],
      "execution_count": null,
      "outputs": [
        {
          "output_type": "execute_result",
          "data": {
            "application/vnd.google.colaboratory.intrinsic+json": {
              "type": "string"
            },
            "text/plain": [
              "'The ASI’s latest paper, written by ASI Head of Research Matthew Lesh, makes the case for decentralising  COVID-19 diagnostic testing in the United Kingdom:                COVID-19 is the biggest public health emergency in modern history. There have already been over 875,000 confirmed cases and 43,500 deaths worldwide. These numbers are expected to grow exponentially in the coming weeks, potentially resulting in millions of cases and hundreds of thousands of deaths.     The United Kingdom is experiencing a substantial growth in cases and deaths. Over 2,350 people confirmed to have died after contracting the virus. This number is doubling approximately every 3 days, putting the UK on a similar trajectory to the worst affected regions in the world.    Testing is a key tool to combat infectious diseases. It allows doctors to identify the needs of patients, public health authorities to trace and isolate cases to minimise spread, and epidemiologists to track the spread of an outbreak. It is also essential for healthcare workers to return to the frontline.    The UK has fallen to the bottom quarter of OECD countries for COVID-19 diagnostic testing, on a per capita basis. South Korea has tested four times as many people as the UK, Germany almost three times and the United States now almost twice as many, per capita.    The early decision to centralise testing to a single Public Health England (PHE) laboratory has hampered the ability to increase testing in the UK. Testing has now been expanded to 12 labs operated by PHE as well as a limited number of NHS laboratories.    The most successful countries in testing COVID-19 – such as Germany, South Korea, and more recently, the United States of America – have decentralised testing and embraced a mixture of public, non-government and private laboratories.    Since March 16, the United Kingdom has just over doubled daily testing capacity. In the same time, the United States has increased daily testing by a factor of 21.    The private sector has shown an extensive willingness to support the Government’s efforts to tackle COVID-19, including the rapid design and manufacture of ventilators and agreeing to transfer beds and staff in independent hospitals to the NHS.    If the UK Government wants to meet its testing targets and save lives, it must:    fast-track approval for private sector laboratories to conduct COVID-19 testing;     substantially expand usage of NHS and university laboratories to conduct COVID-19 testing;     undertake rapid approval of private sector developed tests, including mutual recognition of tests approved by other regulatory bodies such as the FDA;    reduce testing red tape, including any requirements that initial positive tests must be retested centrally by PHE; and    explicitly call on companies to help make testing kits and develop lab capacity for COVID-19 testing, modelled on the successful call for businesses to make ventilators.'"
            ]
          },
          "metadata": {
            "tags": []
          },
          "execution_count": 8
        }
      ]
    },
    {
      "cell_type": "code",
      "metadata": {
        "colab": {
          "base_uri": "https://localhost:8080/",
          "height": 35
        },
        "id": "InBSEY9RnfjQ",
        "outputId": "f6f5f3db-4ad6-45e3-c5a4-70a6a3e396ca"
      },
      "source": [
        "Downsizing_df['title'][1]"
      ],
      "execution_count": null,
      "outputs": [
        {
          "output_type": "execute_result",
          "data": {
            "application/vnd.google.colaboratory.intrinsic+json": {
              "type": "string"
            },
            "text/plain": [
              "\"WE'RE MISSING COST BENEFIT ANALYSIS IN OUR COVID19 DISCUSSION\""
            ]
          },
          "metadata": {
            "tags": []
          },
          "execution_count": 9
        }
      ]
    },
    {
      "cell_type": "code",
      "metadata": {
        "colab": {
          "base_uri": "https://localhost:8080/"
        },
        "id": "77ltrWKQnnOH",
        "outputId": "09650e2f-876b-4745-f1de-1fde4498652a"
      },
      "source": [
        "print(Downsizing_df['title'][785])"
      ],
      "execution_count": null,
      "outputs": [
        {
          "output_type": "stream",
          "text": [
            "New COVID-19 Findings Confirm What We Have Learned Since the Beginning. A Targeted Response Is More Important Than Ever.\n"
          ],
          "name": "stdout"
        }
      ]
    },
    {
      "cell_type": "markdown",
      "metadata": {
        "id": "gG_ZYaFZn2d_"
      },
      "source": [
        "Concordances"
      ]
    },
    {
      "cell_type": "code",
      "metadata": {
        "id": "CCgzSnKfn3Ln"
      },
      "source": [
        "#edw prwta epilegoume to keyword  kai meta poses lexeis theloume girw apo to keyword"
      ],
      "execution_count": null,
      "outputs": []
    },
    {
      "cell_type": "code",
      "metadata": {
        "colab": {
          "base_uri": "https://localhost:8080/"
        },
        "id": "JKmzwKIin7Wu",
        "outputId": "96dc0df7-f9c1-45cf-c3e9-458fbb9ca281"
      },
      "source": [
        "word2find = input(\"What word do you want collocates for? \").lower() # AsSa\r\n",
        "#name2find = input (\"Type the name of the politician?\")\r\n",
        "context = input (\"How much content do you want?\")\r\n",
        "contextInt = int(context)"
      ],
      "execution_count": null,
      "outputs": [
        {
          "output_type": "stream",
          "text": [
            "What word do you want collocates for? profit\n",
            "How much content do you want?20\n"
          ],
          "name": "stdout"
        }
      ]
    },
    {
      "cell_type": "code",
      "metadata": {
        "id": "VanxRqqdoKre"
      },
      "source": [
        "def makeConc(word2conc,list2FindIn,context2Use,concList):\r\n",
        "\r\n",
        "    end = len(list2FindIn)\r\n",
        "    for location in range(end):\r\n",
        "        pattern = re.compile(word2conc)\r\n",
        "        if pattern.match(list2FindIn[location]):\r\n",
        "#        if list2FindIn[location] == word2conc:\r\n",
        "\r\n",
        "            # Here we check whether we are at the very beginning or end\r\n",
        "            if (location - context2Use) < 0:\r\n",
        "                beginCon = 0\r\n",
        "            else:\r\n",
        "                beginCon = location - context2Use\r\n",
        "                \r\n",
        "            if (location + context2Use) > end:\r\n",
        "                endCon = end\r\n",
        "            else:\r\n",
        "                endCon = location + context2Use + 1\r\n",
        "                \r\n",
        "            theContext = (list2FindIn[beginCon:endCon])\r\n",
        "            concordanceLine = ' '.join(theContext)\r\n",
        "            # print(str(location) + \": \" + concordanceLine)\r\n",
        "            concList.append(str(location) + \": \" + concordanceLine)"
      ],
      "execution_count": null,
      "outputs": []
    },
    {
      "cell_type": "code",
      "metadata": {
        "id": "6FrodQ6zoNuW"
      },
      "source": [
        "#edw emfanizontai ta apotelesmata poy tha koitaxoume"
      ],
      "execution_count": null,
      "outputs": []
    },
    {
      "cell_type": "code",
      "metadata": {
        "colab": {
          "base_uri": "https://localhost:8080/"
        },
        "id": "cLqYhexIoOlX",
        "outputId": "34907dfb-555f-4cd3-fb88-f1295eba0ba4"
      },
      "source": [
        "theRowConc = []\r\n",
        "for index, row in Downsizing_df.iterrows():\r\n",
        "    makeConc(word2find, word_tokenize(row['body']), int(context), theRowConc) #here you can change the body to other column\r\n",
        "    if  len(theRowConc) > 0:\r\n",
        "        print(index, theRowConc)\r\n",
        "    theRowConc = []"
      ],
      "execution_count": null,
      "outputs": [
        {
          "output_type": "stream",
          "text": [
            "3 ['113: can take advantage of the loan offered by Rishi Sunak as they are not in a position to make a profit for a number of months at least to be able to pay back the loan at a later date .']\n",
            "45 ['77: the number of infections of those with airy gardens . Recessions reduce inequality , they always do . It is profits that fall furthest and fastest and it is the richer among us who gain more of their income from profits', '97: profits that fall furthest and fastest and it is the richer among us who gain more of their income from profits . The poorest among us are hardly even in the market economy with respect to incomes , gaining such from']\n",
            "47 ['366: to the investor : e.g . Income tax relief of 30 % of investment ; No capital gains tax on profits ( if held for defined period ) ; Investment losses can be offset against income tax ; No inheritance tax']\n",
            "72 ['329: of the actions of soulless multinationals and rapacious local entrepreneurs , whose only concern was to take advantage of the profit opportunities offered by cheap labor . It is not an edifying spectacle ; but no matter how base the motives']\n",
            "103 ['337: the public conversation just how expensive drug development is - as opposed to the usual complaints about how high the profits are . For in that usual complaint about capitalist drug development the comparison is made between the amount one company']\n",
            "110 ['176: to stop treatments being made available to everyone . People , runs the argument , need to be put before profits . But hold on . That ’ s crazy . In truth , we should increase the incentives to find', '534: first with something that works . The second would be the award of a patent - therefore the ability to profit from the use of - for whatever works . Which is the best system ? It is unlikely that governments']\n",
            "118 ['377: first five years should pay taxes , e.g . business rates , until it generates at least twice as much profit as the levied tax . Furthermore , following Brexit , no business should pay taxes on its first five years', '400: levied tax . Furthermore , following Brexit , no business should pay taxes on its first five years of export profits . It seems unlikely that generalised tax cuts or incentives would boost trade and industry or be affordable by the']\n",
            "122 ['151: sheet . Otherwise , it is current expenditure , like wages and travelling costs ; accountants put that in the profit and loss , or income and expenditure , account . Politicians would like us to believe that all their investments', '343: private sector would secure so much better deals than unworldly civil servants , and those savings would outweigh the no-risk profits to the investors . If the investors had been undertaking these projects for themselves , maybe they would have found']\n",
            "127 ['536: natural home for most high-powered investment projects is in the privately owned , internationally traded , light industrial sector where profitability is crucial . The problem is that our overvalued currency makes it unprofitable to invest in new manufacturing production facilities', '630: returns to the economy as a whole – including higher wages and salaries , better and cheaper products , greater profitability and a stronger tax base – of at least 50 % per annum . 4 % x 50 % equals']\n",
            "136 ['245: no obvious limits . Wealth also accumulates because people create business assets which increase in value as investors anticipate future profits . Some people have grown fabulously wealthy this way , including many who own companies that have not yet made', '266: . Some people have grown fabulously wealthy this way , including many who own companies that have not yet made profits . There are certainly such people in California . There can be debates about capital gains tax on realised and', '300: about capital gains tax on realised and unrealised gains , but the way to tax such assets is when the profits actually roll in : those profits can , and will , be taxed directly . To tax wealth in anticipation', '306: and unrealised gains , but the way to tax such assets is when the profits actually roll in : those profits can , and will , be taxed directly . To tax wealth in anticipation of a business becoming successful is']\n",
            "138 ['1033: maintain or improves one ’ s position relative to others rather than to do better by some criterion such as profitability or quality . There are strong similarities to competitive sport and the results are the same as in the Football']\n",
            "142 ['965: northern Europe have called for leaner , more efficient health service provisions . It is time to learn from the profit-making health entrepreneurs who have made this dream come true , based on well-known market principles of streamlined workflows and specialisation', '1005: specialisation . The core lesson is that health capitalism works , as long as providers are given freedom to seek profit and adapt novel work organisation . It is time to challenge the Western notion that health must be highly regulated']\n",
            "149 ['208: example we can use is capital gains tax on company shares . Share prices can go up when companies retain profits , thus raising the value of assets in respect of each share . They also rise when investors anticipate higher', '229: , thus raising the value of assets in respect of each share . They also rise when investors anticipate higher profits in the future . So-called unicorn shares often see very high valuations before they make profits for this reason .', '245: when investors anticipate higher profits in the future . So-called unicorn shares often see very high valuations before they make profits for this reason . In both these situations , the profits that companies have earned and retained or will learn', '256: shares often see very high valuations before they make profits for this reason . In both these situations , the profits that companies have earned and retained or will learn in the future are taxed at the time they are earned', '297: through the corporation tax system . The valuation of a unicorn company already reflects taxes that will be paid on profits in the future . Capital Gains Tax is an unjust double tax . Of course , share prices also fluctuate']\n",
            "162 ['344: willing to work together and cooperate in the wider public interest . These examples demonstrate that free-market capitalism and the profit motive are perfectly compatible with socially responsible behaviour . And in many cases , the state hasn ’ t had']\n",
            "178 ['254: % reflecting the values of ( a ) the banks ’ assets , ( b ) the banks ’ future profitability , or franchise value , and ( c ) the shareholders ’ limited liability put option . Their capital ratios', '770: The central issue here is not the bankers ’ wish to take excessive risks so that they can enjoy enhanced profits in the good times and be bailed out in the bad , at ever growing cost to society at large']\n",
            "182 ['689: true in the financial world ’ . Indeed it would , but the ROI estimates do not represent a financial profit , nor is the return on investment a ‘ cash return ’ . If academic researchers are unable to distinguish']\n",
            "188 ['308: business rates are ‘ really ’ paid by owners of property freeholds anyway . If a business is to be profitable , given its production costs and the willingness of consumers to pay for its services , there is a maximum']\n",
            "194 ['300: of moral obligation on the part of the Executive to punish those commercialising these basic necessities with the intention of profiting from the suffering of others . However , this line of thought betrays the overly simplistic argument of the theory', '633: to P+2 and still manages to sell them all ? Interventionists would oppose it , arguing that the businessman is profiting from the increase in costs derived from the higher demand . For the interventionist , it is at is this']\n",
            "197 ['33: blame in this time of national crisis – and who better than City ‘ fat cats ’ who are ‘ profiting from the misery of others ’ ? But it usually only takes a moment of serious thought to realise that', '211: to the original holder . If their price has fallen in the meantime , the short seller will make a profit ( less the fees and other transaction costs incurred ) . But if the price has risen , the short', '867: than their peers . It wouldn ’ t make much sense either to impose an additional windfall tax on any profits from short selling ( on top of the taxes that would already be due ) . For a start ,']\n",
            "198 ['1088: able to function as long as the future could be reliably calculated . Stock markets price in tomorrow ’ s profits. ” But , according to Hermann , the corona crisis now shows that there is “ no alternative to solidarity…that']\n",
            "209 ['1045: is trying to sell them at vastly inflated prices in their corner shop or online . That is pure ‘ profiteering ’ , or ‘ price gouging ’ , and even I ’ m against it . However , if an']\n",
            "215 ['375: Facing considerable competition , it is difficult for them to push up prices , so adjustment comes from reductions in profits ( already low in these sectors ) , work intensification and cutting back on investment . These expedients can only']\n",
            "216 ['607: even just within the capital gains tax system . In particular the “ private residence relief ” that makes the profit on selling your home free from tax , and the individual savings account ( ISA ) exemption that allows tax-free', '628: on selling your home free from tax , and the individual savings account ( ISA ) exemption that allows tax-free profits on investing in quoted shares ( up to a limit ) . There is no suggestion at all of abolishing']\n",
            "219 ['964: it was reformulated and the makers of Irn-Bru , which had its sugar content more than halved , issued a profit warning in July 2019 after sales declined . Consumers have protested against the changes , with some buying original bottles']\n",
            "220 ['542: longer holidays , parental leave – all are a cost to the employer and ultimately reduce the amount they can profitably pay in wages . The rapid growth in these obligations in the last twenty years , coupled with lower productivity']\n",
            "228 ['1148: to the highest bidder ; the BBC should be owned by its subscribers . It is not about making a profit . The principle is simply that those who don ’ t want to watch a set of television channels shouldn']\n",
            "255 ['93: problem with that ? A windfall tax is targeted at a particular industry which has in some way made higher profits as a result of an event that is beyond its control . They were used at least twice in the', '164: suffered by other parts of industry and commerce . The following year , there were additional taxes imposed on the profits from North Sea oil . As Chancellor , Gordon Brown then imposed windfall taxes on the privatised utilities in 1997', '216: . He justified his decision on the grounds that they had monopoly power which had led them to make excess profits . In the wake of the pandemic , it has been argued that supermarkets and companies that rely on online', '331: At least in the case of the North Sea oil and the utilities tax it could be argued that the profits arose as a result of the failure of government policy . In the case of oil , the government grants', '358: failure of government policy . In the case of oil , the government grants monopoly rights to drill , and profits were boosted by the OPEC cartel . In the case of the privatised utilities , it could be argued that', '411: the banking sector , back in 1981 , was so protected by government that it could be argued that excess profits were made by the banks . However , even in these circumstances , windfall taxes were a bad idea .', '436: banks . However , even in these circumstances , windfall taxes were a bad idea . Firstly , reduced post-tax profits lead to reduced returns on pension savings ( which in the case of the tax on privatised utilities contributed to', '714: least to some extent , Zoom will replace business travel and online shopping will replace high street stores . The profits made by the businesses that have thrived in the pandemic are the spur to more competition in these areas .']\n",
            "260 ['464: are some issues with the tax . It contradicts a core pillar of taxation theory : the idea that only profits , not revenue , should be taxed , if we are to preserve the ability-to-pay principle . Further , tax', '683: inhibitive of future investment . The UK ’ s Diverted Profits Tax countered such concerns by charging punitive rates on profits routed via tax havens , namely “ contrived arrangements ” , and without a particular focus on the tech industry']\n",
            "263 ['536: natural home for most high-powered investment projects is in the privately owned , internationally traded , light industrial sector where profitability is crucial . The problem is that our overvalued currency makes it unprofitable to invest in new manufacturing production facilities', '630: returns to the economy as a whole – including higher wages and salaries , better and cheaper products , greater profitability and a stronger tax base – of at least 50 % per annum . 4 % x 50 % equals']\n",
            "287 ['77: U.S. economic history reveals why aggressive antitrust policy makes no sense . When a big tech company is earning high profits , it attracts competitors like sharks smelling blood in the water , which is a good thing . Meanwhile ,', '104: smelling blood in the water , which is a good thing . Meanwhile , what do tech firms earning high profits use them for ? To push innovation forward by funding huge amounts of research . The Wall Street Journal outlines', '308: $ 450 million in private investments in 2017 and 2018 , ” which is impressive given that skeptics say that profit‐\\u200bseeking companies don ’ t do basic long‐\\u200bterm research . Microsoft has been funding quantum computing research for many years ,', '334: basic long‐\\u200bterm research . Microsoft has been funding quantum computing research for many years , which a stream of solid profits has made possible . Some of the firms the Journal profiles are focused on making short‐\\u200bterm breakthroughs , but other', '408: about . Politicians , pundits , and antitrust lawyers claim to know the proper size of companies , how large profits ought to be , and how industries should be structured . They don ’ t . We need markets to']\n",
            "334 ['45: billion in debt that millions of students freely accepted to greatly increase their lifetime earnings . That ’ s private profit , socialized cost . Now Warren is declaring that she ’ ll combine bad policy with even more dangerous government']\n",
            "342 ['745: . Of course , for many existing businesses , converting operations to produce these needed commodities doesn ’ t portend profitability . And without a degree of certainty as to how much will be demanded and for how long , it']\n",
            "367 ['389: toward $ 5 trillion even before the extraordinary spending now being contemplated , many companies and interest groups see a profit opportunity . It ’ s worth hiring platoons of lobbyists to get just a small , an infinitesimal , sliver']\n",
            "369 ['620: U.S. producers ’ costs of production and/\\u200bor an increase in Americans ’ cost of living . Businesses were made less profitable ( which means less investment and less hiring ) and individuals and families experienced lower real income , on account', '1084: VOLTAGE NOT EXCEEDING 1,000 V ” ) are all higher on account of these tariffs . Higher costs mean lower profits , which means businesses have fewer resources to investment and create jobs . Or higher costs mean higher prices ,', '1147: that are consumer products directly reduce real income , unless retailers absorb the costs , which then translate into lower profits , less investment , and less hiring . The bottom line is that the costs of Trump ’ s tariff']\n",
            "373 ['1447: perhaps the increased liability risk would encourage them to take more steps to prevent abuses . But governments are not profit‐\\u200bmaximizing entities , and they do not respond to costs the way private businesses do . Sometimes , politicians may conclude', '1548: prompted the city to fundamentally rethink its approach to policing . But the mere fact that governments are not “ profit‐\\u200bmaximizing entities ” doesn ’ t mean they don ’ t respond to financial incentives . Indeed , it ’ s']\n",
            "377 ['641: They certainly don ’ t want to expose themselves to liability concerns and potential long-term damage to their reputation and profitability . These reforms may not have an immediate impact during the pandemic . But they would change market dynamics ,']\n",
            "405 ['54: $ 4 trillion of tax increases . A general indifference in Congress to growing deficits makes things worse . The profits from investments made today will be taxed tomorrow . Same goes for starting a business or going back to school']\n",
            "416 ['726: Commercials and advertisements can remind folks of the weighty importance of the day . Companies can commit part of their profits to charities like TAPS—the Tragedy Assistance Program for Survivors , which provides assistance to the children of fallen military personnel']\n",
            "427 ['666: U.S. prior to the pandemic , mask production had largely moved offshore . Restarting that production and ensuring it was profitable could have been difficult for businesses because single-use masks ( often imported from China ) could be purchased for as']\n",
            "466 ['973: strong business plan and increasing transparency would give the Postal Service more credibility to request flexibility from Congress . Improving profitability through organizational reforms and optimized pricing would give the Postal Service more resources to fund its retirement plans . As']\n",
            "541 ['257: federal minimum wage from $ 7.25 to $ 15 would mean an $ 85,800 wage increase . With low restaurant profit margins of about 5 % , that would require an extra $ 1.717 million in food sales—a seemingly impossible feat']\n",
            "560 ['609: market weathered the shock of Obamacare ’ s early years and , fortified by federal handouts , are pocketing handsome profits . Five big players now collectively control half the individual market , growing their market share by 20 percentage points', '844: insurers are paying much less in medical claims than they expected when they set premiums for 2020 , fattening their profit margins . The House seems poised to pass a bill that would fatten them even more . It ’ s']\n",
            "563 ['408: closed ) and forcing families to fork over hundreds of dollars per week for child care . That ’ s profiting off the backs of parents who have already paid for “ free ” public schools . It also begs the']\n",
            "569 ['785: civilians . Excessive monetary demands degrade alliances based on shared principles and goals into mere transactional relationships . Seeking to profit off U.S. forces overseas is inconsistent with American values and commitments . Alliances are not valued in dollars and cents']\n",
            "592 ['496: prop up favored technologies . In other instances , successful projects result from the Energy Department awarding money to very profitable , well-established companies or ones that benefit from the great number of federal , state , and local subsidies at', '550: government at all levels . And yet , some of these projects may be innovative , competitive , and turn profits . However , if that ’ s the case , private actors should bear all the risk . Perhaps the']\n",
            "618 ['159: to your inbox each week . Subscribe to The Agenda > > Here in the U.S. , China is also profiting from the U.S. media ’ s rush to take China ’ s side in a battle with a Trump administration']\n",
            "627 ['331: . Trafficking in persons is a serious crime and a gross violation of human rights . Traffickers are involved and profit from every facet of illegal migration , in addition to perpetrating many crimes against illegal migrants , including rape ,']\n",
            "649 ['561: hour in unemployment benefits as well as lower taxes on unemployment ) . With five full-time employees and typical restaurant profit margins of 5 percent , that would require increasing sales by $ 45,500 each week , or an extra $']\n",
            "667 ['539: , and diminishing trade skills . Many companies crucial to the nation ’ s defense are small businesses with narrow profit margins who struggle to survive . Even large companies face sizeable obstacles , like unpredictable government funding and threats to']\n",
            "682 ['467: and price gouging at horrifically inflated prices to the fearful or to truly needy organizations . That ’ s war profiteering , pure and simple , and must be reported wherever it ’ s found , so the FBI can find']\n",
            "755 ['208: big business leaders have gone to the president to beg him not to interfere with their lucrative business models and profits . Sen. Tammy Baldwin , D-Wis. , has even introduced legislation to force the administration to start using the law']\n",
            "771 ['315: However , workers often face different incentives . The expanded unemployment benefits included in the CARES Act make it more profitable not to work than to work for as many as 3 in 4 workers . Now , Congress is considering']\n",
            "779 ['531: , such as startups that run large losses in the initial years with a small probability of successfully making a profit in the future . Freeing up domestic capital and reducing the tax penalty for entrepreneurs have the potential to be']\n"
          ],
          "name": "stdout"
        }
      ]
    },
    {
      "cell_type": "code",
      "metadata": {
        "id": "LxLfK-bkoUf_"
      },
      "source": [
        "def makeCollocates(word2coll,list2FindIn,context2Use,collist):\r\n",
        "    end = len(list2FindIn)\r\n",
        "    counter = 0\r\n",
        "    theCollocates = []\r\n",
        "    for word in list2FindIn:\r\n",
        "        pattern = re.compile(word2coll)\r\n",
        "        if pattern.match(word):       \r\n",
        "#        if word == word2coll: # This checks to see if the word is what we want\r\n",
        "            for i in range(context2Use):\r\n",
        "                if (counter - (i + 1)) >= 0: # This checks that we aren't at the beginning\r\n",
        "                    theCollocates.append(list2FindIn[(counter - (i + 1))]) # This adds words before\r\n",
        "                if (counter + (i + 1)) < end: # This checks that we aren't at the end\r\n",
        "                    theCollocates.append(list2FindIn[(counter + (i + 1))]) # This adds words after\r\n",
        "        counter = counter + 1\r\n",
        "    if len(theCollocates) > 0:\r\n",
        "        collist.append(theCollocates)\r\n",
        "    \r\n",
        "#print(theCollocates[:10])"
      ],
      "execution_count": null,
      "outputs": []
    },
    {
      "cell_type": "code",
      "metadata": {
        "id": "55aYKv9koXW-"
      },
      "source": [
        "theRowColl = []\r\n",
        "theCollocations = []\r\n",
        "for index, row in Downsizing_df.iterrows():\r\n",
        "    makeCollocates(word2find, word_tokenize(row['body']), int(context), theRowColl) #here you can change the body to other column\r\n",
        "#    if  len(theRowColl) > 0:\r\n",
        "#        print(index, theRowColl)\r\n",
        "    if len(theRowColl) > 0:\r\n",
        "        theCollocations.extend(theRowColl)\r\n",
        "    theRowColl = []"
      ],
      "execution_count": null,
      "outputs": []
    },
    {
      "cell_type": "markdown",
      "metadata": {
        "id": "p6QfIAtbobPU"
      },
      "source": [
        "Collocations"
      ]
    },
    {
      "cell_type": "code",
      "metadata": {
        "colab": {
          "base_uri": "https://localhost:8080/"
        },
        "id": "QA6G3ydRobum",
        "outputId": "d13bc905-9720-49c0-95b3-90bec74e3c48"
      },
      "source": [
        "import nltk\r\n",
        "from nltk.tokenize import word_tokenize\r\n",
        "nltk.download('punkt')"
      ],
      "execution_count": null,
      "outputs": [
        {
          "output_type": "stream",
          "text": [
            "[nltk_data] Downloading package punkt to /root/nltk_data...\n",
            "[nltk_data]   Package punkt is already up-to-date!\n"
          ],
          "name": "stdout"
        },
        {
          "output_type": "execute_result",
          "data": {
            "text/plain": [
              "True"
            ]
          },
          "metadata": {
            "tags": []
          },
          "execution_count": 18
        }
      ]
    },
    {
      "cell_type": "code",
      "metadata": {
        "colab": {
          "base_uri": "https://localhost:8080/"
        },
        "id": "1I6CocXZoeGP",
        "outputId": "ddc0ec30-4ebf-476b-956e-52b3726cdd54"
      },
      "source": [
        "import string\r\n",
        "punctL = list(set(string.punctuation))\r\n",
        "\r\n",
        "punctL.append('«')\r\n",
        "punctL.append('’')\r\n",
        "punctL.append('»')\r\n",
        "punctL.append('–')\r\n",
        "punctL"
      ],
      "execution_count": null,
      "outputs": [
        {
          "output_type": "execute_result",
          "data": {
            "text/plain": [
              "['!',\n",
              " '.',\n",
              " '<',\n",
              " '|',\n",
              " '\"',\n",
              " '+',\n",
              " '^',\n",
              " '{',\n",
              " '_',\n",
              " '~',\n",
              " '@',\n",
              " '}',\n",
              " \"'\",\n",
              " '#',\n",
              " '%',\n",
              " '>',\n",
              " '[',\n",
              " ':',\n",
              " ',',\n",
              " '-',\n",
              " '$',\n",
              " '&',\n",
              " ';',\n",
              " '?',\n",
              " '=',\n",
              " '\\\\',\n",
              " '*',\n",
              " ']',\n",
              " '/',\n",
              " '`',\n",
              " ')',\n",
              " '(',\n",
              " '«',\n",
              " '’',\n",
              " '»',\n",
              " '–']"
            ]
          },
          "metadata": {
            "tags": []
          },
          "execution_count": 19
        }
      ]
    },
    {
      "cell_type": "code",
      "metadata": {
        "id": "f2qg4uiOoiOe"
      },
      "source": [
        "Downsizing_df.body = Downsizing_df.body.apply( lambda x: ' '.join([w for w in word_tokenize(x) if (not w in list(set(stop_words).union(punctL))) & w.isalpha() ]))"
      ],
      "execution_count": null,
      "outputs": []
    },
    {
      "cell_type": "code",
      "metadata": {
        "id": "gvjFQh_tolf1"
      },
      "source": [
        "def makeCollocates(word2coll,list2FindIn,context2Use,collist):\r\n",
        "    end = len(list2FindIn)\r\n",
        "    counter = 0\r\n",
        "    theCollocates = []\r\n",
        "    for word in list2FindIn:\r\n",
        "        pattern = re.compile(word2coll)\r\n",
        "        if pattern.match(word):       \r\n",
        "#        if word == word2coll: # This checks to see if the word is what we want\r\n",
        "            for i in range(context2Use):\r\n",
        "                if (counter - (i + 1)) >= 0: # This checks that we aren't at the beginning\r\n",
        "                    theCollocates.append(list2FindIn[(counter - (i + 1))]) # This adds words before\r\n",
        "                if (counter + (i + 1)) < end: # This checks that we aren't at the end\r\n",
        "                    theCollocates.append(list2FindIn[(counter + (i + 1))]) # This adds words after\r\n",
        "        counter = counter + 1\r\n",
        "    if len(theCollocates) > 0:\r\n",
        "        collist.append(theCollocates)\r\n",
        "    \r\n",
        "#print(theCollocates[:10])"
      ],
      "execution_count": null,
      "outputs": []
    },
    {
      "cell_type": "code",
      "metadata": {
        "id": "d8DWn7nVon2u"
      },
      "source": [
        "theRowColl = []\r\n",
        "theCollocations = []\r\n",
        "for index, row in Downsizing_df.iterrows():\r\n",
        "    makeCollocates(word2find, word_tokenize(row['body']), int(context), theRowColl) #here you can change the body to other column\r\n",
        "#    if  len(theRowColl) > 0:\r\n",
        "#        print(index, theRowColl)\r\n",
        "    if len(theRowColl) > 0:\r\n",
        "        theCollocations.extend(theRowColl)\r\n",
        "    theRowColl = []"
      ],
      "execution_count": null,
      "outputs": []
    },
    {
      "cell_type": "code",
      "metadata": {
        "colab": {
          "base_uri": "https://localhost:8080/"
        },
        "id": "2zoqka96opX_",
        "outputId": "59c1c4d3-15ad-49e8-dc25-19b8bb358984"
      },
      "source": [
        "import itertools\r\n",
        "mergedCollocations = list(itertools.chain(*theCollocations))\r\n",
        "CollocationsNoStopWords =  [w for w in mergedCollocations if (not w in list(set(stop_words))) ]\r\n",
        "print(CollocationsNoStopWords)"
      ],
      "execution_count": null,
      "outputs": [
        {
          "output_type": "stream",
          "text": [
            "['make', 'number', 'position', 'months', 'Sunak', 'least', 'Rishi', 'able', 'offered', 'pay', 'loan', 'back', 'advantage', 'loan', 'take', 'later', 'sector', 'date', 'leisure', 'makes', 'hospitality', 'sense', 'businesses', 'liquidate', 'way', 'business', 'stage', 'sack', 'indeterminable', 'staff', 'months', 'pay', 'period', 'suppliers', 'remain', 'indeed', 'interrupted', 'taxman', 'businesses', 'often', 'always', 'fall', 'inequality', 'furthest', 'reduce', 'fastest', 'Recessions', 'richer', 'gardens', 'among', 'airy', 'gain', 'infections', 'income', 'number', 'profits', 'times', 'poorest', 'many', 'among', 'proportionally', 'hardly', 'suffered', 'market', 'dwellings', 'economy', 'crammed', 'respect', 'Families', 'incomes', 'politically', 'gaining', 'undeniable', 'benefits', 'inequality', 'problem', 'levels', 'simply', 'increasing', 'observation', 'income', 'poorest', 'gain', 'among', 'among', 'hardly', 'richer', 'market', 'fastest', 'economy', 'furthest', 'respect', 'fall', 'incomes', 'profits', 'gaining', 'always', 'benefits', 'inequality', 'problem', 'reduce', 'simply', 'Recessions', 'observation', 'gardens', 'fall', 'airy', 'recession', 'infections', 'Income', 'number', 'inequality', 'times', 'therefore', 'many', 'reduces', 'proportionally', 'recession', 'suffered', 'small', 'tax', 'held', 'gains', 'defined', 'capital', 'period', 'No', 'Investment', 'investment', 'losses', 'relief', 'offset', 'tax', 'income', 'Income', 'tax', 'investor', 'No', 'advantages', 'inheritance', 'tax', 'tax', 'significant', 'shares', 'enterprises', 'like', 'social', 'anything', 'companies', 'administered', 'sized', 'HMRC', 'medium', 'schemes', 'small', 'complex', 'support', 'bureaucratic', 'financial', 'Many', 'advantage', 'opportunities', 'take', 'offered', 'concern', 'cheap', 'whose', 'labor', 'entrepreneurs', 'edifying', 'local', 'spectacle', 'rapacious', 'matter', 'multinationals', 'base', 'soulless', 'motives', 'actions', 'involved', 'result', 'result', 'unintended', 'move', 'indirect', 'hundreds', 'ever', 'millions', 'corrupt', 'people', 'callous', 'abject', 'governments', 'poverty', 'national', 'something', 'policies', 'still', 'benign', 'awful', 'high', 'usual', 'complaints', 'complaint', 'usual', 'capitalist', 'opposed', 'drug', 'development', 'development', 'drug', 'comparison', 'expensive', 'made', 'conversation', 'amount', 'public', 'company', 'bring', 'invested', 'side', 'drug', 'bright', 'amount', 'look', 'money', 'However', 'received', 'tests', 'done', 'cryin', 'Which', 'wailin', 'correct', 'forth', 'comparison', 'call', 'Rather', 'Which', 'money', 'put', 'hold', 'need', 'crazy', 'argument', 'truth', 'runs', 'increase', 'People', 'incentives', 'everyone', 'find', 'available', 'vaccines', 'made', 'drugs', 'treatments', 'combat', 'stop', 'virus', 'allowed', 'reduce', 'companies', 'Quite', 'arguing', 'face', 'economists', 'large', 'Vaccine', 'expensive', 'People', 'problem', 'campaign', 'like', 'leading', 'mobilise', 'Oxfam', 'collective', 'charities', 'resources', 'ability', 'use', 'therefore', 'whatever', 'patent', 'works', 'award', 'Which', 'second', 'best', 'works', 'system', 'something', 'unlikely', 'first', 'governments', 'gets', 'agree', 'whoever', 'pay', 'payment', 'sorts', 'sum', 'sums', 'lump', 'provide', 'large', 'correct', 'first', 'incentive', 'vaccine', 'expensive', 'treatment', 'problem', 'prize', 'immediate', 'offer', 'week', 'governments', 'makes', 'much', 'levied', 'twice', 'tax', 'least', 'Furthermore', 'generates', 'following', 'rates', 'Brexit', 'business', 'business', 'taxes', 'pay', 'pay', 'taxes', 'years', 'first', 'five', 'five', 'first', 'years', 'business', 'export', 'rule', 'profits', 'general', 'seems', 'example', 'unlikely', 'effects', 'generalised', 'antidepressant', 'tax', 'clear', 'cuts', 'show', 'incentives', 'targeted', 'boost', 'export', 'seems', 'years', 'unlikely', 'five', 'generalised', 'first', 'tax', 'taxes', 'cuts', 'pay', 'incentives', 'business', 'boost', 'Brexit', 'trade', 'following', 'industry', 'Furthermore', 'affordable', 'tax', 'Exchequer', 'levied', 'Relative', 'profit', 'countries', 'much', 'France', 'twice', 'Italy', 'least', 'UK', 'generates', 'competitive', 'rates', 'advantage', 'business', 'setting', 'taxes', 'business', 'put', 'loss', 'accountants', 'income', 'costs', 'expenditure', 'travelling', 'account', 'wages', 'Politicians', 'like', 'like', 'expenditure', 'believe', 'current', 'investments', 'Otherwise', 'money', 'sheet', 'good', 'balance', 'provide', 'put', 'generous', 'accountants', 'return', 'years', 'due', 'future', 'course', 'benefits', 'Yet', 'today', 'many', 'spent', 'investments', 'money', 'ground', 'means', 'nuts', 'outweigh', 'investors', 'savings', 'investors', 'servants', 'undertaking', 'civil', 'projects', 'unworldly', 'maybe', 'deals', 'found', 'better', 'savings', 'much', 'spending', 'secure', 'people', 'sector', 'money', 'private', 'Norfolk', 'idea', 'Norwich', 'place', 'University', 'first', 'Hospital', 'bill', 'example', 'picked', 'private', 'Treasury', 'finance', 'deal', 'initiative', 'great', 'PFI', 'cost', 'deal', 'sector', 'crucial', 'industrial', 'problem', 'light', 'overvalued', 'traded', 'currency', 'internationally', 'makes', 'owned', 'unprofitable', 'privately', 'invest', 'projects', 'new', 'investment', 'manufacturing', 'home', 'production', 'natural', 'facilities', 'less', 'UK', 'Now', 'rather', 'UK', 'elsewhere', 'originated', 'key', 'exports', 'getting', 'manufactured', 'growth', 'manufacturing', 'rate', 'UK', 'therefore', 'strong', 'use', 'greater', 'stronger', 'products', 'tax', 'cheaper', 'base', 'better', 'least', 'salaries', 'per', 'wages', 'annum', 'higher', 'x', 'including', 'equals', 'whole', 'increase', 'economy', 'growth', 'returns', 'rate', 'producing', 'much', 'capable', 'competitive', 'easily', 'currency', 'investment', 'capable', 'type', 'achieving', 'GDP', 'Is', 'ideally', 'possible', 'investment', 'Yes', 'spend', 'involves', 'future', 'Some', 'anticipate', 'people', 'investors', 'grown', 'value', 'fabulously', 'increase', 'wealthy', 'assets', 'way', 'business', 'including', 'create', 'many', 'people', 'companies', 'accumulates', 'yet', 'Wealth', 'made', 'limits', 'profits', 'obvious', 'certainly', 'rights', 'people', 'property', 'California', 'attack', 'debates', 'direct', 'capital', 'basis', 'gains', 'annual', 'tax', 'wealth', 'realised', 'made', 'certainly', 'yet', 'people', 'companies', 'California', 'many', 'debates', 'including', 'capital', 'way', 'gains', 'wealthy', 'tax', 'fabulously', 'realised', 'grown', 'unrealised', 'people', 'gains', 'Some', 'way', 'profits', 'tax', 'future', 'assets', 'anticipate', 'profits', 'investors', 'actually', 'value', 'roll', 'increase', 'profits', 'assets', 'taxed', 'business', 'directly', 'create', 'To', 'assets', 'actually', 'tax', 'roll', 'way', 'profits', 'gains', 'taxed', 'unrealised', 'directly', 'realised', 'To', 'tax', 'tax', 'gains', 'wealth', 'capital', 'anticipation', 'debates', 'business', 'California', 'becoming', 'people', 'successful', 'certainly', 'bit', 'profits', 'like', 'made', 'special', 'yet', 'tax', 'companies', 'farmer', 'many', 'bull', 'including', 'much', 'way', 'better', 'roll', 'taxed', 'actually', 'directly', 'profits', 'To', 'assets', 'tax', 'tax', 'wealth', 'way', 'anticipation', 'gains', 'business', 'unrealised', 'becoming', 'realised', 'successful', 'tax', 'bit', 'gains', 'like', 'capital', 'special', 'debates', 'tax', 'California', 'farmer', 'people', 'bull', 'certainly', 'much', 'profits', 'better', 'made', 'tax', 'yet', 'farmer', 'companies', 'income', 'criterion', 'quality', 'better', 'strong', 'rather', 'similarities', 'others', 'competitive', 'relative', 'sport', 'position', 'results', 'improves', 'Football', 'maintain', 'League', 'simply', 'overspending', 'goal', 'lack', 'performance', 'real', 'absolute', 'competition', 'rather', 'inflated', 'relative', 'salaries', 'success', 'internal', 'measure', 'beneficiaries', 'competition', 'senior', 'race', 'managers', 'arms', 'huge', 'form', 'problem', 'seek', 'adapt', 'freedom', 'novel', 'given', 'work', 'providers', 'organisation', 'long', 'time', 'works', 'challenge', 'capitalism', 'Western', 'health', 'notion', 'lesson', 'health', 'core', 'must', 'specialisation', 'highly', 'workflows', 'regulated', 'streamlined', 'order', 'principles', 'succeed', 'market', 'article', 'based', 'first', 'true', 'published', 'come', 'CapX', 'dream', 'Suggestions', 'made', 'Henry', 'retain', 'thus', 'companies', 'raising', 'go', 'value', 'prices', 'assets', 'Share', 'respect', 'shares', 'share', 'company', 'rise', 'tax', 'investors', 'gains', 'anticipate', 'capital', 'higher', 'use', 'profits', 'example', 'future', 'pertinent', 'unicorn', 'Perhaps', 'shares', 'abolished', 'often', 'largely', 'see', 'largely', 'high', 'tax', 'valuations', 'Instead', 'make', 'argument', 'profits', 'higher', 'future', 'anticipate', 'unicorn', 'investors', 'shares', 'rise', 'often', 'share', 'see', 'respect', 'high', 'assets', 'valuations', 'value', 'make', 'raising', 'profits', 'thus', 'reason', 'profits', 'situations', 'retain', 'profits', 'companies', 'companies', 'go', 'earned', 'prices', 'retained', 'Share', 'learn', 'shares', 'future', 'company', 'taxed', 'tax', 'time', 'gains', 'earned', 'make', 'reason', 'valuations', 'situations', 'high', 'profits', 'see', 'companies', 'often', 'earned', 'shares', 'retained', 'unicorn', 'learn', 'future', 'future', 'profits', 'taxed', 'higher', 'time', 'anticipate', 'earned', 'investors', 'corporation', 'rise', 'tax', 'share', 'system', 'respect', 'valuation', 'assets', 'unicorn', 'value', 'company', 'raising', 'already', 'thus', 'reflects', 'profits', 'taxes', 'situations', 'companies', 'reason', 'earned', 'profits', 'retained', 'make', 'learn', 'valuations', 'future', 'high', 'taxed', 'see', 'time', 'often', 'earned', 'shares', 'corporation', 'unicorn', 'tax', 'future', 'system', 'profits', 'valuation', 'higher', 'unicorn', 'anticipate', 'company', 'investors', 'already', 'rise', 'reflects', 'share', 'taxes', 'respect', 'paid', 'assets', 'profits', 'value', 'future', 'paid', 'future', 'taxes', 'Capital', 'reflects', 'Gains', 'already', 'Tax', 'company', 'unjust', 'unicorn', 'double', 'valuation', 'tax', 'system', 'Of', 'tax', 'course', 'corporation', 'share', 'earned', 'prices', 'time', 'fluctuate', 'taxed', 'changes', 'future', 'interest', 'learn', 'rates', 'retained', 'changes', 'earned', 'risk', 'companies', 'monetary', 'profits', 'booms', 'situations', 'busts', 'capitalism', 'motive', 'demonstrate', 'perfectly', 'examples', 'compatible', 'interest', 'socially', 'public', 'responsible', 'wider', 'behaviour', 'cooperate', 'many', 'together', 'cases', 'work', 'state', 'willing', 'anything', 'businesses', 'get', 'private', 'way', 'examples', 'Looking', 'numerous', 'forward', 'seen', 'gradual', 'Above', 'easing', 'best', 'official', 'coping', 'lockdown', 'appear', 'return', 'Germany', 'consumer', 'future', 'franchise', 'banks', 'value', 'b', 'c', 'assets', 'shareholders', 'banks', 'limited', 'values', 'liability', 'reflecting', 'put', 'well', 'option', 'ratios', 'Their', 'shape', 'capital', 'financial', 'ratios', 'good', 'well', 'banks', 'current', 'system', 'levels', 'banking', 'Traditional', 'sickly', 'rules', 'indicate', 'thumb', 'metrics', 'suggest', 'crisis', 'leverage', 'previous', 'levels', 'enhanced', 'good', 'enjoy', 'times', 'risks', 'bailed', 'excessive', 'bad', 'take', 'ever', 'wish', 'growing', 'bankers', 'cost', 'issue', 'society', 'central', 'large', 'entail', 'central', 'ask', 'issue', 'might', 'regulator', 'One', 'repeatedly', 'sort', 'allows', 'T', 'get', 'Mrs', 'away', 'new', 'game', 'need', 'regulator', 'system', 'captured', 'economic', 'banks', 'financial', 'return', 'represent', 'investment', 'estimates', 'cash', 'ROI', 'return', 'Indeed', 'academic', 'world', 'researchers', 'financial', 'unable', 'true', 'distinguish', 'good', 'cost', 'sound', 'savings', 'return', 'cost', 'cash', 'effectiveness', 'implying', 'hope', 'ROI', 'journalists', 'saying', 'lay', 'investment', 'people', 'business', 'David', 'parallel', 'Buck', 'direct', 'King', 'drawing', 'Fund', 'business', 'given', 'anyway', 'production', 'freeholds', 'costs', 'property', 'willingness', 'owners', 'consumers', 'paid', 'pay', 'really', 'services', 'rates', 'maximum', 'business', 'amount', 'argue', 'afford', 'Economists', 'pay', 'taxes', 'using', 'many', 'site', 'far', 'part', 'like', 'cost', 'course', 'paid', 'exceptions', 'government', 'distorting', 'rates', 'complicating', 'less', 'various', 'paid', 'intention', 'suffering', 'necessities', 'others', 'basic', 'However', 'commercialising', 'line', 'punish', 'thought', 'Executive', 'betrays', 'part', 'overly', 'obligation', 'simplistic', 'moral', 'argument', 'sort', 'theory', 'thought', 'behind', 'line', 'theory', 'particular', 'essentially', 'furthers', 'price', 'policy', 'masks', 'Emotionally', 'situation', 'emergency', 'calculated', 'current', 'P', 'handling', 'period', 'vital', 'demand', 'businessman', 'increase', 'arguing', 'costs', 'oppose', 'derived', 'Interventionists', 'higher', 'sell', 'demand', 'manages', 'interventionist', 'still', 'moment', 'price', 'latest', 'raise', 'government', 'decides', 'seize', 'masks', 'goods', 'demand', 'government', 'enormous', 'Spain', 'faced', 'example', 'manufacturer', 'already', 'What', 'seized', 'process', 'hundreds', 'manufacturing', 'thousands', 'costs', 'masks', 'objective', 'various', 'cats', 'misery', 'fat', 'others', 'City', 'usually', 'better', 'takes', 'crisis', 'moment', 'national', 'serious', 'time', 'thought', 'blame', 'realise', 'villains', 'attacks', 'lookout', 'ludicrous', 'people', 'Tom', 'understandable', 'Bailey', 'explains', 'discussed', 'plain', 'daft', 'criticise', 'investment', 'managers', 'taking', 'make', 'less', 'seller', 'fees', 'short', 'transaction', 'meantime', 'costs', 'fallen', 'incurred', 'price', 'price', 'holder', 'risen', 'original', 'short', 'return', 'seller', 'bonds', 'make', 'shares', 'loss', 'number', 'What', 'equivalent', 'like', 'repurchase', 'Despite', 'seller', 'bad', 'short', 'rap', 'date', 'short', 'later', 'selling', 'At', 'actually', 'substantial', 'three', 'tax', 'short', 'windfall', 'selling', 'additional', 'top', 'impose', 'taxes', 'either', 'already', 'sense', 'due', 'much', 'start', 'make', 'hard', 'peers', 'distinguish', 'default', 'speculative', 'likely', 'trades', 'volatility', 'socially', 'greater', 'acceptable', 'experienced', 'activities', 'bans', 'hedging', 'protected', 'risks', 'shares', 'larger', 'whose', 'portfolios', 'institutions', 'many', 'financial', 'ways', 'pure', 'price', 'online', 'gouging', 'shop', 'However', 'corner', 'increase', 'prices', 'price', 'inflated', 'certain', 'vastly', 'goods', 'sell', 'led', 'trying', 'increase', 'sanitisers', 'availability', 'hand', 'either', 'rolls', 'encouraging', 'loo', 'companies', 'stocks', 'divert', 'existing', 'production', 'bought', 'demand', 'bulk', 'greatest', 'someone', 'offsetting', 'sympathy', 'additional', 'extreme', 'costs', 'reductions', 'already', 'comes', 'low', 'adjustment', 'sectors', 'prices', 'work', 'push', 'intensification', 'difficult', 'cutting', 'competition', 'back', 'considerable', 'investment', 'Facing', 'expedients', 'hikes', 'go', 'pay', 'far', 'big', 'businesses', 'hit', 'collapse', 'particularly', 'Despite', 'retailers', 'generally', 'convenience', 'buoyant', 'hairdressers', 'labour', 'include', 'market', 'cited', 'prior', 'examples', 'Coronavirus', 'makes', 'selling', 'relief', 'home', 'residence', 'free', 'private', 'tax', 'particular', 'individual', 'system', 'savings', 'tax', 'account', 'gains', 'ISA', 'capital', 'exemption', 'within', 'allows', 'place', 'profits', 'exemptions', 'investing', 'reliefs', 'quoted', 'many', 'shares', 'leave', 'limit', 'Doing', 'suggestion', 'relief', 'abolishing', 'tax', 'restricting', 'particular', 'two', 'abolition', 'Both', 'allows', 'investing', 'exemption', 'quoted', 'ISA', 'shares', 'account', 'limit', 'savings', 'suggestion', 'individual', 'abolishing', 'tax', 'restricting', 'free', 'two', 'home', 'Both', 'selling', 'remain', 'profit', 'note', 'makes', 'full', 'relief', 'exemptions', 'residence', 'whereas', 'private', 'entrepreneurs', 'particular', 'relief', 'system', 'partial', 'tax', 'exemption', 'gains', 'reducing', 'capital', 'tax', 'issued', 'warning', 'halved', 'July', 'content', 'sales', 'sugar', 'declined', 'makers', 'Consumers', 'reformulated', 'protested', 'fell', 'changes', 'Lucozade', 'buying', 'Sales', 'original', 'consumers', 'bottles', 'well', 'hugely', 'gone', 'inflated', 'alternatives', 'prices', 'replacing', 'secondary', 'market', 'market', 'brands', 'None', 'selling', 'suggests', 'top', 'tax', 'versions', 'helped', 'original', 'market', 'amount', 'pay', 'reduce', 'wages', 'ultimately', 'rapid', 'employer', 'growth', 'cost', 'obligations', 'leave', 'last', 'parental', 'twenty', 'holidays', 'years', 'longer', 'coupled', 'pension', 'lower', 'employers', 'productivity', 'placed', 'growth', 'obligations', 'arguably', 'regulatory', 'partly', 'consider', 'result', 'strongly', 'greater', 'home', 'regulation', 'rammed', 'goes', 'point', 'long', 'admit', 'way', 'making', 'principle', 'subscribers', 'simply', 'owned', 'want', 'BBC', 'watch', 'bidder', 'set', 'highest', 'television', 'BBC', 'channels', 'selling', 'pay', 'subscription', 'principle', 'fee', 'accept', 'licence', 'services', 'replacing', 'television', 'behind', 'networks', 'ideology', 'ideology', 'exactly', 'ideologues', 'What', 'Getting', 'defeat', 'rid', 'sign', 'licence', 'usually', 'fee', 'ideological', 'unpopular', 'higher', 'result', 'made', 'event', 'way', 'beyond', 'industry', 'control', 'particular', 'used', 'targeted', 'least', 'tax', 'twice', 'windfall', 'first', 'problem', 'Thatcher', 'What', 'government', 'pocket', 'Geoffrey', 'else', 'Howe', 'somebody', 'levied', 'hand', 'tax', 'putting', 'banks', 'whilst', 'thought', 'debt', 'benefited', 'pay', 'high', 'allow', 'interest', 'tax', 'rates', 'imposed', 'North', 'taxes', 'Sea', 'additional', 'oil', 'year', 'Chancellor', 'following', 'Gordon', 'commerce', 'Brown', 'industry', 'imposed', 'parts', 'windfall', 'suffered', 'taxes', 'pain', 'privatised', 'sharing', 'utilities', 'whilst', 'number', 'rates', 'years', 'interest', 'raised', 'high', 'billion', 'benefited', 'justified', 'thought', 'decision', 'banks', 'grounds', 'tax', 'monopoly', 'levied', 'power', 'excess', 'wake', 'make', 'pandemic', 'led', 'argued', 'power', 'supermarkets', 'monopoly', 'companies', 'grounds', 'rely', 'decision', 'online', 'justified', 'markets', 'billion', 'gained', 'raised', 'extraordinary', 'years', 'circumstances', 'number', 'punished', 'utilities', 'privatised', 'privatised', 'utilities', 'taxes', 'banks', 'windfall', 'oil', 'imposed', 'companies', 'Brown', 'past', 'Gordon', 'Some', 'Chancellor', 'argued', 'argued', 'arose', 'tax', 'result', 'utilities', 'failure', 'oil', 'government', 'Sea', 'policy', 'North', 'case', 'case', 'oil', 'least', 'government', 'At', 'grants', 'taxes', 'monopoly', 'windfall', 'rights', 'use', 'drill', 'justification', 'profits', 'stronger', 'boosted', 'examples', 'OPEC', 'Brown', 'cartel', 'Howe', 'case', 'happens', 'privatised', 'taxes', 'utilities', 'extra', 'argued', 'drill', 'boosted', 'rights', 'OPEC', 'monopoly', 'cartel', 'grants', 'case', 'government', 'privatised', 'oil', 'utilities', 'case', 'argued', 'policy', 'enough', 'government', 'done', 'failure', 'expose', 'result', 'competition', 'arose', 'Indeed', 'profits', 'banking', 'argued', 'sector', 'tax', 'back', 'utilities', 'protected', 'oil', 'government', 'Sea', 'argued', 'North', 'excess', 'case', 'profits', 'excess', 'made', 'argued', 'banks', 'government', 'However', 'protected', 'circumstances', 'back', 'windfall', 'sector', 'taxes', 'banking', 'bad', 'Indeed', 'idea', 'competition', 'Firstly', 'expose', 'reduced', 'done', 'profits', 'enough', 'lead', 'argued', 'reduced', 'utilities', 'returns', 'privatised', 'pension', 'case', 'savings', 'cartel', 'case', 'OPEC', 'tax', 'boosted', 'privatised', 'profits', 'utilities', 'reduced', 'lead', 'Firstly', 'reduced', 'idea', 'returns', 'bad', 'pension', 'taxes', 'savings', 'windfall', 'case', 'circumstances', 'tax', 'However', 'privatised', 'banks', 'utilities', 'made', 'contributed', 'profits', 'collapse', 'excess', 'pension', 'argued', 'saving', 'government', 'late', 'protected', 'Windfall', 'back', 'taxes', 'sector', 'raise', 'banking', 'required', 'Indeed', 'return', 'competition', 'capital', 'stores', 'made', 'street', 'businesses', 'high', 'thrived', 'replace', 'pandemic', 'shopping', 'spur', 'online', 'competition', 'travel', 'areas', 'business', 'windfall', 'replace', 'tax', 'Zoom', 'effect', 'extent', 'raising', 'least', 'costs', 'At', 'consumers', 'demand', 'preventing', 'patterns', 'adjustment', 'new', 'new', 'respond', 'business', 'decline', 'model', 'models', 'thus', 'away', 'creation', 'idea', 'revenue', 'theory', 'taxed', 'taxation', 'preserve', 'pillar', 'principle', 'core', 'Further', 'contradicts', 'tax', 'tax', 'increases', 'issues', 'result', 'However', 'shift', 'conflicts', 'financial', 'trade', 'burden', 'transatlantic', 'consumer', 'instrument', 'companies', 'dissuasive', 'mere', 'competencies', 'legal', 'legislative', 'structures', 'added', 'bear', 'view', 'economic', 'groups', 'cost', 'centrist', 'taxes', 'rates', 'routed', 'punitive', 'via', 'charging', 'tax', 'concerns', 'havens', 'countered', 'namely', 'Tax', 'contrived', 'Profits', 'arrangements', 'Diverted', 'without', 'UK', 'particular', 'investment', 'focus', 'future', 'tech', 'inhibitive', 'industry', 'needlessly', 'summary', 'discriminatory', 'political', 'prove', 'aims', 'sectors', 'arguably', 'across', 'fuel', 'within', 'large', 'nuance', 'part', 'without', 'renewed', 'sector', 'crucial', 'industrial', 'problem', 'light', 'overvalued', 'traded', 'currency', 'internationally', 'makes', 'owned', 'unprofitable', 'privately', 'invest', 'projects', 'new', 'investment', 'manufacturing', 'home', 'production', 'natural', 'facilities', 'less', 'UK', 'Now', 'rather', 'UK', 'elsewhere', 'originated', 'key', 'exports', 'getting', 'manufactured', 'growth', 'manufacturing', 'rate', 'UK', 'therefore', 'strong', 'use', 'greater', 'stronger', 'products', 'tax', 'cheaper', 'base', 'better', 'least', 'salaries', 'per', 'wages', 'annum', 'higher', 'x', 'including', 'equals', 'whole', 'increase', 'economy', 'growth', 'returns', 'rate', 'producing', 'much', 'capable', 'competitive', 'easily', 'currency', 'investment', 'capable', 'type', 'achieving', 'GDP', 'Is', 'ideally', 'possible', 'investment', 'Yes', 'spend', 'involves', 'high', 'attracts', 'earning', 'competitors', 'company', 'like', 'tech', 'sharks', 'big', 'smelling', 'When', 'blood', 'sense', 'water', 'makes', 'good', 'policy', 'thing', 'antitrust', 'Meanwhile', 'aggressive', 'tech', 'reveals', 'firms', 'history', 'earning', 'economic', 'high', 'dynamism', 'profits', 'understanding', 'use', 'decent', 'To', 'study', 'push', 'recent', 'innovation', 'sentiments', 'forward', 'high', 'use', 'earning', 'To', 'firms', 'push', 'tech', 'innovation', 'Meanwhile', 'forward', 'thing', 'funding', 'good', 'huge', 'water', 'amounts', 'blood', 'research', 'smelling', 'Wall', 'sharks', 'Street', 'like', 'Journal', 'competitors', 'outlines', 'attracts', 'current', 'profits', 'efforts', 'high', 'fund', 'earning', 'quantum', 'company', 'computing', 'tech', 'technology', 'big', 'revolutionary', 'solid', 'made', 'stream', 'possible', 'years', 'Some', 'many', 'firms', 'research', 'Journal', 'computing', 'profiles', 'quantum', 'focused', 'funding', 'making', 'Microsoft', 'breakthroughs', 'research', 'firms', 'basic', 'see', 'companies', 'quantum', 'say', 'computing', 'skeptics', 'goal', 'given', 'Profits', 'impressive', 'competition', 'investments', 'diversity', 'private', 'strategies', 'million', 'big', 'least', 'companies', 'large', 'ought', 'companies', 'industries', 'size', 'structured', 'proper', 'need', 'know', 'markets', 'claim', 'figure', 'lawyers', 'antitrust', 'pundits', 'Politicians', 'markets', 'experimentation', 'uncertainty', 'startups', 'companies', 'big', 'strategies', 'diversity', 'competition', 'Profits', 'private', 'socialized', 'earnings', 'cost', 'lifetime', 'Now', 'increase', 'Warren', 'greatly', 'declaring', 'accepted', 'combine', 'freely', 'bad', 'students', 'policy', 'millions', 'dangerous', 'debt', 'government', 'billion', 'promising', 'least', 'start', 'taxpayers', 'forgiving', 'saddle', 'student', 'policy', 'debt', 'atrocious', 'day', 'proposal', 'presidency', 'forgiveness', 'declares', 'loan', 'tweet', 'student', 'She', 'portend', 'without', 'commodities', 'degree', 'needed', 'certainty', 'produce', 'much', 'operations', 'demanded', 'converting', 'long', 'businesses', 'crapshoot', 'existing', 'know', 'many', 'much', 'course', 'invest', 'Of', 'production', 'promising', 'capacity', 'sound', 'distribution', 'medical', 'reasons', 'production', 'business', 'help', 'appears', 'possible', 'slow', 'whether', 'unwilling', 'study', 'meet', 'feasibility', 'challenge', 'see', 'opportunity', 'groups', 'worth', 'interest', 'hiring', 'companies', 'platoons', 'many', 'lobbyists', 'contemplated', 'get', 'spending', 'small', 'extraordinary', 'infinitesimal', 'trillion', 'sliver', 'toward', 'pie', 'headed', 'People', 'budget', 'invest', 'federal', 'money', 'With', 'make', 'expect', 'money', 'What', 'free', 'connections', 'economy', 'political', 'invest', 'helps', 'building', 'always', 'homes', 'less', 'means', 'made', 'less', 'Businesses', 'investment', 'living', 'less', 'cost', 'hiring', 'Americans', 'individuals', 'increase', 'families', 'production', 'experienced', 'costs', 'lower', 'producers', 'real', 'increase', 'income', 'every', 'account', 'importers', 'higher', 'purchased', 'prices', 'goods', 'means', 'final', 'less', 'inputs', 'consumption', 'manufacturing', 'less', 'costs', 'savings', 'raising', 'So', 'lower', 'means', 'mean', 'businesses', 'costs', 'fewer', 'Higher', 'resources', 'tariffs', 'investment', 'account', 'create', 'higher', 'jobs', 'V', 'Or', 'EXCEEDING', 'higher', 'NOT', 'costs', 'VOLTAGE', 'mean', 'FOR', 'higher', 'ELECTRICITY', 'prices', 'OF', 'mean', 'DISTRIBUTION', 'consumers', 'OR', 'less', 'CONTROL', 'spend', 'ELECTRIC', 'save', 'FOR', 'Indeed', 'APPARATUS', 'tariffs', 'lower', 'less', 'translate', 'investment', 'costs', 'less', 'absorb', 'hiring', 'retailers', 'bottom', 'unless', 'line', 'income', 'costs', 'real', 'Trump', 'reduce', 'tariff', 'directly', 'shouldered', 'products', 'businesses', 'consumer', 'consumers', 'list', 'Producers', 'items', 'consumers', 'dozens', 'exactly', 'tariffs', 'discerned', 'Indeed', 'table', 'save', 'spend', 'less', 'reputation', 'reforms', 'damage', 'immediate', 'potential', 'impact', 'concerns', 'pandemic', 'liability', 'change', 'expose', 'market', 'want', 'dynamics', 'certainly', 'create', 'meat', 'options', 'safety', 'farmers', 'ensure', 'consumers', 'incentive', 'increase', 'significant', 'capacity', 'businesses', 'help', 'Besides', 'create', 'slaughterhouses', 'meat', 'custom', 'supply', 'regarding', 'system', 'concerns', 'better', 'safety', 'positioned', 'worse', 'investments', 'things', 'made', 'makes', 'today', 'deficits', 'taxed', 'growing', 'tomorrow', 'Congress', 'Same', 'indifference', 'goes', 'general', 'starting', 'increases', 'business', 'tax', 'going', 'trillion', 'back', 'proposed', 'school', 'follow', 'higher', 'Congress', 'paying', 'liberals', 'job', 'Biden', 'People', 'Joe', 'smart', 'President', 'know', 'Vice', 'absent', 'former', 'true', 'part', 'charities', 'commit', 'like', 'Companies', 'Tragedy', 'day', 'Assistance', 'importance', 'Program', 'weighty', 'Survivors', 'folks', 'provides', 'remind', 'assistance', 'advertisements', 'children', 'Commercials', 'fallen', 'day', 'military', 'sales', 'personnel', 'season', 'Businesses', 'reason', 'customers', 'forget', 'partner', 'let', 'charitable', 'deal', 'community', 'good', 'activities', 'needed', 'My', 'desperately', 'organization', 'ensuring', 'difficult', 'production', 'businesses', 'Restarting', 'masks', 'offshore', 'often', 'moved', 'imported', 'largely', 'China', 'production', 'purchased', 'mask', 'little', 'pandemic', 'per', 'prior', 'box', 'demand', 'opposite', 'consistent', 'proved', 'lack', 'true', 'Due', 'increased', 'instantly', 'demand', 'almost', 'met', 'response', 'increase', 'philanthropic', 'price', 'economic', 'per', 'met', 'mask', 'Improving', 'organizational', 'Congress', 'reforms', 'flexibility', 'optimized', 'request', 'pricing', 'credibility', 'give', 'Service', 'Postal', 'Postal', 'Service', 'give', 'resources', 'transparency', 'fund', 'increasing', 'retirement', 'plan', 'plans', 'business', 'postmaster', 'strong', 'general', 'Producing', 'DeJoy', 'another', 'opportunity', 'build', 'save', 'ideas', 'United', 'five', 'States', 'fund', 'Postal', 'bail', 'Service', 'restaurant', 'margins', 'low', 'require', 'With', 'extra', 'increase', 'million', 'wage', 'food', 'mean', 'seemingly', 'wage', 'impossible', 'minimum', 'feat', 'federal', 'larger', 'doubling', 'productive', 'making', 'businesses', 'workers', 'become', 'five', 'pay', 'restaurant', 'workers', 'good', 'Take', 'doors', 'Amazon', 'shuttered', 'company', 'restaurants', 'announced', 'chain', 'raising', 'larger', 'minimum', 'handsome', 'Five', 'pocketing', 'big', 'handouts', 'players', 'federal', 'collectively', 'fortified', 'control', 'years', 'half', 'early', 'individual', 'Obamacare', 'market', 'shock', 'growing', 'weathered', 'market', 'market', 'share', 'individual', 'percentage', 'players', 'points', 'successful', 'Centene', 'industry', 'example', 'insurance', 'increased', 'moment', 'enrollment', 'propitious', 'time', 'comes', 'gaining', 'windfall', 'million', 'fattening', 'margins', 'premiums', 'House', 'set', 'seems', 'expected', 'poised', 'claims', 'pass', 'medical', 'bill', 'less', 'fatten', 'much', 'dangerous', 'paying', 'thing', 'insurers', 'industry', 'means', 'grow', 'emergencies', 'dependent', 'medical', 'government', 'care', 'subsidies', 'seeking', 'especially', 'avoided', 'dangerous', 'people', 'many', 'April', 'political', 'January', 'party', 'visits', 'enlarging', 'care', 'backs', 'child', 'parents', 'week', 'already', 'per', 'paid', 'dollars', 'free', 'hundreds', 'public', 'fork', 'schools', 'families', 'begs', 'forcing', 'question', 'closed', 'unions', 'despite', 'district', 'revenue', 'officials', 'tax', 'say', 'enjoying', 'safe', 'effectively', 'open', 'Districts', 'schools', 'money', 'learning', 'Americans', 'safe', 'costs', 'open', 'solution', 'custodial', 'Seeking', 'forces', 'relationships', 'overseas', 'transactional', 'inconsistent', 'mere', 'American', 'goals', 'values', 'principles', 'commitments', 'shared', 'Alliances', 'based', 'valued', 'alliances', 'dollars', 'degrade', 'cents', 'demands', 'America', 'monetary', 'brave', 'Excessive', 'sons', 'civilians', 'daughters', 'troops', 'uniform', 'allies', 'mercenaries', 'threat', 'Alliances', 'Korean', 'transactional', 'North', 'relationships', 'reflective', 'Rather', 'money', 'companies', 'awarding', 'ones', 'Department', 'benefit', 'Energy', 'great', 'result', 'number', 'projects', 'federal', 'successful', 'state', 'instances', 'local', 'technologies', 'subsidies', 'favored', 'disposal', 'prop', 'Their', 'trying', 'success', 'policies', 'depend', 'survive', 'preferential', 'projects', 'treatment', 'dollars', 'government', 'taxpayer', 'levels', 'lent', 'yet', 'Department', 'projects', 'Energy', 'innovative', 'turn', 'However', 'competitive', 'case', 'innovative', 'private', 'projects', 'actors', 'yet', 'bear', 'levels', 'risk', 'government', 'Perhaps', 'treatment', 'biggest', 'preferential', 'problem', 'depend', 'loan', 'success', 'loan', 'Their', 'guarantees', 'disposal', 'distort', 'subsidies', 'investors', 'local', 'allocate', 'state', 'money', 'federal', 'seen', 'number', 'pandemic', 'great', 'Americans', 'benefit', 'creative', 'China', 'media', 'Here', 'rush', 'Agenda', 'take', 'Subscribe', 'China', 'week', 'side', 'inbox', 'battle', 'straight', 'Trump', 'delivered', 'administration', 'experts', 'many', 'Heritage', 'journalists', 'information', 'clearly', 'insider', 'despise', 'exclusive', 'China', 'Get', 'long', 'jingoism', 'ago', 'xenophobia', 'took', 'rise', 'steps', 'benefiting', 'censor', 'seem', 'criticism', 'leaders', 'truculent', 'involved', 'every', 'Traffickers', 'facet', 'rights', 'illegal', 'human', 'migration', 'violation', 'addition', 'gross', 'perpetrating', 'crime', 'many', 'serious', 'crimes', 'persons', 'illegal', 'Trafficking', 'migrants', 'trafficking', 'including', 'human', 'rape', 'Another', 'robbery', 'border', 'extortion', 'uncontrolled', 'killings', 'across', 'Over', 'flourishes', 'past', 'crimes', 'years', 'serious', 'done', 'smuggling', 'effectively', 'restaurant', 'margins', 'typical', 'percent', 'employees', 'require', 'five', 'increasing', 'With', 'sales', 'unemployment', 'week', 'taxes', 'extra', 'lower', 'million', 'well', 'per', 'benefits', 'impossible', 'unemployment', 'feat', 'hour', 'time', 'per', 'let', 'equivalent', 'alone', 'qualify', 'pandemic', 'workers', 'people', 'unemployed', 'avoiding', 'hour', 'restaurants', 'per', 'When', 'wages', 'comes', 'narrow', 'margins', 'businesses', 'struggle', 'small', 'survive', 'defense', 'Even', 'nation', 'large', 'crucial', 'companies', 'companies', 'face', 'Many', 'sizeable', 'skills', 'obstacles', 'trade', 'like', 'diminishing', 'unpredictable', 'components', 'government', 'key', 'funding', 'suppliers', 'threats', 'nations', 'defense', 'competitor', 'budget', 'behavior', 'Adding', 'industrial', 'global', 'aggressive', 'pandemic', 'like', 'mix', 'war', 'pure', 'organizations', 'simple', 'needy', 'must', 'truly', 'reported', 'fearful', 'wherever', 'prices', 'found', 'inflated', 'FBI', 'horrifically', 'find', 'gouging', 'arrest', 'price', 'prosecute', 'etc', 'fullest', 'sanitizer', 'extent', 'hand', 'law', 'equipment', 'attempting', 'protective', 'make', 'personal', 'money', 'gowns', 'pain', 'masks', 'others', 'supplies', 'Vorndran', 'medical', 'shared', 'models', 'Tammy', 'business', 'Baldwin', 'lucrative', 'introduced', 'interfere', 'legislation', 'beg', 'force', 'president', 'administration', 'gone', 'start', 'leaders', 'using', 'business', 'law', 'big', 'provisions', 'theories', 'private', 'conspiracy', 'industry', 'propose', 'already', 'far', 'responding', 'go', 'needs', 'Some', 'modifying', 'lines', 'practices', 'production', 'meet', 'change', 'America', 'companies', 'challenges', 'make', 'work', 'Act', 'work', 'CARES', 'many', 'included', 'workers', 'benefits', 'Now', 'unemployment', 'Congress', 'expanded', 'considering', 'incentives', 'additional', 'different', 'programs', 'face', 'support', 'often', 'specific', 'workers', 'special', 'However', 'interests', 'payrolls', 'cleaning', 'keeping', 'industry', 'tied', 'association', 'incentives', 'promoting', 'businesses', 'Clean', 'offering', 'Start', 'employed', 'tax', 'making', 'future', 'successfully', 'Freeing', 'probability', 'domestic', 'small', 'capital', 'years', 'reducing', 'initial', 'tax', 'losses', 'penalty', 'large', 'entrepreneurs', 'run', 'potential', 'startups', 'particularly', 'investments', 'helpful', 'riskier', 'economy', 'taxes', 'retools', 'higher', 'current', 'impose', 'crisis', 'offerings', 'current', 'equity', 'high', 'investments', 'capital', 'new', 'gains', 'funds', 'rate']\n"
          ],
          "name": "stdout"
        }
      ]
    },
    {
      "cell_type": "code",
      "metadata": {
        "colab": {
          "base_uri": "https://localhost:8080/"
        },
        "id": "mOkbko_Xosx2",
        "outputId": "dd43c491-d62a-40ea-b1fe-f6f0c6f8c611"
      },
      "source": [
        "import nltk\r\n",
        "tokenDist = nltk.FreqDist(CollocationsNoStopWords)\r\n",
        "tokenDist.tabulate(40)"
      ],
      "execution_count": null,
      "outputs": [
        {
          "output_type": "stream",
          "text": [
            "       tax    profits  companies   business      taxes       many     future government investment       made   increase      costs       less     higher        pay businesses      gains       like     people       high       make    capital     market     shares      money       much      years      least        way production     assets  utilities     argued       case    problem    company     system  investors    private       cost \n",
            "        54         32         25         21         20         17         16         16         15         14         14         14         14         14         13         13         13         13         13         13         12         12         11         11         11         11         11         10         10         10         10         10         10         10          9          9          9          9          9          9 \n"
          ],
          "name": "stdout"
        }
      ]
    },
    {
      "cell_type": "code",
      "metadata": {
        "colab": {
          "base_uri": "https://localhost:8080/",
          "height": 727
        },
        "id": "RT0lyERiou4m",
        "outputId": "61fc7f34-809a-4e0e-8061-de0a45421682"
      },
      "source": [
        "%matplotlib inline\r\n",
        "import matplotlib.pyplot as plt\r\n",
        "plt.figure(figsize=(15, 11))  # the size you want\r\n",
        "tokenDist.plot(40, title=\"Top Frequency Collocates for \" + word2find.capitalize())"
      ],
      "execution_count": null,
      "outputs": [
        {
          "output_type": "display_data",
          "data": {
            "image/png": "[encoded data removed]",
            "text/plain": [
              "<Figure size 1080x792 with 1 Axes>"
            ]
          },
          "metadata": {
            "tags": [],
            "needs_background": "light"
          }
        }
      ]
    }
  ]
}