{
  "nbformat": 4,
  "nbformat_minor": 0,
  "metadata": {
    "colab": {
      "name": "Collocations_vaccination.ipynb",
      "provenance": [],
      "collapsed_sections": []
    },
    "kernelspec": {
      "name": "python3",
      "display_name": "Python 3"
    }
  },
  "cells": [
    {
      "cell_type": "code",
      "metadata": {
        "colab": {
          "base_uri": "https://localhost:8080/"
        },
        "id": "1VX9SEscXaJn",
        "outputId": "a6488bd2-a666-4c70-e744-2a61b1ee99da"
      },
      "source": [
        "import pandas as pd\r\n",
        "import matplotlib\r\n",
        "import nltk\r\n",
        "nltk.download('punkt')\r\n",
        "nltk.download('wordnet')\r\n",
        "from nltk import sent_tokenize, word_tokenize\r\n",
        "from nltk.stem.snowball import SnowballStemmer\r\n",
        "from nltk.stem.wordnet import WordNetLemmatizer\r\n",
        "from nltk.corpus import stopwords\r\n",
        "nltk.download('stopwords')\r\n",
        "stop_words = stopwords.words('english')\r\n",
        "stop_words.extend(['from', 'would', 'could', 'may', 'one', 'I', 'It', 'but', 'also', 'this', 'that', 'they', 'it', 'The', 'But', 'And', 'A', 'We', 'They', 'This', 'That', 'In', 'These', 'even', 'There', 'As', 'If', 'He', 'us', 'For'])\r\n",
        "import pandas as pd\r\n",
        "import numpy as np\r\n",
        "import re"
      ],
      "execution_count": null,
      "outputs": [
        {
          "output_type": "stream",
          "text": [
            "[nltk_data] Downloading package punkt to /root/nltk_data...\n",
            "[nltk_data]   Unzipping tokenizers/punkt.zip.\n",
            "[nltk_data] Downloading package wordnet to /root/nltk_data...\n",
            "[nltk_data]   Unzipping corpora/wordnet.zip.\n",
            "[nltk_data] Downloading package stopwords to /root/nltk_data...\n",
            "[nltk_data]   Unzipping corpora/stopwords.zip.\n"
          ],
          "name": "stdout"
        }
      ]
    },
    {
      "cell_type": "code",
      "metadata": {
        "colab": {
          "base_uri": "https://localhost:8080/"
        },
        "id": "XjZhBG49XvQo",
        "outputId": "e7f34bc1-0533-4cf1-ea76-323ac0fbfd97"
      },
      "source": [
        "from google.colab import drive\r\n",
        "drive.mount('/gdrive')"
      ],
      "execution_count": null,
      "outputs": [
        {
          "output_type": "stream",
          "text": [
            "Mounted at /gdrive\n"
          ],
          "name": "stdout"
        }
      ]
    },
    {
      "cell_type": "code",
      "metadata": {
        "id": "EtJbUDv_X4HI"
      },
      "source": [
        "Downsizing_df = pd.read_csv(\"/gdrive/My Drive/Neoliber_2020.csv\")"
      ],
      "execution_count": null,
      "outputs": []
    },
    {
      "cell_type": "code",
      "metadata": {
        "colab": {
          "base_uri": "https://localhost:8080/",
          "height": 407
        },
        "id": "EoIkO0qRYNM4",
        "outputId": "38188318-9c08-458e-bab6-540a3f337b73"
      },
      "source": [
        "Downsizing_df"
      ],
      "execution_count": null,
      "outputs": [
        {
          "output_type": "execute_result",
          "data": {
            "text/html": [
              "<div>\n",
              "<style scoped>\n",
              "    .dataframe tbody tr th:only-of-type {\n",
              "        vertical-align: middle;\n",
              "    }\n",
              "\n",
              "    .dataframe tbody tr th {\n",
              "        vertical-align: top;\n",
              "    }\n",
              "\n",
              "    .dataframe thead th {\n",
              "        text-align: right;\n",
              "    }\n",
              "</style>\n",
              "<table border=\"1\" class=\"dataframe\">\n",
              "  <thead>\n",
              "    <tr style=\"text-align: right;\">\n",
              "      <th></th>\n",
              "      <th>Unnamed: 0</th>\n",
              "      <th>author</th>\n",
              "      <th>body</th>\n",
              "      <th>date</th>\n",
              "      <th>title</th>\n",
              "      <th>url</th>\n",
              "      <th>year</th>\n",
              "      <th>month</th>\n",
              "      <th>day</th>\n",
              "    </tr>\n",
              "  </thead>\n",
              "  <tbody>\n",
              "    <tr>\n",
              "      <th>0</th>\n",
              "      <td>0.0</td>\n",
              "      <td>Matt Kilcoyne</td>\n",
              "      <td>With the release of the details of the make-up...</td>\n",
              "      <td>2020-05-04</td>\n",
              "      <td>WHITHER THE ECONOMISTS WHILE THE ECONOMY WITHE...</td>\n",
              "      <td>https://www.adamsmith.org/news/whither-the-eco...</td>\n",
              "      <td>2020.0</td>\n",
              "      <td>5.0</td>\n",
              "      <td>4.0</td>\n",
              "    </tr>\n",
              "    <tr>\n",
              "      <th>1</th>\n",
              "      <td>1.0</td>\n",
              "      <td>Madsen Pirie</td>\n",
              "      <td>Cost-benefit analysis is a useful tool for wor...</td>\n",
              "      <td>2020-05-10</td>\n",
              "      <td>WE'RE MISSING COST BENEFIT ANALYSIS IN OUR COV...</td>\n",
              "      <td>https://www.adamsmith.org/blog/were-missing-co...</td>\n",
              "      <td>2020.0</td>\n",
              "      <td>5.0</td>\n",
              "      <td>10.0</td>\n",
              "    </tr>\n",
              "    <tr>\n",
              "      <th>2</th>\n",
              "      <td>2.0</td>\n",
              "      <td>Dr Smith</td>\n",
              "      <td>I have been asked how medicine is practised di...</td>\n",
              "      <td>2020-04-29</td>\n",
              "      <td>MEDICINE DURING COVID</td>\n",
              "      <td>https://www.adamsmith.org/despatches/medicine-...</td>\n",
              "      <td>2020.0</td>\n",
              "      <td>4.0</td>\n",
              "      <td>29.0</td>\n",
              "    </tr>\n",
              "    <tr>\n",
              "      <th>3</th>\n",
              "      <td>3.0</td>\n",
              "      <td>Lance Forman</td>\n",
              "      <td>The Government is going about supporting the e...</td>\n",
              "      <td>2020-03-19</td>\n",
              "      <td>COVID19: HOW TO DEAL WITH BUSINESS COLLAPSE AN...</td>\n",
              "      <td>https://www.adamsmith.org/blog/covid19-how-do-...</td>\n",
              "      <td>2020.0</td>\n",
              "      <td>3.0</td>\n",
              "      <td>19.0</td>\n",
              "    </tr>\n",
              "    <tr>\n",
              "      <th>4</th>\n",
              "      <td>4.0</td>\n",
              "      <td>Eamonn Butler</td>\n",
              "      <td>Too late now, but I think I understand why min...</td>\n",
              "      <td>2020-04-27</td>\n",
              "      <td>WHY THE POLICE GOT IT SO WRONG ON ENFORCING CO...</td>\n",
              "      <td>https://www.adamsmith.org/blog/why-the-police-...</td>\n",
              "      <td>2020.0</td>\n",
              "      <td>4.0</td>\n",
              "      <td>27.0</td>\n",
              "    </tr>\n",
              "    <tr>\n",
              "      <th>...</th>\n",
              "      <td>...</td>\n",
              "      <td>...</td>\n",
              "      <td>...</td>\n",
              "      <td>...</td>\n",
              "      <td>...</td>\n",
              "      <td>...</td>\n",
              "      <td>...</td>\n",
              "      <td>...</td>\n",
              "      <td>...</td>\n",
              "    </tr>\n",
              "    <tr>\n",
              "      <th>781</th>\n",
              "      <td>405.0</td>\n",
              "      <td>Andrew  McIndoe</td>\n",
              "      <td>Our most memorable heroes are forged through c...</td>\n",
              "      <td>2020-05-15</td>\n",
              "      <td>When People See Nonprofits Persevering, They’l...</td>\n",
              "      <td>https://www.heritage.org/jobs-and-labor/commen...</td>\n",
              "      <td>2020.0</td>\n",
              "      <td>5.0</td>\n",
              "      <td>15.0</td>\n",
              "    </tr>\n",
              "    <tr>\n",
              "      <th>782</th>\n",
              "      <td>406.0</td>\n",
              "      <td>Tommy  Binion</td>\n",
              "      <td>The news has been full of stories on SCOTUS no...</td>\n",
              "      <td>2020-10-13</td>\n",
              "      <td>The Confirmation of Amy Coney Barrett: Opening...</td>\n",
              "      <td>https://www.heritage.org/political-process/com...</td>\n",
              "      <td>2020.0</td>\n",
              "      <td>10.0</td>\n",
              "      <td>13.0</td>\n",
              "    </tr>\n",
              "    <tr>\n",
              "      <th>783</th>\n",
              "      <td>407.0</td>\n",
              "      <td>Kay C. James</td>\n",
              "      <td>When the nongovernmental National Coronavirus ...</td>\n",
              "      <td>2020-04-22</td>\n",
              "      <td>COVID-19 Crisis Has Re-Ignited a Sense of Comm...</td>\n",
              "      <td>https://www.heritage.org/civil-society/comment...</td>\n",
              "      <td>2020.0</td>\n",
              "      <td>4.0</td>\n",
              "      <td>22.0</td>\n",
              "    </tr>\n",
              "    <tr>\n",
              "      <th>784</th>\n",
              "      <td>408.0</td>\n",
              "      <td>Kevin  Pham, MD</td>\n",
              "      <td>America’s coronavirus testing rates have emerg...</td>\n",
              "      <td>2020-04-26</td>\n",
              "      <td>COVID-19 Testing and the Way Forward on Resumi...</td>\n",
              "      <td>https://www.heritage.org/public-health/comment...</td>\n",
              "      <td>2020.0</td>\n",
              "      <td>4.0</td>\n",
              "      <td>26.0</td>\n",
              "    </tr>\n",
              "    <tr>\n",
              "      <th>785</th>\n",
              "      <td>409.0</td>\n",
              "      <td>Kevin  Pham, MD</td>\n",
              "      <td>The Centers for Disease Control and Prevention...</td>\n",
              "      <td>2020-09-05</td>\n",
              "      <td>New COVID-19 Findings Confirm What We Have Lea...</td>\n",
              "      <td>https://www.heritage.org/public-health/comment...</td>\n",
              "      <td>2020.0</td>\n",
              "      <td>9.0</td>\n",
              "      <td>5.0</td>\n",
              "    </tr>\n",
              "  </tbody>\n",
              "</table>\n",
              "<p>786 rows × 9 columns</p>\n",
              "</div>"
            ],
            "text/plain": [
              "     Unnamed: 0           author  ... month   day\n",
              "0           0.0    Matt Kilcoyne  ...   5.0   4.0\n",
              "1           1.0     Madsen Pirie  ...   5.0  10.0\n",
              "2           2.0         Dr Smith  ...   4.0  29.0\n",
              "3           3.0     Lance Forman  ...   3.0  19.0\n",
              "4           4.0    Eamonn Butler  ...   4.0  27.0\n",
              "..          ...              ...  ...   ...   ...\n",
              "781       405.0  Andrew  McIndoe  ...   5.0  15.0\n",
              "782       406.0    Tommy  Binion  ...  10.0  13.0\n",
              "783       407.0     Kay C. James  ...   4.0  22.0\n",
              "784       408.0  Kevin  Pham, MD  ...   4.0  26.0\n",
              "785       409.0  Kevin  Pham, MD  ...   9.0   5.0\n",
              "\n",
              "[786 rows x 9 columns]"
            ]
          },
          "metadata": {
            "tags": []
          },
          "execution_count": 4
        }
      ]
    },
    {
      "cell_type": "code",
      "metadata": {
        "id": "wqKpV-aqYiI_"
      },
      "source": [
        "# Σβήνω κάποιες στήλες διότι δεν μου προσδίδουν καμία χρήσιμη πληροφορία \r\n",
        "\r\n",
        "Downsizing_df = Downsizing_df.drop('Unnamed: 0', axis = 1)"
      ],
      "execution_count": null,
      "outputs": []
    },
    {
      "cell_type": "code",
      "metadata": {
        "id": "hxXIBOTGYmc4"
      },
      "source": [
        "Downsizing_df = Downsizing_df[Downsizing_df.body.notnull()]"
      ],
      "execution_count": null,
      "outputs": []
    },
    {
      "cell_type": "code",
      "metadata": {
        "id": "ZgTXeV_8Yx__",
        "colab": {
          "base_uri": "https://localhost:8080/"
        },
        "outputId": "1f7050ff-861e-478b-80f3-736c9002a96b"
      },
      "source": [
        "Downsizing_df.shape"
      ],
      "execution_count": null,
      "outputs": [
        {
          "output_type": "execute_result",
          "data": {
            "text/plain": [
              "(785, 8)"
            ]
          },
          "metadata": {
            "tags": []
          },
          "execution_count": 7
        }
      ]
    },
    {
      "cell_type": "code",
      "metadata": {
        "colab": {
          "base_uri": "https://localhost:8080/",
          "height": 108
        },
        "id": "Q5UsHRGenYhm",
        "outputId": "a2437487-8dc1-4144-9f65-3e02ff131746"
      },
      "source": [
        "Downsizing_df['body'][16]"
      ],
      "execution_count": null,
      "outputs": [
        {
          "output_type": "execute_result",
          "data": {
            "application/vnd.google.colaboratory.intrinsic+json": {
              "type": "string"
            },
            "text/plain": [
              "'The ASI’s latest paper, written by ASI Head of Research Matthew Lesh, makes the case for decentralising  COVID-19 diagnostic testing in the United Kingdom:                COVID-19 is the biggest public health emergency in modern history. There have already been over 875,000 confirmed cases and 43,500 deaths worldwide. These numbers are expected to grow exponentially in the coming weeks, potentially resulting in millions of cases and hundreds of thousands of deaths.     The United Kingdom is experiencing a substantial growth in cases and deaths. Over 2,350 people confirmed to have died after contracting the virus. This number is doubling approximately every 3 days, putting the UK on a similar trajectory to the worst affected regions in the world.    Testing is a key tool to combat infectious diseases. It allows doctors to identify the needs of patients, public health authorities to trace and isolate cases to minimise spread, and epidemiologists to track the spread of an outbreak. It is also essential for healthcare workers to return to the frontline.    The UK has fallen to the bottom quarter of OECD countries for COVID-19 diagnostic testing, on a per capita basis. South Korea has tested four times as many people as the UK, Germany almost three times and the United States now almost twice as many, per capita.    The early decision to centralise testing to a single Public Health England (PHE) laboratory has hampered the ability to increase testing in the UK. Testing has now been expanded to 12 labs operated by PHE as well as a limited number of NHS laboratories.    The most successful countries in testing COVID-19 – such as Germany, South Korea, and more recently, the United States of America – have decentralised testing and embraced a mixture of public, non-government and private laboratories.    Since March 16, the United Kingdom has just over doubled daily testing capacity. In the same time, the United States has increased daily testing by a factor of 21.    The private sector has shown an extensive willingness to support the Government’s efforts to tackle COVID-19, including the rapid design and manufacture of ventilators and agreeing to transfer beds and staff in independent hospitals to the NHS.    If the UK Government wants to meet its testing targets and save lives, it must:    fast-track approval for private sector laboratories to conduct COVID-19 testing;     substantially expand usage of NHS and university laboratories to conduct COVID-19 testing;     undertake rapid approval of private sector developed tests, including mutual recognition of tests approved by other regulatory bodies such as the FDA;    reduce testing red tape, including any requirements that initial positive tests must be retested centrally by PHE; and    explicitly call on companies to help make testing kits and develop lab capacity for COVID-19 testing, modelled on the successful call for businesses to make ventilators.'"
            ]
          },
          "metadata": {
            "tags": []
          },
          "execution_count": 8
        }
      ]
    },
    {
      "cell_type": "code",
      "metadata": {
        "colab": {
          "base_uri": "https://localhost:8080/",
          "height": 35
        },
        "id": "InBSEY9RnfjQ",
        "outputId": "3c9a54ea-326e-4f05-9f99-24d614f99574"
      },
      "source": [
        "Downsizing_df['title'][1]"
      ],
      "execution_count": null,
      "outputs": [
        {
          "output_type": "execute_result",
          "data": {
            "application/vnd.google.colaboratory.intrinsic+json": {
              "type": "string"
            },
            "text/plain": [
              "\"WE'RE MISSING COST BENEFIT ANALYSIS IN OUR COVID19 DISCUSSION\""
            ]
          },
          "metadata": {
            "tags": []
          },
          "execution_count": 9
        }
      ]
    },
    {
      "cell_type": "code",
      "metadata": {
        "colab": {
          "base_uri": "https://localhost:8080/"
        },
        "id": "77ltrWKQnnOH",
        "outputId": "90710824-db11-4c02-b2d8-cb541b6aa7eb"
      },
      "source": [
        "print(Downsizing_df['title'][785])"
      ],
      "execution_count": null,
      "outputs": [
        {
          "output_type": "stream",
          "text": [
            "New COVID-19 Findings Confirm What We Have Learned Since the Beginning. A Targeted Response Is More Important Than Ever.\n"
          ],
          "name": "stdout"
        }
      ]
    },
    {
      "cell_type": "markdown",
      "metadata": {
        "id": "gG_ZYaFZn2d_"
      },
      "source": [
        "Concordances"
      ]
    },
    {
      "cell_type": "code",
      "metadata": {
        "id": "CCgzSnKfn3Ln"
      },
      "source": [
        "#edw prwta epilegoume to keyword  kai meta poses lexeis theloume girw apo to keyword"
      ],
      "execution_count": null,
      "outputs": []
    },
    {
      "cell_type": "code",
      "metadata": {
        "colab": {
          "base_uri": "https://localhost:8080/"
        },
        "id": "JKmzwKIin7Wu",
        "outputId": "1b346793-6944-4ef6-f220-3a726997b93f"
      },
      "source": [
        "word2find = input(\"What word do you want collocates for? \").lower() # AsSa\r\n",
        "#name2find = input (\"Type the name of the politician?\")\r\n",
        "context = input (\"How much content do you want?\")\r\n",
        "contextInt = int(context)"
      ],
      "execution_count": null,
      "outputs": [
        {
          "output_type": "stream",
          "text": [
            "What word do you want collocates for? vaccination\n",
            "How much content do you want?20\n"
          ],
          "name": "stdout"
        }
      ]
    },
    {
      "cell_type": "code",
      "metadata": {
        "id": "VanxRqqdoKre"
      },
      "source": [
        "def makeConc(word2conc,list2FindIn,context2Use,concList):\r\n",
        "\r\n",
        "    end = len(list2FindIn)\r\n",
        "    for location in range(end):\r\n",
        "        pattern = re.compile(word2conc)\r\n",
        "        if pattern.match(list2FindIn[location]):\r\n",
        "#        if list2FindIn[location] == word2conc:\r\n",
        "\r\n",
        "            # Here we check whether we are at the very beginning or end\r\n",
        "            if (location - context2Use) < 0:\r\n",
        "                beginCon = 0\r\n",
        "            else:\r\n",
        "                beginCon = location - context2Use\r\n",
        "                \r\n",
        "            if (location + context2Use) > end:\r\n",
        "                endCon = end\r\n",
        "            else:\r\n",
        "                endCon = location + context2Use + 1\r\n",
        "                \r\n",
        "            theContext = (list2FindIn[beginCon:endCon])\r\n",
        "            concordanceLine = ' '.join(theContext)\r\n",
        "            # print(str(location) + \": \" + concordanceLine)\r\n",
        "            concList.append(str(location) + \": \" + concordanceLine)"
      ],
      "execution_count": null,
      "outputs": []
    },
    {
      "cell_type": "code",
      "metadata": {
        "id": "6FrodQ6zoNuW"
      },
      "source": [
        "#edw emfanizontai ta apotelesmata poy tha koitaxoume"
      ],
      "execution_count": null,
      "outputs": []
    },
    {
      "cell_type": "code",
      "metadata": {
        "colab": {
          "base_uri": "https://localhost:8080/"
        },
        "id": "cLqYhexIoOlX",
        "outputId": "7ffe2bdd-7e01-4531-d7ca-894d4323fe7f"
      },
      "source": [
        "theRowConc = []\r\n",
        "for index, row in Downsizing_df.iterrows():\r\n",
        "    makeConc(word2find, word_tokenize(row['body']), int(context), theRowConc) #here you can change the body to other column\r\n",
        "    if  len(theRowConc) > 0:\r\n",
        "        print(index, theRowConc)\r\n",
        "    theRowConc = []"
      ],
      "execution_count": null,
      "outputs": [
        {
          "output_type": "stream",
          "text": [
            "384 ['1010: access for UAE citizens to visit the Al-Aksa mosque in Jerusalem , and cooperation with Israeli experts in developing a vaccination for the coronavirus and improving access to adequate and safe water supplies . The Bottom Line The agreement is a']\n",
            "467 ['896: . In response to an outbreak of smallpox more than a century ago , the Massachusetts Legislature passed a mandatory vaccination law for adults , imposing hefty fines and potential imprisonment for those who refused . Proclaiming the law to be']\n",
            "531 ['768: conditions , distributing rapid at-home tests to determine who may be contagious , and preparing a strategy for rapid public vaccination once a vaccine is released . Lockdowns and prohibiting families from visiting one another in their own homes this holiday']\n",
            "608 ['469: by citing a 1905 U.S. Supreme Court decision , Jacobson v. Massachusetts , which involved a state law mandating smallpox vaccinations in the midst of a smallpox epidemic . But Broomes explained that “ even in such extreme cases as a']\n",
            "702 ['692: all participants by Day 15 and exceeded the levels in convalescent serum by Day 36 . It took a second vaccination to elicit a neutralizing antibody response to the vaccine , but by Day 43 , the activity of neutralizing antibodies']\n",
            "783 ['592: concerned about their civil liberties : The justness of forcibly quarantining everyone , not just the sick ; potentially mandatory vaccinations ; and using cellphone GPS to track if we ’ ve been around infected people . While most suggestions were']\n"
          ],
          "name": "stdout"
        }
      ]
    },
    {
      "cell_type": "code",
      "metadata": {
        "id": "LxLfK-bkoUf_"
      },
      "source": [
        "def makeCollocates(word2coll,list2FindIn,context2Use,collist):\r\n",
        "    end = len(list2FindIn)\r\n",
        "    counter = 0\r\n",
        "    theCollocates = []\r\n",
        "    for word in list2FindIn:\r\n",
        "        pattern = re.compile(word2coll)\r\n",
        "        if pattern.match(word):       \r\n",
        "#        if word == word2coll: # This checks to see if the word is what we want\r\n",
        "            for i in range(context2Use):\r\n",
        "                if (counter - (i + 1)) >= 0: # This checks that we aren't at the beginning\r\n",
        "                    theCollocates.append(list2FindIn[(counter - (i + 1))]) # This adds words before\r\n",
        "                if (counter + (i + 1)) < end: # This checks that we aren't at the end\r\n",
        "                    theCollocates.append(list2FindIn[(counter + (i + 1))]) # This adds words after\r\n",
        "        counter = counter + 1\r\n",
        "    if len(theCollocates) > 0:\r\n",
        "        collist.append(theCollocates)\r\n",
        "    \r\n",
        "#print(theCollocates[:10])"
      ],
      "execution_count": null,
      "outputs": []
    },
    {
      "cell_type": "code",
      "metadata": {
        "id": "55aYKv9koXW-"
      },
      "source": [
        "theRowColl = []\r\n",
        "theCollocations = []\r\n",
        "for index, row in Downsizing_df.iterrows():\r\n",
        "    makeCollocates(word2find, word_tokenize(row['body']), int(context), theRowColl) #here you can change the body to other column\r\n",
        "#    if  len(theRowColl) > 0:\r\n",
        "#        print(index, theRowColl)\r\n",
        "    if len(theRowColl) > 0:\r\n",
        "        theCollocations.extend(theRowColl)\r\n",
        "    theRowColl = []"
      ],
      "execution_count": null,
      "outputs": []
    },
    {
      "cell_type": "markdown",
      "metadata": {
        "id": "p6QfIAtbobPU"
      },
      "source": [
        "Collocations"
      ]
    },
    {
      "cell_type": "code",
      "metadata": {
        "colab": {
          "base_uri": "https://localhost:8080/"
        },
        "id": "QA6G3ydRobum",
        "outputId": "287eba65-31a0-4f6c-8916-43c33804bbe5"
      },
      "source": [
        "import nltk\r\n",
        "from nltk.tokenize import word_tokenize\r\n",
        "nltk.download('punkt')"
      ],
      "execution_count": null,
      "outputs": [
        {
          "output_type": "stream",
          "text": [
            "[nltk_data] Downloading package punkt to /root/nltk_data...\n",
            "[nltk_data]   Package punkt is already up-to-date!\n"
          ],
          "name": "stdout"
        },
        {
          "output_type": "execute_result",
          "data": {
            "text/plain": [
              "True"
            ]
          },
          "metadata": {
            "tags": []
          },
          "execution_count": 18
        }
      ]
    },
    {
      "cell_type": "code",
      "metadata": {
        "colab": {
          "base_uri": "https://localhost:8080/"
        },
        "id": "1I6CocXZoeGP",
        "outputId": "f9a6acc5-c182-42ef-d1fc-fd5346fdd76e"
      },
      "source": [
        "import string\r\n",
        "punctL = list(set(string.punctuation))\r\n",
        "\r\n",
        "punctL.append('«')\r\n",
        "punctL.append('’')\r\n",
        "punctL.append('»')\r\n",
        "punctL.append('–')\r\n",
        "punctL"
      ],
      "execution_count": null,
      "outputs": [
        {
          "output_type": "execute_result",
          "data": {
            "text/plain": [
              "['?',\n",
              " ')',\n",
              " '^',\n",
              " '%',\n",
              " '=',\n",
              " '\"',\n",
              " '(',\n",
              " '.',\n",
              " '|',\n",
              " ']',\n",
              " '~',\n",
              " '!',\n",
              " '@',\n",
              " '-',\n",
              " '`',\n",
              " '<',\n",
              " '_',\n",
              " ',',\n",
              " '\\\\',\n",
              " '/',\n",
              " '$',\n",
              " '{',\n",
              " '&',\n",
              " '[',\n",
              " '*',\n",
              " \"'\",\n",
              " '>',\n",
              " '+',\n",
              " '#',\n",
              " ';',\n",
              " ':',\n",
              " '}',\n",
              " '«',\n",
              " '’',\n",
              " '»',\n",
              " '–']"
            ]
          },
          "metadata": {
            "tags": []
          },
          "execution_count": 19
        }
      ]
    },
    {
      "cell_type": "code",
      "metadata": {
        "id": "f2qg4uiOoiOe"
      },
      "source": [
        "Downsizing_df.body = Downsizing_df.body.apply( lambda x: ' '.join([w for w in word_tokenize(x) if (not w in list(set(stop_words).union(punctL))) & w.isalpha() ]))"
      ],
      "execution_count": null,
      "outputs": []
    },
    {
      "cell_type": "code",
      "metadata": {
        "id": "gvjFQh_tolf1"
      },
      "source": [
        "def makeCollocates(word2coll,list2FindIn,context2Use,collist):\r\n",
        "    end = len(list2FindIn)\r\n",
        "    counter = 0\r\n",
        "    theCollocates = []\r\n",
        "    for word in list2FindIn:\r\n",
        "        pattern = re.compile(word2coll)\r\n",
        "        if pattern.match(word):       \r\n",
        "#        if word == word2coll: # This checks to see if the word is what we want\r\n",
        "            for i in range(context2Use):\r\n",
        "                if (counter - (i + 1)) >= 0: # This checks that we aren't at the beginning\r\n",
        "                    theCollocates.append(list2FindIn[(counter - (i + 1))]) # This adds words before\r\n",
        "                if (counter + (i + 1)) < end: # This checks that we aren't at the end\r\n",
        "                    theCollocates.append(list2FindIn[(counter + (i + 1))]) # This adds words after\r\n",
        "        counter = counter + 1\r\n",
        "    if len(theCollocates) > 0:\r\n",
        "        collist.append(theCollocates)\r\n",
        "    \r\n",
        "#print(theCollocates[:10])"
      ],
      "execution_count": null,
      "outputs": []
    },
    {
      "cell_type": "code",
      "metadata": {
        "id": "d8DWn7nVon2u"
      },
      "source": [
        "theRowColl = []\r\n",
        "theCollocations = []\r\n",
        "for index, row in Downsizing_df.iterrows():\r\n",
        "    makeCollocates(word2find, word_tokenize(row['body']), int(context), theRowColl) #here you can change the body to other column\r\n",
        "#    if  len(theRowColl) > 0:\r\n",
        "#        print(index, theRowColl)\r\n",
        "    if len(theRowColl) > 0:\r\n",
        "        theCollocations.extend(theRowColl)\r\n",
        "    theRowColl = []"
      ],
      "execution_count": null,
      "outputs": []
    },
    {
      "cell_type": "code",
      "metadata": {
        "colab": {
          "base_uri": "https://localhost:8080/"
        },
        "id": "2zoqka96opX_",
        "outputId": "19f25815-7d79-493e-c504-47ba6d94498f"
      },
      "source": [
        "import itertools\r\n",
        "mergedCollocations = list(itertools.chain(*theCollocations))\r\n",
        "CollocationsNoStopWords =  [w for w in mergedCollocations if (not w in list(set(stop_words))) ]\r\n",
        "print(CollocationsNoStopWords)"
      ],
      "execution_count": null,
      "outputs": [
        {
          "output_type": "stream",
          "text": [
            "['developing', 'coronavirus', 'experts', 'improving', 'Israeli', 'access', 'cooperation', 'adequate', 'Jerusalem', 'safe', 'mosque', 'water', 'visit', 'supplies', 'citizens', 'Bottom', 'UAE', 'Line', 'access', 'agreement', 'States', 'huge', 'United', 'outcome', 'cooperation', 'United', 'strategic', 'States', 'closer', 'Israel', 'form', 'United', 'people', 'Arab', 'benefits', 'Emirates', 'reap', 'clears', 'Mohammed', 'way', 'mandatory', 'law', 'passed', 'adults', 'Legislature', 'imposing', 'Massachusetts', 'hefty', 'ago', 'fines', 'century', 'potential', 'smallpox', 'imprisonment', 'outbreak', 'refused', 'response', 'Proclaiming', 'crisis', 'law', 'health', 'invasion', 'respond', 'liberty', 'invoke', 'Henning', 'states', 'Jacobson', 'held', 'pastor', 'Court', 'community', 'Supreme', 'leader', 'Significantly', 'refused', 'inhabitants', 'vaccinated', 'welfare', 'prosecuted', 'public', 'vaccine', 'rapid', 'released', 'strategy', 'Lockdowns', 'preparing', 'prohibiting', 'contagious', 'families', 'determine', 'visiting', 'tests', 'another', 'rapid', 'homes', 'distributing', 'holiday', 'conditions', 'season', 'underlying', 'answers', 'elderly', 'reason', 'protect', 'tool', 'spreading', 'leaders', 'catching', 'time', 'chances', 'politicians', 'reduce', 'regularly', 'people', 'lecture', 'inform', 'following', 'continuing', 'science', 'smallpox', 'midst', 'mandating', 'smallpox', 'law', 'epidemic', 'state', 'Broomes', 'involved', 'explained', 'Massachusetts', 'extreme', 'Jacobson', 'cases', 'decision', 'public', 'Court', 'health', 'Supreme', 'crisis', 'citing', 'police', 'actions', 'power', 'justify', 'state', 'tried', 'without', 'Kelly', 'Broomes', 'treatment', 'order', 'discriminatory', 'allowed', 'justify', 'churches', 'risks', 'meet', 'health', 'long', 'second', 'elicit', 'took', 'neutralizing', 'Day', 'antibody', 'serum', 'response', 'convalescent', 'vaccine', 'levels', 'Day', 'exceeded', 'activity', 'Day', 'neutralizing', 'participants', 'antibodies', 'antibodies', 'detected', 'binding', 'levels', 'stimulated', 'similar', 'vaccine', 'convalescent', 'Moderna', 'serum', 'dose', 'participants', 'lowest', 'received', 'Even', 'second', 'system', 'dose', 'immune', 'response', 'acquired', 'showing', 'mandatory', 'using', 'potentially', 'cellphone', 'sick', 'GPS', 'everyone', 'track', 'quarantining', 'around', 'forcibly', 'infected', 'justness', 'people', 'liberties', 'While', 'civil', 'suggestions', 'concerned', 'well', 'People', 'left', 'admitted', 'scratching', 'openly', 'heads', 'politicians', 'Like', 'help', 'suggestion', 'course', 'eat', 'Of', 'baking', 'agenda', 'soda', 'political', 'make', 'achieve', 'body']\n"
          ],
          "name": "stdout"
        }
      ]
    },
    {
      "cell_type": "code",
      "metadata": {
        "colab": {
          "base_uri": "https://localhost:8080/"
        },
        "id": "mOkbko_Xosx2",
        "outputId": "0971651e-a6fb-4b6c-8095-283555ca981e"
      },
      "source": [
        "import nltk\r\n",
        "tokenDist = nltk.FreqDist(CollocationsNoStopWords)\r\n",
        "tokenDist.tabulate(40)"
      ],
      "execution_count": null,
      "outputs": [
        {
          "output_type": "stream",
          "text": [
            "       United        people           law      smallpox      response        health       vaccine           Day        access   cooperation        States     mandatory Massachusetts       refused        crisis      Jacobson         Court       Supreme        public         rapid   politicians         state       Broomes       justify        second  neutralizing         serum  convalescent        levels  participants    antibodies          dose    developing   coronavirus       experts     improving       Israeli      adequate     Jerusalem          safe \n",
            "            3             3             3             3             3             3             3             3             2             2             2             2             2             2             2             2             2             2             2             2             2             2             2             2             2             2             2             2             2             2             2             2             1             1             1             1             1             1             1             1 \n"
          ],
          "name": "stdout"
        }
      ]
    },
    {
      "cell_type": "code",
      "metadata": {
        "colab": {
          "base_uri": "https://localhost:8080/",
          "height": 740
        },
        "id": "RT0lyERiou4m",
        "outputId": "8cf7b981-629e-47ef-e377-e4360deb69a5"
      },
      "source": [
        "%matplotlib inline\r\n",
        "import matplotlib.pyplot as plt\r\n",
        "plt.figure(figsize=(15, 11))  # the size you want\r\n",
        "tokenDist.plot(40, title=\"Top Frequency Collocates for \" + word2find.capitalize())"
      ],
      "execution_count": null,
      "outputs": [
        {
          "output_type": "display_data",
          "data": {
            "image/png": "[encoded data removed]",
            "text/plain": [
              "<Figure size 1080x792 with 1 Axes>"
            ]
          },
          "metadata": {
            "tags": [],
            "needs_background": "light"
          }
        }
      ]
    }
  ]
}