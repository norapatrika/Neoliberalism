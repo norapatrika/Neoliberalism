{
  "nbformat": 4,
  "nbformat_minor": 0,
  "metadata": {
    "colab": {
      "name": "Collocations_masks.ipynb",
      "provenance": [],
      "collapsed_sections": []
    },
    "kernelspec": {
      "name": "python3",
      "display_name": "Python 3"
    }
  },
  "cells": [
    {
      "cell_type": "code",
      "metadata": {
        "colab": {
          "base_uri": "https://localhost:8080/"
        },
        "id": "1VX9SEscXaJn",
        "outputId": "f76bdb29-51e2-41fe-91bf-f973babc0646"
      },
      "source": [
        "import pandas as pd\r\n",
        "import matplotlib\r\n",
        "import nltk\r\n",
        "nltk.download('punkt')\r\n",
        "nltk.download('wordnet')\r\n",
        "from nltk import sent_tokenize, word_tokenize\r\n",
        "from nltk.stem.snowball import SnowballStemmer\r\n",
        "from nltk.stem.wordnet import WordNetLemmatizer\r\n",
        "from nltk.corpus import stopwords\r\n",
        "nltk.download('stopwords')\r\n",
        "stop_words = stopwords.words('english')\r\n",
        "stop_words.extend(['from', 'would', 'could', 'may', 'one', 'I', 'It', 'but', 'also', 'this', 'that', 'they', 'it', 'The', 'But', 'And', 'A', 'We', 'They', 'This', 'That', 'In', 'These', 'even', 'There', 'As', 'If', 'He', 'us', 'For'])\r\n",
        "import pandas as pd\r\n",
        "import numpy as np\r\n",
        "import re"
      ],
      "execution_count": null,
      "outputs": [
        {
          "output_type": "stream",
          "text": [
            "[nltk_data] Downloading package punkt to /root/nltk_data...\n",
            "[nltk_data]   Unzipping tokenizers/punkt.zip.\n",
            "[nltk_data] Downloading package wordnet to /root/nltk_data...\n",
            "[nltk_data]   Unzipping corpora/wordnet.zip.\n",
            "[nltk_data] Downloading package stopwords to /root/nltk_data...\n",
            "[nltk_data]   Unzipping corpora/stopwords.zip.\n"
          ],
          "name": "stdout"
        }
      ]
    },
    {
      "cell_type": "code",
      "metadata": {
        "colab": {
          "base_uri": "https://localhost:8080/"
        },
        "id": "XjZhBG49XvQo",
        "outputId": "ab18fc76-ff20-41f8-aa18-2d0ca8e4c65a"
      },
      "source": [
        "from google.colab import drive\r\n",
        "drive.mount('/gdrive')"
      ],
      "execution_count": null,
      "outputs": [
        {
          "output_type": "stream",
          "text": [
            "Mounted at /gdrive\n"
          ],
          "name": "stdout"
        }
      ]
    },
    {
      "cell_type": "code",
      "metadata": {
        "id": "EtJbUDv_X4HI"
      },
      "source": [
        "Downsizing_df = pd.read_csv(\"/gdrive/My Drive/Neoliber_2020.csv\")"
      ],
      "execution_count": null,
      "outputs": []
    },
    {
      "cell_type": "code",
      "metadata": {
        "colab": {
          "base_uri": "https://localhost:8080/",
          "height": 407
        },
        "id": "EoIkO0qRYNM4",
        "outputId": "6d7eddb5-208e-4cf2-b8bc-a6b029d63174"
      },
      "source": [
        "Downsizing_df"
      ],
      "execution_count": null,
      "outputs": [
        {
          "output_type": "execute_result",
          "data": {
            "text/html": [
              "<div>\n",
              "<style scoped>\n",
              "    .dataframe tbody tr th:only-of-type {\n",
              "        vertical-align: middle;\n",
              "    }\n",
              "\n",
              "    .dataframe tbody tr th {\n",
              "        vertical-align: top;\n",
              "    }\n",
              "\n",
              "    .dataframe thead th {\n",
              "        text-align: right;\n",
              "    }\n",
              "</style>\n",
              "<table border=\"1\" class=\"dataframe\">\n",
              "  <thead>\n",
              "    <tr style=\"text-align: right;\">\n",
              "      <th></th>\n",
              "      <th>Unnamed: 0</th>\n",
              "      <th>author</th>\n",
              "      <th>body</th>\n",
              "      <th>date</th>\n",
              "      <th>title</th>\n",
              "      <th>url</th>\n",
              "      <th>year</th>\n",
              "      <th>month</th>\n",
              "      <th>day</th>\n",
              "    </tr>\n",
              "  </thead>\n",
              "  <tbody>\n",
              "    <tr>\n",
              "      <th>0</th>\n",
              "      <td>0.0</td>\n",
              "      <td>Matt Kilcoyne</td>\n",
              "      <td>With the release of the details of the make-up...</td>\n",
              "      <td>2020-05-04</td>\n",
              "      <td>WHITHER THE ECONOMISTS WHILE THE ECONOMY WITHE...</td>\n",
              "      <td>https://www.adamsmith.org/news/whither-the-eco...</td>\n",
              "      <td>2020.0</td>\n",
              "      <td>5.0</td>\n",
              "      <td>4.0</td>\n",
              "    </tr>\n",
              "    <tr>\n",
              "      <th>1</th>\n",
              "      <td>1.0</td>\n",
              "      <td>Madsen Pirie</td>\n",
              "      <td>Cost-benefit analysis is a useful tool for wor...</td>\n",
              "      <td>2020-05-10</td>\n",
              "      <td>WE'RE MISSING COST BENEFIT ANALYSIS IN OUR COV...</td>\n",
              "      <td>https://www.adamsmith.org/blog/were-missing-co...</td>\n",
              "      <td>2020.0</td>\n",
              "      <td>5.0</td>\n",
              "      <td>10.0</td>\n",
              "    </tr>\n",
              "    <tr>\n",
              "      <th>2</th>\n",
              "      <td>2.0</td>\n",
              "      <td>Dr Smith</td>\n",
              "      <td>I have been asked how medicine is practised di...</td>\n",
              "      <td>2020-04-29</td>\n",
              "      <td>MEDICINE DURING COVID</td>\n",
              "      <td>https://www.adamsmith.org/despatches/medicine-...</td>\n",
              "      <td>2020.0</td>\n",
              "      <td>4.0</td>\n",
              "      <td>29.0</td>\n",
              "    </tr>\n",
              "    <tr>\n",
              "      <th>3</th>\n",
              "      <td>3.0</td>\n",
              "      <td>Lance Forman</td>\n",
              "      <td>The Government is going about supporting the e...</td>\n",
              "      <td>2020-03-19</td>\n",
              "      <td>COVID19: HOW TO DEAL WITH BUSINESS COLLAPSE AN...</td>\n",
              "      <td>https://www.adamsmith.org/blog/covid19-how-do-...</td>\n",
              "      <td>2020.0</td>\n",
              "      <td>3.0</td>\n",
              "      <td>19.0</td>\n",
              "    </tr>\n",
              "    <tr>\n",
              "      <th>4</th>\n",
              "      <td>4.0</td>\n",
              "      <td>Eamonn Butler</td>\n",
              "      <td>Too late now, but I think I understand why min...</td>\n",
              "      <td>2020-04-27</td>\n",
              "      <td>WHY THE POLICE GOT IT SO WRONG ON ENFORCING CO...</td>\n",
              "      <td>https://www.adamsmith.org/blog/why-the-police-...</td>\n",
              "      <td>2020.0</td>\n",
              "      <td>4.0</td>\n",
              "      <td>27.0</td>\n",
              "    </tr>\n",
              "    <tr>\n",
              "      <th>...</th>\n",
              "      <td>...</td>\n",
              "      <td>...</td>\n",
              "      <td>...</td>\n",
              "      <td>...</td>\n",
              "      <td>...</td>\n",
              "      <td>...</td>\n",
              "      <td>...</td>\n",
              "      <td>...</td>\n",
              "      <td>...</td>\n",
              "    </tr>\n",
              "    <tr>\n",
              "      <th>781</th>\n",
              "      <td>405.0</td>\n",
              "      <td>Andrew  McIndoe</td>\n",
              "      <td>Our most memorable heroes are forged through c...</td>\n",
              "      <td>2020-05-15</td>\n",
              "      <td>When People See Nonprofits Persevering, They’l...</td>\n",
              "      <td>https://www.heritage.org/jobs-and-labor/commen...</td>\n",
              "      <td>2020.0</td>\n",
              "      <td>5.0</td>\n",
              "      <td>15.0</td>\n",
              "    </tr>\n",
              "    <tr>\n",
              "      <th>782</th>\n",
              "      <td>406.0</td>\n",
              "      <td>Tommy  Binion</td>\n",
              "      <td>The news has been full of stories on SCOTUS no...</td>\n",
              "      <td>2020-10-13</td>\n",
              "      <td>The Confirmation of Amy Coney Barrett: Opening...</td>\n",
              "      <td>https://www.heritage.org/political-process/com...</td>\n",
              "      <td>2020.0</td>\n",
              "      <td>10.0</td>\n",
              "      <td>13.0</td>\n",
              "    </tr>\n",
              "    <tr>\n",
              "      <th>783</th>\n",
              "      <td>407.0</td>\n",
              "      <td>Kay C. James</td>\n",
              "      <td>When the nongovernmental National Coronavirus ...</td>\n",
              "      <td>2020-04-22</td>\n",
              "      <td>COVID-19 Crisis Has Re-Ignited a Sense of Comm...</td>\n",
              "      <td>https://www.heritage.org/civil-society/comment...</td>\n",
              "      <td>2020.0</td>\n",
              "      <td>4.0</td>\n",
              "      <td>22.0</td>\n",
              "    </tr>\n",
              "    <tr>\n",
              "      <th>784</th>\n",
              "      <td>408.0</td>\n",
              "      <td>Kevin  Pham, MD</td>\n",
              "      <td>America’s coronavirus testing rates have emerg...</td>\n",
              "      <td>2020-04-26</td>\n",
              "      <td>COVID-19 Testing and the Way Forward on Resumi...</td>\n",
              "      <td>https://www.heritage.org/public-health/comment...</td>\n",
              "      <td>2020.0</td>\n",
              "      <td>4.0</td>\n",
              "      <td>26.0</td>\n",
              "    </tr>\n",
              "    <tr>\n",
              "      <th>785</th>\n",
              "      <td>409.0</td>\n",
              "      <td>Kevin  Pham, MD</td>\n",
              "      <td>The Centers for Disease Control and Prevention...</td>\n",
              "      <td>2020-09-05</td>\n",
              "      <td>New COVID-19 Findings Confirm What We Have Lea...</td>\n",
              "      <td>https://www.heritage.org/public-health/comment...</td>\n",
              "      <td>2020.0</td>\n",
              "      <td>9.0</td>\n",
              "      <td>5.0</td>\n",
              "    </tr>\n",
              "  </tbody>\n",
              "</table>\n",
              "<p>786 rows × 9 columns</p>\n",
              "</div>"
            ],
            "text/plain": [
              "     Unnamed: 0           author  ... month   day\n",
              "0           0.0    Matt Kilcoyne  ...   5.0   4.0\n",
              "1           1.0     Madsen Pirie  ...   5.0  10.0\n",
              "2           2.0         Dr Smith  ...   4.0  29.0\n",
              "3           3.0     Lance Forman  ...   3.0  19.0\n",
              "4           4.0    Eamonn Butler  ...   4.0  27.0\n",
              "..          ...              ...  ...   ...   ...\n",
              "781       405.0  Andrew  McIndoe  ...   5.0  15.0\n",
              "782       406.0    Tommy  Binion  ...  10.0  13.0\n",
              "783       407.0     Kay C. James  ...   4.0  22.0\n",
              "784       408.0  Kevin  Pham, MD  ...   4.0  26.0\n",
              "785       409.0  Kevin  Pham, MD  ...   9.0   5.0\n",
              "\n",
              "[786 rows x 9 columns]"
            ]
          },
          "metadata": {
            "tags": []
          },
          "execution_count": 4
        }
      ]
    },
    {
      "cell_type": "code",
      "metadata": {
        "id": "wqKpV-aqYiI_"
      },
      "source": [
        "# Σβήνω κάποιες στήλες διότι δεν μου προσδίδουν καμία χρήσιμη πληροφορία \r\n",
        "\r\n",
        "Downsizing_df = Downsizing_df.drop('Unnamed: 0', axis = 1)"
      ],
      "execution_count": null,
      "outputs": []
    },
    {
      "cell_type": "code",
      "metadata": {
        "id": "hxXIBOTGYmc4"
      },
      "source": [
        "Downsizing_df = Downsizing_df[Downsizing_df.body.notnull()]"
      ],
      "execution_count": null,
      "outputs": []
    },
    {
      "cell_type": "code",
      "metadata": {
        "id": "ZgTXeV_8Yx__",
        "colab": {
          "base_uri": "https://localhost:8080/"
        },
        "outputId": "f9dc390c-739f-45e7-8298-3e2c28f4b6ae"
      },
      "source": [
        "Downsizing_df.shape"
      ],
      "execution_count": null,
      "outputs": [
        {
          "output_type": "execute_result",
          "data": {
            "text/plain": [
              "(785, 8)"
            ]
          },
          "metadata": {
            "tags": []
          },
          "execution_count": 7
        }
      ]
    },
    {
      "cell_type": "code",
      "metadata": {
        "colab": {
          "base_uri": "https://localhost:8080/",
          "height": 108
        },
        "id": "Q5UsHRGenYhm",
        "outputId": "9e771b1c-a338-4fe3-cf7a-02e3bc49814f"
      },
      "source": [
        "Downsizing_df['body'][16]"
      ],
      "execution_count": null,
      "outputs": [
        {
          "output_type": "execute_result",
          "data": {
            "application/vnd.google.colaboratory.intrinsic+json": {
              "type": "string"
            },
            "text/plain": [
              "'The ASI’s latest paper, written by ASI Head of Research Matthew Lesh, makes the case for decentralising  COVID-19 diagnostic testing in the United Kingdom:                COVID-19 is the biggest public health emergency in modern history. There have already been over 875,000 confirmed cases and 43,500 deaths worldwide. These numbers are expected to grow exponentially in the coming weeks, potentially resulting in millions of cases and hundreds of thousands of deaths.     The United Kingdom is experiencing a substantial growth in cases and deaths. Over 2,350 people confirmed to have died after contracting the virus. This number is doubling approximately every 3 days, putting the UK on a similar trajectory to the worst affected regions in the world.    Testing is a key tool to combat infectious diseases. It allows doctors to identify the needs of patients, public health authorities to trace and isolate cases to minimise spread, and epidemiologists to track the spread of an outbreak. It is also essential for healthcare workers to return to the frontline.    The UK has fallen to the bottom quarter of OECD countries for COVID-19 diagnostic testing, on a per capita basis. South Korea has tested four times as many people as the UK, Germany almost three times and the United States now almost twice as many, per capita.    The early decision to centralise testing to a single Public Health England (PHE) laboratory has hampered the ability to increase testing in the UK. Testing has now been expanded to 12 labs operated by PHE as well as a limited number of NHS laboratories.    The most successful countries in testing COVID-19 – such as Germany, South Korea, and more recently, the United States of America – have decentralised testing and embraced a mixture of public, non-government and private laboratories.    Since March 16, the United Kingdom has just over doubled daily testing capacity. In the same time, the United States has increased daily testing by a factor of 21.    The private sector has shown an extensive willingness to support the Government’s efforts to tackle COVID-19, including the rapid design and manufacture of ventilators and agreeing to transfer beds and staff in independent hospitals to the NHS.    If the UK Government wants to meet its testing targets and save lives, it must:    fast-track approval for private sector laboratories to conduct COVID-19 testing;     substantially expand usage of NHS and university laboratories to conduct COVID-19 testing;     undertake rapid approval of private sector developed tests, including mutual recognition of tests approved by other regulatory bodies such as the FDA;    reduce testing red tape, including any requirements that initial positive tests must be retested centrally by PHE; and    explicitly call on companies to help make testing kits and develop lab capacity for COVID-19 testing, modelled on the successful call for businesses to make ventilators.'"
            ]
          },
          "metadata": {
            "tags": []
          },
          "execution_count": 8
        }
      ]
    },
    {
      "cell_type": "code",
      "metadata": {
        "colab": {
          "base_uri": "https://localhost:8080/",
          "height": 35
        },
        "id": "InBSEY9RnfjQ",
        "outputId": "bc62a033-05f4-4884-b6a9-4c7a5d0f3b3e"
      },
      "source": [
        "Downsizing_df['title'][1]"
      ],
      "execution_count": null,
      "outputs": [
        {
          "output_type": "execute_result",
          "data": {
            "application/vnd.google.colaboratory.intrinsic+json": {
              "type": "string"
            },
            "text/plain": [
              "\"WE'RE MISSING COST BENEFIT ANALYSIS IN OUR COVID19 DISCUSSION\""
            ]
          },
          "metadata": {
            "tags": []
          },
          "execution_count": 9
        }
      ]
    },
    {
      "cell_type": "code",
      "metadata": {
        "colab": {
          "base_uri": "https://localhost:8080/"
        },
        "id": "77ltrWKQnnOH",
        "outputId": "0921fca3-5d58-466e-fb9c-152791d068b0"
      },
      "source": [
        "print(Downsizing_df['title'][785])"
      ],
      "execution_count": null,
      "outputs": [
        {
          "output_type": "stream",
          "text": [
            "New COVID-19 Findings Confirm What We Have Learned Since the Beginning. A Targeted Response Is More Important Than Ever.\n"
          ],
          "name": "stdout"
        }
      ]
    },
    {
      "cell_type": "markdown",
      "metadata": {
        "id": "gG_ZYaFZn2d_"
      },
      "source": [
        "Concordances"
      ]
    },
    {
      "cell_type": "code",
      "metadata": {
        "id": "CCgzSnKfn3Ln"
      },
      "source": [
        "#edw prwta epilegoume to keyword  kai meta poses lexeis theloume girw apo to keyword"
      ],
      "execution_count": null,
      "outputs": []
    },
    {
      "cell_type": "code",
      "metadata": {
        "colab": {
          "base_uri": "https://localhost:8080/"
        },
        "id": "JKmzwKIin7Wu",
        "outputId": "55266195-81e5-409d-f362-b605d0425fe1"
      },
      "source": [
        "word2find = input(\"What word do you want collocates for? \").lower() # AsSa\r\n",
        "#name2find = input (\"Type the name of the politician?\")\r\n",
        "context = input (\"How much content do you want?\")\r\n",
        "contextInt = int(context)"
      ],
      "execution_count": null,
      "outputs": [
        {
          "output_type": "stream",
          "text": [
            "What word do you want collocates for? masks\n",
            "How much content do you want?20\n"
          ],
          "name": "stdout"
        }
      ]
    },
    {
      "cell_type": "code",
      "metadata": {
        "id": "VanxRqqdoKre"
      },
      "source": [
        "def makeConc(word2conc,list2FindIn,context2Use,concList):\r\n",
        "\r\n",
        "    end = len(list2FindIn)\r\n",
        "    for location in range(end):\r\n",
        "        pattern = re.compile(word2conc)\r\n",
        "        if pattern.match(list2FindIn[location]):\r\n",
        "#        if list2FindIn[location] == word2conc:\r\n",
        "\r\n",
        "            # Here we check whether we are at the very beginning or end\r\n",
        "            if (location - context2Use) < 0:\r\n",
        "                beginCon = 0\r\n",
        "            else:\r\n",
        "                beginCon = location - context2Use\r\n",
        "                \r\n",
        "            if (location + context2Use) > end:\r\n",
        "                endCon = end\r\n",
        "            else:\r\n",
        "                endCon = location + context2Use + 1\r\n",
        "                \r\n",
        "            theContext = (list2FindIn[beginCon:endCon])\r\n",
        "            concordanceLine = ' '.join(theContext)\r\n",
        "            # print(str(location) + \": \" + concordanceLine)\r\n",
        "            concList.append(str(location) + \": \" + concordanceLine)"
      ],
      "execution_count": null,
      "outputs": []
    },
    {
      "cell_type": "code",
      "metadata": {
        "id": "6FrodQ6zoNuW"
      },
      "source": [
        "#edw emfanizontai ta apotelesmata poy tha koitaxoume"
      ],
      "execution_count": null,
      "outputs": []
    },
    {
      "cell_type": "code",
      "metadata": {
        "colab": {
          "base_uri": "https://localhost:8080/"
        },
        "id": "cLqYhexIoOlX",
        "outputId": "3139a12f-4970-4891-f08d-ee5f56aff35c"
      },
      "source": [
        "theRowConc = []\r\n",
        "for index, row in Downsizing_df.iterrows():\r\n",
        "    makeConc(word2find, word_tokenize(row['body']), int(context), theRowConc) #here you can change the body to other column\r\n",
        "    if  len(theRowConc) > 0:\r\n",
        "        print(index, theRowConc)\r\n",
        "    theRowConc = []"
      ],
      "execution_count": null,
      "outputs": [
        {
          "output_type": "stream",
          "text": [
            "2 ['132: all day in stifling heat with waterproof clothes that do not breathe . You can barely hear when we talk masks and visors . Some put their names on the front of their gowns , however , most people are more', '174: by their eyes than you would think . The intermediate area is a half dirty layer . Staff wear face masks to protect against aerosols generated from the patients leaking out when doors are opened . We also wear scrubs and']\n",
            "50 ['288: even dedicated scientists are struggling to show the effectiveness of even simple interventions . Perhaps the most obvious is face masks , where we have seen multiple revisions of the scientific advice . We also see confusion about whether we should']\n",
            "143 ['573: testing plays only part of a national response to a dangerous virus ( travel controls , clinical diagnoses , face masks , social distancing et alia also play their parts ) , but the speed by which a nation develops an']\n",
            "186 ['539: ” , but the guidelines are set by Public Health England , not politicians . And the procurement of face masks , gloves and gowns is not the personal responsibility of Boris Johnson or Matt Hancock , but of officials in']\n",
            "194 ['335: overly simplistic argument of the theory behind it . That theory is , essentially , that the price of the masks in the pre-crisis situation was calculated as P , and that once the period of demand stress has been reached', '403: However , this thesis lacks any economic validity . Suppose that , in a normal scenario , the demand for masks was 10,000 units per day at a price P. As the crisis erupts , demand shoots up to , say', '503: hire additional personnel , overwork machinery ( thus shortening its useful life ) , organise the logistical distribution of the masks , and keep to budgetary requirements in order to continue sourcing the raw materials necessary for production . It seems', '606: “ objective ” costs in the manufacturing process . What if the manufacturer , faced with the enormous demand for masks , decides to raise its price to P+2 and still manages to sell them all ? Interventionists would oppose it', '683: should seize the goods . The government in Spain , for example , has already seized hundreds of thousands of masks from various factories during the first week of the state of emergency . This seizure , far from being an']\n",
            "291 ['362: rule will give FEMA the authority to block exports of PPE ( such as N95 respirators , gloves , and masks ) in particular circumstances . The key part of the rule states : Following consultation with the Secretary of HHS', '1293: were used to prevent an order being shipped somewhere for a big halloween party where everyone wants to wear surgical masks , that ’ s OK too . And it ’ s even all right if governments keep the products in']\n",
            "296 ['192: , but few really cared because those rules weren ’ t going to stop them . Gray markets in face masks , medical face shields , and respirators developed . Some people and organizations worked together to make medical devices using', '231: devices using off‐\\u200bthe‐\\u200bshelf hardware and open source software . More simply , others just fired up sewing machines to make masks—and then , faced with an emerging public health consensus , the guidance from the federal government shifted dramatically : where', '262: the guidance from the federal government shifted dramatically : where formerly ordinary people were instructed not to buy or use masks , within a matter of days , the policy reversed , and all were encouraged to make and use cloth', '284: within a matter of days , the policy reversed , and all were encouraged to make and use cloth protective masks . Meanwhile , doctors and nurses started “ writing the playbook for treating coronavirus patients on the fly ” by']\n",
            "321 ['298: , Director of the National Institute of Allergy and Infectious Diseases Dr. Anthony Fauci discouraged the general use of face masks , saying ; “ The masks are important for someone who is infected to prevent them from infecting someone else', '304: of Allergy and Infectious Diseases Dr. Anthony Fauci discouraged the general use of face masks , saying ; “ The masks are important for someone who is infected to prevent them from infecting someone else , now when you see people', '359: everyone is wearing a mask , right now in the United States , people should not be walking around with masks. ” Given that the CDC justified a quarantine of Wuhan evacuees in late January by citing the risk of asymptomatic', '393: January by citing the risk of asymptomatic transmission , the suggestion that only those known to be ill should wear masks made little sense . Nevertheless , YouTube users have viewed the section of the interview addressing mask use more than', '459: doubtlessly misled many . Whether the result of expert incompetence or a misguided “ noble lie ” intended to preserve masks for others , the effect was the same : Americans were told by their government not only that they should', '482: , the effect was the same : Americans were told by their government not only that they should not buy masks , but that masks didn ’ t work . Individuals responsibly following the official advice refrained from wearing masks ,', '486: the same : Americans were told by their government not only that they should not buy masks , but that masks didn ’ t work . Individuals responsibly following the official advice refrained from wearing masks , greatly increasing their chances', '501: buy masks , but that masks didn ’ t work . Individuals responsibly following the official advice refrained from wearing masks , greatly increasing their chances of transmitting COVID-19 to others . In concert with poor advice from other government officials', '1026: platforms , it must first grapple with the outsize role of official misinformation in delaying the widespread use of face masks .']\n",
            "324 ['99: , sanitizer gel , and N95 respirators on hand for use by employees . The directive specifically stated that the masks would be available for bus drivers , station attendants , train conductors , and cleaners , among others . The', '144: America was reported by Washington state on February 29 , 2020 . Rather than make its supposed six‐\\u200bweek stockpile of masks available to its employees , MTA issued a memo on March 6 forbidding employees from wearing masks , even if', '161: six‐\\u200bweek stockpile of masks available to its employees , MTA issued a memo on March 6 forbidding employees from wearing masks , even if they had their own masks . The memo worried that , if bus operators and station attendants', '169: , MTA issued a memo on March 6 forbidding employees from wearing masks , even if they had their own masks . The memo worried that , if bus operators and station attendants were allowed to wear masks , it could', '186: had their own masks . The memo worried that , if bus operators and station attendants were allowed to wear masks , it could lead to “ panicked purchasing of facemasks … thereby putting health care providers and their communities at', '231: , as of March 6 , there was still some debate among epidemiologists about whether healthy people needed to wear masks to protect themselves from the virus . But it is one thing to not mandate that masks be worn ;', '248: needed to wear masks to protect themselves from the virus . But it is one thing to not mandate that masks be worn ; it is quite another to forbid employees from wearing them . MTA also apparently failed to follow', '322: coronavirus . However , it wasn ’ t until March 30 that MTA rescinded its order forbidding employees from wearing masks . It may only have been a coincidence that MTA ’ s CEO , Patrick Foye , had tested positive', '377: from coronavirus had taken place on March 26 . On April 9 , MTA announced that it had acquired 75,000 masks and had made them available to its workers “ since March 1. ” Technically , that was true , but', '419: didn ’ t begin distributing them until around March 31 . When employees complained that MTA had not made the masks available before then , MTA officials grumbled that it was “ a transportation organization , not a medical provider. ”', '464: 2012 policy directive . On April 16 , MTA finally issued a bulletin mandating that both employees and passengers wear masks . But by that time , more than 70 MTA employees had died of the coronavirus and at least 6,000']\n",
            "342 ['436: . But is this really happening on a meaningful scale ? Has there been an impact on the supply of masks , gloves , and respirators ? Has there been follow through on these stated initiatives ? I haven ’ t']\n",
            "344 ['375: workers , spacing bathroom urinals , wearing electronic bands to alert workers if others are too close , and providing masks , gloves , and hand sanitizer . A central plan quickly thrown together in Washington could not impose a “']\n",
            "350 ['198: numerous patients who may or not be contagious . Our clinicians and staff take all of the recommended precautions ( masks , frequent handwashing , disinfecting surfaces , screening patients for fever and/\\u200bor symptoms ) . Based upon the IgG findings']\n",
            "387 ['319: declared a controversial mask ban unconstitutional , resulting in an immediate restoration of Hong Kong protestors ’ ability to don masks . Within a day , Beijing responded with a chilling rebuke declaring that Beijing ’ s legislature , not Hong']\n",
            "396 ['76: during the pandemic could be used against them . During the pandemic , many stores and medical offices are providing masks and sanitizer to their customers and patients to protect their safety as they remain open . Meanwhile , some households', '149: ( except that it ’ s entirely voluntary ) . But while many gig-economy companies want to provide things like masks , sanitizer , and support leave to their partners , doing so risks costly lawsuits that could upend their operations.Get', '370: Republicans Health Economic Assistance , Liability Protection , and Schools Act ) , gig economy platforms could provide certain benefits—like masks , sanitizer , or support pay—to their partners , without those provisions serving as a basis for those companies being']\n",
            "404 ['642: Since we don ’ t know if we ourselves are infected , we act as though we are , wearing masks in hopes of reducing the chance of infecting others . Tragically , once we confirm an infection , we advise']\n",
            "409 ['699: American industry spool up to meet these potential demands , including fashion houses producing personal protective equipment , such as masks , and auto manufacturers producing respirators and ventilators . The armed forces are also working to increase hospital capacity by']\n",
            "419 ['701: quarantines in the U.S. and improve resource availability for contact tracing . Public health officials have informed the public that masks are a necessary measure to stop the spread of the virus . Yet , quarantine guidelines for individuals not wearing', '722: are a necessary measure to stop the spread of the virus . Yet , quarantine guidelines for individuals not wearing masks are the same for those wearing masks . Public health officials should consider mask adherence when requiring quarantine . Since', '729: spread of the virus . Yet , quarantine guidelines for individuals not wearing masks are the same for those wearing masks . Public health officials should consider mask adherence when requiring quarantine . Since the average onset of COVID-19 symptoms is']\n",
            "427 ['21: Centers for Disease Control and Prevention in April issued guidance for all Americans , urging them to wear cloth face masks in public to help slow the spread of COVID-19 . At the same time , state and local governments began', '46: slow the spread of COVID-19 . At the same time , state and local governments began requiring residents to wear masks , especially in stores . When the rapid spread of the disease and new regulations led to a shortage of', '68: especially in stores . When the rapid spread of the disease and new regulations led to a shortage of face masks , both medical-grade and non-medical grade , the free market and civil society stepped up to meet the challenge .', '121: s health committee in March that the Strategic National Stockpile held only about 1 % of the N95 and surgical masks needed to protect medical workers against the disease in a domestic pandemic scenario.Get exclusive insider information from Heritage experts delivered', '226: recommendations . Learn more here . It was clear that a response was needed to reverse the emerging shortage of masks for medical workers and American families . While the Trump administration took action to address the shortage of N95 masks', '246: masks for medical workers and American families . While the Trump administration took action to address the shortage of N95 masks and other personal protective equipment , the story of how American businesses , big and small , and families reacted', '272: , the story of how American businesses , big and small , and families reacted quickly to demand cloth face masks is one that should give us confidence in the power of the free market and civil society . For example', '320: Facebook group called “ West Michigan sews hope , ” which started out as a group making reusable cloth face masks for staff at Spectrum Health , a health system based in Grand Rapids . The hospital told MLive in early', '353: Rapids . The hospital told MLive in early April that it had received more than 300,000 “ clinically equivalent ” masks from their community . The woman who started the group also worked with her church , Impact Church , to', '383: group also worked with her church , Impact Church , to create mask-making kits for others to use when making masks for the hospital . Now , the group has broadened its reach to help provide masks for other institutions ,', '399: to use when making masks for the hospital . Now , the group has broadened its reach to help provide masks for other institutions , such as local nursing homes and first responders . Larger clothing and retail companies also responded', '426: local nursing homes and first responders . Larger clothing and retail companies also responded to the increased demand for cloth masks . Lilly Pulitzer produced masks in bright and cheerful patterns , selling them for about $ 13 each . At', '431: responders . Larger clothing and retail companies also responded to the increased demand for cloth masks . Lilly Pulitzer produced masks in bright and cheerful patterns , selling them for about $ 13 each . At the same time , the', '457: , selling them for about $ 13 each . At the same time , the company donated more than 67,000 masks to health care workers across the country . The Gap also produced masks for individuals , costing about $ 6', '470: , the company donated more than 67,000 masks to health care workers across the country . The Gap also produced masks for individuals , costing about $ 6 each , and donated 50,000 masks to the Boys & Girls Clubs .', '483: the country . The Gap also produced masks for individuals , costing about $ 6 each , and donated 50,000 masks to the Boys & Girls Clubs . Masks from Vera Bradley , priced at about $ 8 each , sold', '542: Coronavirus Response Fund through mask sales . Small businesses on Etsy.com also are working overtime to meet the demand for masks . Before the pandemic , cloth masks were not very popular items for Etsy sellers , but the online marketplace', '549: Small businesses on Etsy.com also are working overtime to meet the demand for masks . Before the pandemic , cloth masks were not very popular items for Etsy sellers , but the online marketplace reported that “ 110,000 Etsy sellers sold', '576: Etsy sellers , but the online marketplace reported that “ 110,000 Etsy sellers sold a total of 29 million face masks worth $ 346 million in its second quarter. ” Sellers were able to quickly respond to the increased demand thanks', '675: largely moved offshore . Restarting that production and ensuring it was profitable could have been difficult for businesses because single-use masks ( often imported from China ) could be purchased for as little as $ 4 per box of 100 .', '720: be true . The increased demand was met with an increase in price per mask . Plus , companies selling masks advertised their plans to make charitable contributions , justifying the higher prices . Spontaneous charitable donations by individuals and religious', '772: civil society in America and our willingness to chip in when others are in need . Creators of cloth face masks were also incredibly innovative . Mask options for individuals went from plain blue , single-use masks to reusable masks that', '788: Creators of cloth face masks were also incredibly innovative . Mask options for individuals went from plain blue , single-use masks to reusable masks that could be cleaned in the washing machine . Innovative masks included features such as adjustable ear', '791: face masks were also incredibly innovative . Mask options for individuals went from plain blue , single-use masks to reusable masks that could be cleaned in the washing machine . Innovative masks included features such as adjustable ear loops , nose', '802: went from plain blue , single-use masks to reusable masks that could be cleaned in the washing machine . Innovative masks included features such as adjustable ear loops , nose bridges , and slots for added filters . In a very', '857: public health to meeting the wide variety of preferences that consumers have . Many Americans embraced the inconvenience of wearing masks by choosing fabrics to match their outfits or that represented their own personal style . Rather than brightening someone ’', '889: own personal style . Rather than brightening someone ’ s day with a smile , folks are spreading joy with masks sporting inspirational sayings or funny printed faces . Even in the grim circumstances of a pandemic , the American spirit']\n",
            "437 ['498: The shipyard is now requiring all employees to wear face coverings , and one of its shipbuilding teams is making masks out of Newport News T-shirts . Facilities are frequently cleaned , and workers are asked to maintain social distancing—staying six']\n",
            "439 ['66: mask would have exactly zero effect . Normally , this kind of rhetoric is a merely simplified admonition to wear masks generally , but in this press briefing , Biden also endorsed a nationwide mask-wearing mandate , adding this gloomy justification', \"308: on the sidewalk . The recommendation to wear a mask comes from clinical experience and common sense . Surgeons wear masks during procedures not to protect the surgeon but to prevent the surgeon 's respirations from contaminating the field . For\", '420: decrease the speed and spread of our potentially infectious respiratory droplets or aerosols . But every single study shows that masks are not a panacea . They are a lightweight solution that comes at very little cost to the individual and', \"505: . It estimates that between 17 to 55,000 lives would have been saved if employees nationwide were required to wear masks between April and May . The problem with Biden 's claim then should be obvious . Requiring employees to be\", '558: , and the situation in April and May is significantly different from the situation now . For one thing , masks are much more accepted now than they were before . And secondly , the infection has already spread through all', \"748: generous , caring people . We need to trust them to care for themselves and their loved ones by wearing masks when social distancing is not possible . As President Donald Trump has said , it 's the patriotic thing to\"]\n",
            "441 ['772: has said that it will be checking the temperature of everyone going into the rally and providing hand sanitizer and masks to all attendees . ( Masks were not something Liberia required . ) These measures seem sound , and I']\n",
            "485 ['761: debt . DeJoy has requested supplemental funds from Congress to cover additional expenses related to COVID-19 , such as providing masks to employees and installing transparent dividers at retail locations . The amount needed to address those costs would not be']\n",
            "519 ['1033: into this crisis at higher risk . Water , fuel , and electrical shortages are common , without even mentioning masks or medicine needed to combat the coronavirus . Recent outbreaks of infectious diseases like malaria and measles have spread beyond']\n",
            "520 ['485: its global image . Hence the China charm offensive : “ We are here to help . How about some masks ? ” But increasingly , the reality of what China is doing is bumping up against the rhetoric of the']\n",
            "546 ['605: viral outbreak of this scale , there is likely to be an increased need for personal protective equipment ( surgical masks , gloves , etc . ) , hospital and intensive-care beds , pharmaceuticals , and ventilators for those in respiratory']\n",
            "567 ['259: This year , the National Election Commission ( NEC ) has articulated strict health protocols requiring voters to wear face masks and disposable gloves , maintain social distancing , and pass a temperature check before casting a ballot . Voters failing']\n",
            "584 ['1144: statements to which public health officials seem prone . On the other side , social media resonate with warnings that masks deprive the body of oxygen . So , will wearing a mask prevent you from getting infected or send you', '1247: certainty isn ’ t possible . You can ’ t conduct a properly controlled experiment that yields scientific proof that masks really help prevent the spread of the coronavirus . If there ’ s no definitive proof that masks work ,', '1265: proof that masks really help prevent the spread of the coronavirus . If there ’ s no definitive proof that masks work , why wear them ? Mostly , commonsense . Scientists seem fairly certain that COVID-19 is spread by droplets', '1338: ’ t know they ’ re infected can spread the disease to others . By imposing a physical barrier , masks reduce the speed and spread of our breaths . That ’ s thought to lessen the chance that a person']\n",
            "596 ['885: a National Strategy for Pandemic Influenza to ensure stockpiles of “ everything from syringes to hospital beds , respirators , masks and protective equipment. ” Some have criticized President Trump ’ s response to COVID-19 as too little , too late']\n",
            "598 ['503: to the Chinese people during the COVID-19 pandemic . On Jan. 29 , it delivered six metric tons of respiratory masks and protective suits for health workers to Shanghai , for distribution in Wuhan . In 2019 , the United States']\n",
            "617 ['27: the continuing COVID-19 pandemic , one easy way we can help reduce the spread of the disease is using face masks . But policymakers—such as those in California and in some cities—are exactly wrong to mandate them . Policymakers and public', '55: and in some cities—are exactly wrong to mandate them . Policymakers and public health officials should encourage the use of masks , but should absolutely avoid mandating them . Mandating mask use could turn this lightweight solution into yet another onerous', '210: stores . One of the major missteps in the early pandemic response was public health messaging that stated that face masks were not effective in preventing disease , and the general public was encouraged not to purchase surgical masks for themselves', '228: that face masks were not effective in preventing disease , and the general public was encouraged not to purchase surgical masks for themselves . No less than Dr. Anthony Fauci recently admitted that this early messaging was meant not to protect', '259: admitted that this early messaging was meant not to protect the public , but rather to preserve the supply of masks for health care providers . That goal of ensuring provider access to protective equipment is laudable , but Americans from', '345: wearing a face mask . That said , as a doctor , I encourage Americans not to dismiss using face masks . Increased testing throughout the country has shown that , even after a month or more of multiple statewide lockdown', '505: is necessary to continue fighting the virus while resuming some parts of normal daily life . The use of face masks is a solution that has very low cost and a light imposition on the lives of individual Americans . Even', '534: and a light imposition on the lives of individual Americans . Even if they aren ’ t showing symptoms , masks will let more Americans go out and resume more normal lives . We know that masks are an easy way', '550: t showing symptoms , masks will let more Americans go out and resume more normal lives . We know that masks are an easy way of reducing transmission of COVID-19 in confined or indoor spaces , but otherwise have little effect', '726: ’ s respiratory expulsion limits the travel and spread of that expulsion . That ’ s the reason surgeons wear masks during procedures . It ’ s not to protect the mask-wearing surgeon , but to protect the patient from the', '771: particles . Of course , if you ’ re sick , you still need to stay home . Regular cloth masks , and even surgical masks , do not stop transmission of the disease . We also need to be clear-eyed', '776: if you ’ re sick , you still need to stay home . Regular cloth masks , and even surgical masks , do not stop transmission of the disease . We also need to be clear-eyed about the reliability and limitations', '807: also need to be clear-eyed about the reliability and limitations of this information . Current evidence with regard to face masks and COVID-19 is largely sparse , and guidance to wear masks is based on clinical experience and data from prior', '818: this information . Current evidence with regard to face masks and COVID-19 is largely sparse , and guidance to wear masks is based on clinical experience and data from prior experiments with similar viruses . That doesn ’ t mean we', '844: and data from prior experiments with similar viruses . That doesn ’ t mean we should to wait to wear masks until we have hard evidence in a randomized , controlled trial . That would throw out commonsense in pursuit of']\n",
            "621 ['855: , it may be futile asking adolescents , much less kindergarteners , to walk in certain directions or to keep masks on their faces for hours a day . Children are at low risk themselves and present low risk to others']\n",
            "632 ['842: entering and exiting a patient ’ s room , but when supplies were short , workers had to keep their masks and face shields for several shifts or until they were visibly soiled . That makes personal protective equipment a good']\n",
            "635 ['73: country had done so well with such little effort . Some speculated that cultural factors such as widespread use of masks in winter and the Japanese bow when greeting , versus the U.S. handshake and hug , contributed . But as']\n",
            "664 ['843: has produced one positive side effect , however . It has sharpened our recognition that China ’ s public diplomacy masks the malign anti-Americanism of an increasingly powerful competitor on the global stage .']\n",
            "667 ['255: this act , the executive branch has struck agreements with multiple companies to accelerate COVID-19 countermeasures , like N95 protective masks , testing swabs , and vaccine development . Invoking the act has been vitally important in acquiring medical supplies to']\n",
            "674 ['1021: , but the coronavirus threatens all of us one way or another . Ordinary Americans can help by donating medical masks , practicing social distancing , donating blood , and helping at-risk neighbors . In recent days , an outpouring of']\n",
            "682 ['432: your personal information to a questionable source . The physical side of this is the hoarding of medical supplies ( masks , gowns , other personal protective equipment , hand sanitizer , etc . ) and price gouging at horrifically inflated']\n",
            "690 ['273: Why so ? Much of this mythology stems from actual events in the 1960s , when soldiers garbed in gas masks really did challenge civil rights and anti-war protesters at the point of a gun . Moviemakers soon appropriated this motif']\n",
            "692 ['554: good decisions ? Will many Americans , even with relaxed mitigation rules , continue to avoid public areas , wear masks , socially distance , and maintain other mitigation practices ? And will policymakers enable Americans to assess their own risks']\n",
            "694 [\"66: months we 've been bombarded nonstop with news stories of rising case numbers and public service announcements admonishing us about masks , hand-washing and social distancing . It would be easy to conclude that all we can do is hunker down\"]\n",
            "707 ['340: that rapidly produced this equipment for hospitals . 3 . Medical Supplies With basic medical supplies , such as face masks and hand sanitizer , in high demand , businesses of all sizes and industries have helped . Hewlett Packard uses', '366: high demand , businesses of all sizes and industries have helped . Hewlett Packard uses 3D printers to make face masks and face shields . MyPillow voluntarily shifted 75 % of its production capacity to making cotton face masks to donate', '384: make face masks and face shields . MyPillow voluntarily shifted 75 % of its production capacity to making cotton face masks to donate to hospitals . N95 surgical masks are being produced by Honeywell at its plant in Rhode Island ,', '392: voluntarily shifted 75 % of its production capacity to making cotton face masks to donate to hospitals . N95 surgical masks are being produced by Honeywell at its plant in Rhode Island , and Superior Bindery Inc. , a small business', '422: Rhode Island , and Superior Bindery Inc. , a small business in Massachusetts , is turning recycled cardboard into basic masks for the general public . Well-known American companies such as alcoholic beverage maker Pernod Ricard , as well as small']\n",
            "708 ['909: days of the COVID-19 outbreak , the U.S. government and civil society organizations like Samaritan ’ s Purse , provided masks and supplies to suffering peoples in Wuhan . The U.S. didn ’ t provide support merely to present a certain']\n",
            "723 ['26: excessive regulation is bad for public health . Regulatory barriers blocked access to telehealth services , hampered accelerated distribution of masks and disinfectants , and threatened to delay vaccine development . This object lesson in regulatory risk should engender support for']\n",
            "729 ['269: a stringent home-quarantine process . With its domestic situation well in hand , Taiwan in recent weeks has donated face masks and medical supplies to other nations . You might think that having a first-rate medical system , setting a model']\n",
            "745 ['427: schedule those classes . On May 25 , schools reopened full time . Austria . Schools have reopened , and masks are no longer required because “ officials observed little spread within schools. ” Canada . In Quebec , schools reopened', '694: continue. ” Israel . Schools fully reopened in May in Israel , and classes are full , but students wear masks . Individual schools close temporarily if a student or staff member contracts the virus . Japan . Japan began reopening', '748: morning and provide a report to the schools . Children attend on alternating days , and teachers and students wear masks . Netherlands . The Netherlands reopened in May but halved their class sizes . Schools did not require social distancing']\n",
            "750 ['1258: , and Doctors Without Borders to send thermometers , portable ventilators , resuscitators , gloves , face shields , surgical masks , gowns and goggles . The first shipments of international medical aid have arrived at North Korea ’ s borders', '1413: , and Doctors Without Borders to send thermometers , portable ventilators , resuscitators , gloves , face shields , surgical masks , gowns and goggles . The first shipments of international medical aid have arrived at North Korea ’ s borders']\n",
            "751 ['87: of course . The National Election Commission ( NEC ) established strict health protocols , requiring voters to wear face masks and disposable gloves , maintain social distancing , and pass a temperature check before casting ballots . Those failing the']\n",
            "755 ['290: , White House adviser Peter Navarro described how executives from Honeywell had reached out to offer assistance in making N95 masks , how FedEx is making transportation happen , how Pernod Ricard offered to start making hand sanitizer , and how', '525: have to use it somewhere along the supply chain , in a minor way . But we have millions of masks being done . We have respirators . We have ventilators . We have a lot of things happening right now']\n",
            "776 ['499: simply do not know how to wear a mask properly—for instance , by leaving their noses exposed or pulling their masks down to talk with others , thereby negating any benefit a mask might have . It ’ s also impossible']\n",
            "780 ['630: for medical equipment and supplies . This authority has already been used in at least one instance to seize hoarded masks and protective equipment . In the following week , the White House started to get specific about how to wield', '1350: companies to make ventilators ; Honeywell , 3M , Mypillow , Hanes , and others to make millions of N95 masks ; and Anheuser Busch , Baccardi , and scores of boutique distillers to make hand sanitizer . The list goes']\n",
            "783 ['276: do it , like maintaining mandatory social distancing , prohibiting large public gatherings , quarantining people with symptoms and wearing masks in public consistently . A new mantra may be emerging in business : “ No shoes , no shirt ,']\n"
          ],
          "name": "stdout"
        }
      ]
    },
    {
      "cell_type": "code",
      "metadata": {
        "id": "LxLfK-bkoUf_"
      },
      "source": [
        "def makeCollocates(word2coll,list2FindIn,context2Use,collist):\r\n",
        "    end = len(list2FindIn)\r\n",
        "    counter = 0\r\n",
        "    theCollocates = []\r\n",
        "    for word in list2FindIn:\r\n",
        "        pattern = re.compile(word2coll)\r\n",
        "        if pattern.match(word):       \r\n",
        "#        if word == word2coll: # This checks to see if the word is what we want\r\n",
        "            for i in range(context2Use):\r\n",
        "                if (counter - (i + 1)) >= 0: # This checks that we aren't at the beginning\r\n",
        "                    theCollocates.append(list2FindIn[(counter - (i + 1))]) # This adds words before\r\n",
        "                if (counter + (i + 1)) < end: # This checks that we aren't at the end\r\n",
        "                    theCollocates.append(list2FindIn[(counter + (i + 1))]) # This adds words after\r\n",
        "        counter = counter + 1\r\n",
        "    if len(theCollocates) > 0:\r\n",
        "        collist.append(theCollocates)\r\n",
        "    \r\n",
        "#print(theCollocates[:10])"
      ],
      "execution_count": null,
      "outputs": []
    },
    {
      "cell_type": "code",
      "metadata": {
        "id": "55aYKv9koXW-"
      },
      "source": [
        "theRowColl = []\r\n",
        "theCollocations = []\r\n",
        "for index, row in Downsizing_df.iterrows():\r\n",
        "    makeCollocates(word2find, word_tokenize(row['body']), int(context), theRowColl) #here you can change the body to other column\r\n",
        "#    if  len(theRowColl) > 0:\r\n",
        "#        print(index, theRowColl)\r\n",
        "    if len(theRowColl) > 0:\r\n",
        "        theCollocations.extend(theRowColl)\r\n",
        "    theRowColl = []"
      ],
      "execution_count": null,
      "outputs": []
    },
    {
      "cell_type": "markdown",
      "metadata": {
        "id": "p6QfIAtbobPU"
      },
      "source": [
        "Collocations"
      ]
    },
    {
      "cell_type": "code",
      "metadata": {
        "colab": {
          "base_uri": "https://localhost:8080/"
        },
        "id": "QA6G3ydRobum",
        "outputId": "3edea7bd-59be-4709-fca6-56fc3ec1b957"
      },
      "source": [
        "import nltk\r\n",
        "from nltk.tokenize import word_tokenize\r\n",
        "nltk.download('punkt')"
      ],
      "execution_count": null,
      "outputs": [
        {
          "output_type": "stream",
          "text": [
            "[nltk_data] Downloading package punkt to /root/nltk_data...\n",
            "[nltk_data]   Package punkt is already up-to-date!\n"
          ],
          "name": "stdout"
        },
        {
          "output_type": "execute_result",
          "data": {
            "text/plain": [
              "True"
            ]
          },
          "metadata": {
            "tags": []
          },
          "execution_count": 18
        }
      ]
    },
    {
      "cell_type": "code",
      "metadata": {
        "colab": {
          "base_uri": "https://localhost:8080/"
        },
        "id": "1I6CocXZoeGP",
        "outputId": "aa801f4e-8850-4a29-8b94-cf7f13ef01dc"
      },
      "source": [
        "import string\r\n",
        "punctL = list(set(string.punctuation))\r\n",
        "\r\n",
        "punctL.append('«')\r\n",
        "punctL.append('’')\r\n",
        "punctL.append('»')\r\n",
        "punctL.append('–')\r\n",
        "punctL"
      ],
      "execution_count": null,
      "outputs": [
        {
          "output_type": "execute_result",
          "data": {
            "text/plain": [
              "['_',\n",
              " '<',\n",
              " '.',\n",
              " '/',\n",
              " '\\\\',\n",
              " '@',\n",
              " '-',\n",
              " '%',\n",
              " '#',\n",
              " '^',\n",
              " '*',\n",
              " '`',\n",
              " '~',\n",
              " '>',\n",
              " ']',\n",
              " '|',\n",
              " '+',\n",
              " '\"',\n",
              " '&',\n",
              " '!',\n",
              " ':',\n",
              " ')',\n",
              " '{',\n",
              " \"'\",\n",
              " '?',\n",
              " '}',\n",
              " '(',\n",
              " ';',\n",
              " '[',\n",
              " ',',\n",
              " '=',\n",
              " '$',\n",
              " '«',\n",
              " '’',\n",
              " '»',\n",
              " '–']"
            ]
          },
          "metadata": {
            "tags": []
          },
          "execution_count": 19
        }
      ]
    },
    {
      "cell_type": "code",
      "metadata": {
        "id": "f2qg4uiOoiOe"
      },
      "source": [
        "Downsizing_df.body = Downsizing_df.body.apply( lambda x: ' '.join([w for w in word_tokenize(x) if (not w in list(set(stop_words).union(punctL))) & w.isalpha() ]))"
      ],
      "execution_count": null,
      "outputs": []
    },
    {
      "cell_type": "code",
      "metadata": {
        "id": "gvjFQh_tolf1"
      },
      "source": [
        "def makeCollocates(word2coll,list2FindIn,context2Use,collist):\r\n",
        "    end = len(list2FindIn)\r\n",
        "    counter = 0\r\n",
        "    theCollocates = []\r\n",
        "    for word in list2FindIn:\r\n",
        "        pattern = re.compile(word2coll)\r\n",
        "        if pattern.match(word):       \r\n",
        "#        if word == word2coll: # This checks to see if the word is what we want\r\n",
        "            for i in range(context2Use):\r\n",
        "                if (counter - (i + 1)) >= 0: # This checks that we aren't at the beginning\r\n",
        "                    theCollocates.append(list2FindIn[(counter - (i + 1))]) # This adds words before\r\n",
        "                if (counter + (i + 1)) < end: # This checks that we aren't at the end\r\n",
        "                    theCollocates.append(list2FindIn[(counter + (i + 1))]) # This adds words after\r\n",
        "        counter = counter + 1\r\n",
        "    if len(theCollocates) > 0:\r\n",
        "        collist.append(theCollocates)\r\n",
        "    \r\n",
        "#print(theCollocates[:10])"
      ],
      "execution_count": null,
      "outputs": []
    },
    {
      "cell_type": "code",
      "metadata": {
        "id": "d8DWn7nVon2u"
      },
      "source": [
        "theRowColl = []\r\n",
        "theCollocations = []\r\n",
        "for index, row in Downsizing_df.iterrows():\r\n",
        "    makeCollocates(word2find, word_tokenize(row['body']), int(context), theRowColl) #here you can change the body to other column\r\n",
        "#    if  len(theRowColl) > 0:\r\n",
        "#        print(index, theRowColl)\r\n",
        "    if len(theRowColl) > 0:\r\n",
        "        theCollocations.extend(theRowColl)\r\n",
        "    theRowColl = []"
      ],
      "execution_count": null,
      "outputs": []
    },
    {
      "cell_type": "code",
      "metadata": {
        "colab": {
          "base_uri": "https://localhost:8080/"
        },
        "id": "2zoqka96opX_",
        "outputId": "1276e7fe-e562-4f39-e925-6384daf0c13f"
      },
      "source": [
        "import itertools\r\n",
        "mergedCollocations = list(itertools.chain(*theCollocations))\r\n",
        "CollocationsNoStopWords =  [w for w in mergedCollocations if (not w in list(set(stop_words))) ]\r\n",
        "print(CollocationsNoStopWords)"
      ],
      "execution_count": null,
      "outputs": [
        {
          "output_type": "stream",
          "text": [
            "['talk', 'visors', 'hear', 'Some', 'barely', 'put', 'You', 'names', 'breathe', 'front', 'clothes', 'gowns', 'waterproof', 'however', 'heat', 'people', 'stifling', 'recognisable', 'day', 'eyes', 'spending', 'think', 'avoid', 'intermediate', 'shifts', 'area', 'splitting', 'half', 'brunt', 'dirty', 'bearing', 'layer', 'nurses', 'Staff', 'visor', 'wear', 'face', 'face', 'full', 'masks', 'face', 'protect', 'wear', 'aerosols', 'Staff', 'generated', 'layer', 'patients', 'dirty', 'leaking', 'half', 'doors', 'area', 'opened', 'intermediate', 'wear', 'think', 'scrubs', 'eyes', 'wash', 'recognisable', 'hands', 'people', 'red', 'however', 'You', 'gowns', 'imagine', 'front', 'every', 'names', 'surface', 'put', 'coated', 'Some', 'invisible', 'visors', 'layer', 'masks', 'viral', 'face', 'seen', 'obvious', 'multiple', 'Perhaps', 'revisions', 'interventions', 'scientific', 'simple', 'advice', 'effectiveness', 'see', 'show', 'confusion', 'struggling', 'whether', 'scientists', 'metre', 'dedicated', 'WHO', 'obvious', 'recommends', 'transmission', 'metres', 'knowledge', 'UK', 'apparent', 'Government', 'Yet', 'recommends', 'judgement', 'apart', 'datasets', 'indeed', 'based', 'number', 'often', 'people', 'opinion', 'meet', 'face', 'social', 'diagnoses', 'distancing', 'clinical', 'et', 'controls', 'alia', 'travel', 'play', 'virus', 'parts', 'dangerous', 'speed', 'response', 'nation', 'national', 'develops', 'part', 'effective', 'plays', 'biochemical', 'testing', 'test', 'Biochemical', 'reflect', 'testing', 'overall', 'susceptible', 'efficiency', 'renders', 'pandemic', 'epidemiology', 'response', 'transpires', 'hugely', 'sequence', 'reinforce', 'RNA', 'response', 'face', 'gloves', 'procurement', 'gowns', 'politicians', 'personal', 'England', 'responsibility', 'Health', 'Boris', 'Public', 'Johnson', 'set', 'Matt', 'guidelines', 'Hancock', 'weakened', 'officials', 'workers', 'NHS', 'health', 'Public', 'use', 'Health', 'PPE', 'England', 'guidelines', 'Far', 'agreement', 'defend', 'Pathogens', 'government', 'Dangerous', 'absence', 'Committee', 'evidence', 'Advisory', 'politicians', 'UK', 'actively', 'price', 'situation', 'essentially', 'calculated', 'theory', 'P', 'behind', 'period', 'theory', 'demand', 'argument', 'stress', 'simplistic', 'reached', 'overly', 'rises', 'betrays', 'result', 'thought', 'illegitimate', 'line', 'surplus', 'However', 'value', 'others', 'seems', 'suffering', 'emerging', 'profiting', 'businessman', 'intention', 'benefiting', 'necessities', 'healthcare', 'basic', 'needs', 'commercialising', 'However', 'punish', 'thesis', 'demand', 'units', 'scenario', 'per', 'normal', 'day', 'Suppose', 'price', 'validity', 'crisis', 'economic', 'erupts', 'lacks', 'demand', 'thesis', 'shoots', 'However', 'say', 'needs', 'units', 'healthcare', 'day', 'benefiting', 'whilst', 'businessman', 'unit', 'emerging', 'price', 'seems', 'raw', 'value', 'materials', 'surplus', 'electricity', 'illegitimate', 'remains', 'result', 'neutral', 'rises', 'owner', 'distribution', 'keep', 'logistical', 'budgetary', 'organise', 'requirements', 'life', 'order', 'useful', 'continue', 'shortening', 'sourcing', 'thus', 'raw', 'machinery', 'materials', 'overwork', 'necessary', 'personnel', 'production', 'additional', 'seems', 'hire', 'logical', 'needs', 'faced', 'situation', 'significant', 'owner', 'unforeseen', 'business', 'increase', 'hours', 'demand', 'counted', 'prices', 'period', 'rise', 'adaptation', 'given', 'demand', 'decides', 'enormous', 'raise', 'faced', 'price', 'manufacturer', 'still', 'What', 'manages', 'process', 'sell', 'manufacturing', 'Interventionists', 'costs', 'oppose', 'objective', 'arguing', 'higher', 'businessman', 'view', 'profiting', 'increase', 'increase', 'price', 'costs', 'accept', 'derived', 'socialists', 'higher', 'problem', 'demand', 'heart', 'interventionist', 'scenario', 'moment', 'adjust', 'latest', 'incur', 'government', 'thousands', 'various', 'hundreds', 'factories', 'seized', 'first', 'already', 'week', 'example', 'state', 'Spain', 'emergency', 'government', 'seizure', 'goods', 'far', 'seize', 'act', 'government', 'justice', 'latest', 'disadvantaged', 'moment', 'creates', 'interventionist', 'conditions', 'demand', 'scenario', 'higher', 'widespread', 'derived', 'shortages', 'costs', 'Mask', 'increase', 'manufacturers', 'profiting', 'fear', 'businessman', 'products', 'gloves', 'particular', 'respirators', 'circumstances', 'PPE', 'key', 'exports', 'part', 'block', 'rule', 'authority', 'states', 'FEMA', 'Following', 'give', 'consultation', 'rule', 'Secretary', 'Domestic', 'HHS', 'Resources', 'pursuant', 'Medical', 'President', 'Health', 'direction', 'Threatened', 'exercise', 'Scarce', 'Administrator', 'Certain', 'priority', 'Allocation', 'order', 'Prioritization', 'allocation', 'entitled', 'regulatory', 'April', 'authorities', 'surgical', 'OK', 'wear', 'right', 'wants', 'governments', 'everyone', 'keep', 'party', 'products', 'halloween', 'country', 'big', 'peak', 'somewhere', 'crisis', 'shipped', 'export', 'order', 'destination', 'prevent', 'country', 'used', 'hit', 'hypothetical', 'yet', 'extreme', 'key', 'take', 'talk', 'fine', 'governments', 'sold', 'exercise', 'products', 'purely', 'track', 'unilateral', 'mechanism', 'instruction', 'face', 'medical', 'markets', 'face', 'Gray', 'shields', 'stop', 'respirators', 'going', 'developed', 'rules', 'Some', 'cared', 'people', 'really', 'organizations', 'allow', 'worked', 'quickly', 'together', 'guidelines', 'make', 'sanitizer', 'medical', 'hand', 'devices', 'modify', 'using', 'looked', 'hardware', 'FDA', 'open', 'Administration', 'source', 'Drug', 'software', 'Food', 'More', 'online', 'simply', 'use', 'within', 'buy', 'matter', 'instructed', 'days', 'people', 'policy', 'ordinary', 'reversed', 'formerly', 'encouraged', 'dramatically', 'make', 'shifted', 'use', 'government', 'cloth', 'federal', 'protective', 'guidance', 'masks', 'consensus', 'Meanwhile', 'health', 'doctors', 'public', 'nurses', 'emerging', 'started', 'faced', 'writing', 'make', 'playbook', 'machines', 'treating', 'sewing', 'coronavirus', 'fired', 'patients', 'protective', 'Meanwhile', 'cloth', 'doctors', 'use', 'nurses', 'make', 'started', 'encouraged', 'writing', 'reversed', 'playbook', 'policy', 'treating', 'days', 'coronavirus', 'matter', 'patients', 'within', 'fly', 'masks', 'improvising', 'use', 'treatments', 'buy', 'sharing', 'instructed', 'social', 'people', 'media', 'ordinary', 'doctors', 'formerly', 'converted', 'dramatically', 'breathing', 'shifted', 'machines', 'government', 'ventilators', 'face', 'saying', 'use', 'masks', 'general', 'important', 'discouraged', 'someone', 'Fauci', 'infected', 'Anthony', 'prevent', 'Diseases', 'infecting', 'Infectious', 'someone', 'Allergy', 'else', 'Institute', 'see', 'National', 'people', 'Director', 'look', 'LaPook', 'films', 'Jonathan', 'China', 'Minutes', 'South', 'interview', 'Korea', 'March', 'whatever', 'On', 'everyone', 'novel', 'wearing', 'prevent', 'mask', 'saying', 'important', 'masks', 'someone', 'face', 'infected', 'use', 'prevent', 'general', 'infecting', 'discouraged', 'someone', 'Fauci', 'else', 'Anthony', 'see', 'Diseases', 'people', 'Infectious', 'look', 'Allergy', 'films', 'Institute', 'China', 'National', 'South', 'Director', 'Korea', 'LaPook', 'whatever', 'Jonathan', 'everyone', 'Minutes', 'wearing', 'interview', 'mask', 'March', 'right', 'On', 'United', 'wear', 'made', 'ill', 'little', 'known', 'sense', 'suggestion', 'Nevertheless', 'transmission', 'YouTube', 'asymptomatic', 'users', 'risk', 'viewed', 'citing', 'section', 'January', 'interview', 'late', 'addressing', 'evacuees', 'mask', 'Wuhan', 'use', 'quarantine', 'million', 'justified', 'times', 'CDC', 'Although', 'Given', 'page', 'around', 'includes', 'walking', 'link', 'people', 'current', 'States', 'CDC', 'preserve', 'others', 'intended', 'effect', 'lie', 'Americans', 'noble', 'told', 'misguided', 'government', 'incompetence', 'buy', 'expert', 'masks', 'result', 'masks', 'Whether', 'work', 'many', 'Individuals', 'misled', 'responsibly', 'doubtlessly', 'following', 'content', 'official', 'video', 'advice', 'use', 'refrained', 'mask', 'wearing', 'supportive', 'masks', 'guidance', 'greatly', 'CDC', 'increasing', 'current', 'chances', 'buy', 'masks', 'government', 'work', 'told', 'Individuals', 'Americans', 'responsibly', 'effect', 'following', 'others', 'official', 'masks', 'advice', 'preserve', 'refrained', 'intended', 'wearing', 'lie', 'masks', 'noble', 'greatly', 'misguided', 'increasing', 'incompetence', 'chances', 'expert', 'transmitting', 'result', 'others', 'Whether', 'concert', 'many', 'poor', 'misled', 'advice', 'doubtlessly', 'government', 'content', 'officials', 'masks', 'work', 'buy', 'Individuals', 'government', 'responsibly', 'told', 'following', 'Americans', 'official', 'effect', 'advice', 'others', 'refrained', 'masks', 'wearing', 'preserve', 'masks', 'intended', 'greatly', 'lie', 'increasing', 'noble', 'chances', 'misguided', 'transmitting', 'incompetence', 'others', 'expert', 'concert', 'result', 'poor', 'Whether', 'advice', 'many', 'government', 'misled', 'officials', 'doubtlessly', 'New', 'wearing', 'greatly', 'refrained', 'increasing', 'advice', 'chances', 'official', 'transmitting', 'following', 'others', 'responsibly', 'concert', 'Individuals', 'poor', 'work', 'advice', 'masks', 'government', 'masks', 'officials', 'buy', 'New', 'government', 'York', 'told', 'City', 'Americans', 'Mayor', 'effect', 'Bill', 'others', 'de', 'masks', 'Blasio', 'preserve', 'tweet', 'intended', 'March', 'lie', 'encouraging', 'face', 'use', 'widespread', 'delaying', 'misinformation', 'official', 'role', 'outsize', 'grapple', 'first', 'must', 'platforms', 'blaming', 'misinformation', 'coronavirus', 'spread', 'examine', 'wishes', 'Congress', 'officials', 'stated', 'available', 'specifically', 'bus', 'directive', 'drivers', 'employees', 'station', 'use', 'attendants', 'hand', 'train', 'respirators', 'conductors', 'gel', 'cleaners', 'sanitizer', 'among', 'wipes', 'others', 'sanitizer', 'first', 'supply', 'death', 'keep', 'America', 'agency', 'reported', 'stating', 'Washington', 'directive', 'state', 'policy', 'February', 'issued', 'Rather', 'MTA', 'make', 'epidemic', 'supposed', 'stockpile', 'available', 'supposed', 'employees', 'make', 'MTA', 'Rather', 'issued', 'February', 'memo', 'state', 'March', 'Washington', 'forbidding', 'reported', 'employees', 'America', 'wearing', 'death', 'masks', 'first', 'masks', 'others', 'memo', 'among', 'worried', 'cleaners', 'bus', 'conductors', 'operators', 'train', 'station', 'attendants', 'attendants', 'station', 'allowed', 'drivers', 'wear', 'bus', 'masks', 'wearing', 'masks', 'employees', 'memo', 'forbidding', 'worried', 'March', 'bus', 'memo', 'operators', 'issued', 'station', 'MTA', 'attendants', 'employees', 'allowed', 'available', 'wear', 'masks', 'masks', 'stockpile', 'lead', 'supposed', 'panicked', 'make', 'purchasing', 'Rather', 'facemasks', 'February', 'thereby', 'state', 'putting', 'Washington', 'health', 'reported', 'care', 'America', 'providers', 'death', 'communities', 'masks', 'memo', 'wearing', 'worried', 'employees', 'bus', 'forbidding', 'operators', 'March', 'station', 'memo', 'attendants', 'issued', 'allowed', 'MTA', 'wear', 'employees', 'masks', 'available', 'lead', 'masks', 'panicked', 'stockpile', 'purchasing', 'supposed', 'facemasks', 'make', 'thereby', 'Rather', 'putting', 'February', 'health', 'state', 'care', 'Washington', 'providers', 'reported', 'communities', 'America', 'greater', 'wear', 'lead', 'allowed', 'panicked', 'attendants', 'purchasing', 'station', 'facemasks', 'operators', 'thereby', 'bus', 'putting', 'worried', 'health', 'memo', 'care', 'masks', 'providers', 'masks', 'communities', 'wearing', 'greater', 'employees', 'Admittedly', 'forbidding', 'March', 'March', 'still', 'memo', 'debate', 'issued', 'among', 'MTA', 'epidemiologists', 'employees', 'whether', 'available', 'healthy', 'masks', 'people', 'wear', 'protect', 'needed', 'virus', 'people', 'thing', 'healthy', 'mandate', 'whether', 'masks', 'epidemiologists', 'worn', 'among', 'quite', 'debate', 'another', 'still', 'forbid', 'March', 'employees', 'Admittedly', 'wearing', 'greater', 'MTA', 'communities', 'apparently', 'providers', 'failed', 'care', 'follow', 'health', 'policy', 'putting', 'directive', 'thereby', 'maintain', 'facemasks', 'supply', 'purchasing', 'respirators', 'mandate', 'worn', 'thing', 'quite', 'virus', 'another', 'protect', 'forbid', 'masks', 'employees', 'wear', 'wearing', 'needed', 'MTA', 'people', 'apparently', 'healthy', 'failed', 'whether', 'follow', 'epidemiologists', 'policy', 'among', 'directive', 'debate', 'maintain', 'still', 'supply', 'March', 'respirators', 'Admittedly', 'Nine', 'greater', 'days', 'communities', 'later', 'providers', 'March', 'care', 'MTA', 'wearing', 'coincidence', 'employees', 'MTA', 'forbidding', 'CEO', 'order', 'Patrick', 'rescinded', 'Foye', 'MTA', 'tested', 'March', 'positive', 'However', 'day', 'coronavirus', 'first', 'positive', 'deaths', 'tested', 'two', 'employees', 'MTA', 'first', 'employees', 'reported', 'coronavirus', 'MTA', 'taken', 'March', 'place', 'later', 'March', 'days', 'On', 'Nine', 'April', 'respirators', 'MTA', 'acquired', 'made', 'announced', 'available', 'MTA', 'workers', 'April', 'since', 'On', 'March', 'March', 'Technically', 'place', 'true', 'taken', 'begin', 'coronavirus', 'distributing', 'employees', 'around', 'MTA', 'March', 'two', 'When', 'deaths', 'employees', 'first', 'complained', 'day', 'MTA', 'positive', 'made', 'tested', 'masks', 'Foye', 'available', 'Patrick', 'MTA', 'CEO', 'officials', 'made', 'available', 'MTA', 'MTA', 'complained', 'officials', 'employees', 'grumbled', 'When', 'transportation', 'March', 'organization', 'around', 'medical', 'distributing', 'So', 'begin', 'much', 'true', 'policy', 'Technically', 'directive', 'March', 'On', 'since', 'April', 'workers', 'MTA', 'available', 'finally', 'made', 'issued', 'masks', 'bulletin', 'acquired', 'mandating', 'announced', 'employees', 'MTA', 'passengers', 'wear', 'time', 'passengers', 'MTA', 'employees', 'employees', 'mandating', 'died', 'bulletin', 'coronavirus', 'issued', 'least', 'finally', 'quarantine', 'MTA', 'MTA', 'April', 'signed', 'On', 'stipulation', 'directive', 'local', 'policy', 'transit', 'much', 'union', 'So', 'agreeing', 'medical', 'pay', 'organization', 'death', 'transportation', 'benefits', 'grumbled', 'active', 'officials', 'employees', 'MTA', 'died', 'supply', 'gloves', 'impact', 'respirators', 'Has', 'Has', 'scale', 'follow', 'meaningful', 'stated', 'happening', 'initiatives', 'really', 'able', 'deliver', 'get', 'reconfiguring', 'answers', 'rerouting', 'inquired', 'companies', 'officials', 'shipping', 'work', 'equipment', 'major', 'supplies', 'business', 'medical', 'trade', 'needed', 'associations', 'badly', 'Washington', 'produce', 'received', 'facilities', 'responses', 'factories', 'Two', 'providing', 'gloves', 'close', 'hand', 'others', 'sanitizer', 'workers', 'central', 'alert', 'plan', 'bands', 'quickly', 'electronic', 'thrown', 'wearing', 'together', 'urinals', 'Washington', 'bathroom', 'impose', 'spacing', 'best', 'workers', 'way', 'instruct', 'millions', 'experts', 'businesses', 'safety', 'install', 'workspaces', 'sorts', 'sanitizing', 'changes', 'others', 'Every', 'handing', 'business', 'rather', 'unique', 'precautions', 'frequent', 'recommended', 'handwashing', 'take', 'disinfecting', 'staff', 'surfaces', 'clinicians', 'screening', 'Our', 'patients', 'contagious', 'fever', 'patients', 'symptoms', 'numerous', 'Based', 'interact', 'upon', 'practice', 'IgG', 'medical', 'findings', 'etc', 'likely', 'taste', 'became', 'smell', 'infected', 'sense', 'least', 'loss', 'weeks', 'fatigue', 'ago', 'unusual', 'possibly', 'cough', 'couple', 'ability', 'Within', 'protestors', 'day', 'Kong', 'Beijing', 'Hong', 'responded', 'restoration', 'chilling', 'immediate', 'rebuke', 'resulting', 'declaring', 'unconstitutional', 'Beijing', 'ban', 'legislature', 'mask', 'Hong', 'controversial', 'Kong', 'declared', 'judiciary', 'determination', 'possessed', 'issued', 'sole', 'Court', 'authority', 'High', 'determine', 'Kong', 'constitutionality', 'Hong', 'mask', 'elections', 'ban', 'Ahead', 'Beijing', 'providing', 'sanitizer', 'offices', 'customers', 'medical', 'patients', 'stores', 'protect', 'many', 'safety', 'pandemic', 'remain', 'During', 'open', 'used', 'Meanwhile', 'pandemic', 'households', 'safely', 'kept', 'earn', 'paying', 'platforms', 'contractors', 'companies', 'maids', 'use', 'perform', 'people', 'usual', 'consider', 'different', 'companies', 'employer', 'gig', 'paying', 'help', 'employee', 'like', 'sick', 'like', 'sanitizer', 'things', 'support', 'provide', 'leave', 'want', 'partners', 'companies', 'risks', 'many', 'costly', 'voluntary', 'lawsuits', 'entirely', 'upend', 'except', 'exclusive', 'leave', 'insider', 'sick', 'information', 'employee', 'Heritage', 'paying', 'experts', 'employer', 'delivered', 'different', 'straight', 'usual', 'inbox', 'perform', 'week', 'maids', 'Subscribe', 'contractors', 'Agenda', 'paying', 'What', 'certain', 'sanitizer', 'provide', 'support', 'platforms', 'partners', 'economy', 'without', 'gig', 'provisions', 'Act', 'serving', 'Schools', 'basis', 'Protection', 'companies', 'Liability', 'considered', 'Assistance', 'employers', 'Economic', 'partners', 'Health', 'Maintaining', 'Republicans', 'ability', 'Senate', 'gig', 'included', 'companies', 'Act', 'partner', 'Workers', 'individuals', 'Economy', 'instead', 'Gig', 'employing', 'Helping', 'crucial', 'wearing', 'hopes', 'though', 'reducing', 'act', 'chance', 'infected', 'infecting', 'know', 'others', 'Since', 'Tragically', 'others', 'confirm', 'distance', 'infection', 'keeping', 'advise', 'churches', 'infectious', 'businesses', 'person', 'schools', 'stay', 'shuttering', 'home', 'infected', 'expose', 'though', 'family', 'everyone', 'members', 'treat', 'disease', 'infected', 'Plan', 'know', 'work', 'Since', 'time', 'equipment', 'auto', 'protective', 'manufacturers', 'personal', 'producing', 'producing', 'respirators', 'houses', 'ventilators', 'fashion', 'armed', 'including', 'forces', 'demands', 'working', 'potential', 'increase', 'meet', 'hospital', 'spool', 'capacity', 'industry', 'building', 'American', 'field', 'seeing', 'hospitals', 'plate', 'regular', 'stepping', 'hospitals', 'Americans', 'devote', 'predictions', 'resources', 'Horrified', 'patients', 'hope', 'Navy', 'public', 'necessary', 'informed', 'measure', 'officials', 'stop', 'health', 'spread', 'Public', 'virus', 'tracing', 'Yet', 'contact', 'quarantine', 'availability', 'guidelines', 'resource', 'individuals', 'improve', 'wearing', 'quarantines', 'masks', 'unnecessary', 'wearing', 'fewer', 'masks', 'result', 'Public', 'meter', 'health', 'distance', 'officials', 'prevention', 'consider', 'acceptable', 'mask', 'suggests', 'adherence', 'research', 'requiring', 'wearing', 'wearing', 'individuals', 'masks', 'guidelines', 'Public', 'quarantine', 'health', 'Yet', 'officials', 'virus', 'consider', 'spread', 'mask', 'stop', 'adherence', 'measure', 'requiring', 'necessary', 'quarantine', 'masks', 'Since', 'public', 'average', 'informed', 'onset', 'officials', 'symptoms', 'health', 'five', 'Public', 'six', 'tracing', 'days', 'contact', 'public', 'availability', 'complying', 'resource', 'quarantine', 'wearing', 'Public', 'masks', 'health', 'wearing', 'officials', 'individuals', 'consider', 'guidelines', 'mask', 'quarantine', 'adherence', 'Yet', 'requiring', 'virus', 'quarantine', 'spread', 'Since', 'stop', 'average', 'measure', 'onset', 'necessary', 'symptoms', 'masks', 'five', 'public', 'six', 'informed', 'days', 'officials', 'public', 'health', 'complying', 'Public', 'quarantine', 'tracing', 'guidance', 'contact', 'France', 'face', 'public', 'cloth', 'help', 'wear', 'slow', 'urging', 'spread', 'Americans', 'At', 'guidance', 'time', 'issued', 'state', 'April', 'local', 'Prevention', 'governments', 'Control', 'began', 'Disease', 'requiring', 'Centers', 'residents', 'wear', 'masks', 'especially', 'stores', 'When', 'rapid', 'spread', 'disease', 'wear', 'especially', 'residents', 'stores', 'requiring', 'When', 'began', 'rapid', 'governments', 'spread', 'local', 'disease', 'state', 'new', 'time', 'regulations', 'At', 'led', 'spread', 'shortage', 'slow', 'face', 'help', 'masks', 'public', 'grade', 'masks', 'free', 'face', 'market', 'cloth', 'civil', 'wear', 'society', 'urging', 'stepped', 'Americans', 'meet', 'guidance', 'challenge', 'face', 'grade', 'shortage', 'free', 'led', 'market', 'regulations', 'civil', 'new', 'society', 'disease', 'stepped', 'spread', 'meet', 'rapid', 'challenge', 'When', 'Department', 'stores', 'Health', 'especially', 'Human', 'masks', 'Services', 'wear', 'told', 'residents', 'Senate', 'requiring', 'health', 'began', 'committee', 'governments', 'March', 'local', 'Strategic', 'state', 'National', 'time', 'Stockpile', 'surgical', 'needed', 'held', 'protect', 'Stockpile', 'medical', 'National', 'workers', 'Strategic', 'disease', 'March', 'domestic', 'committee', 'pandemic', 'health', 'exclusive', 'Senate', 'insider', 'told', 'information', 'Services', 'Heritage', 'Human', 'experts', 'Health', 'delivered', 'Department', 'straight', 'challenge', 'inbox', 'meet', 'week', 'stepped', 'Subscribe', 'society', 'Agenda', 'civil', 'What', 'market', 'best', 'shortage', 'medical', 'emerging', 'workers', 'reverse', 'American', 'needed', 'families', 'response', 'While', 'clear', 'Trump', 'Learn', 'administration', 'recommendations', 'took', 'made', 'action', 'far', 'address', 'So', 'shortage', 'figure', 'masks', 'thinkers', 'personal', 'top', 'protective', 'America', 'equipment', 'assembled', 'story', 'Foundation', 'American', 'Heritage', 'businesses', 'project', 'big', 'Commission', 'small', 'shortage', 'personal', 'address', 'protective', 'action', 'equipment', 'took', 'story', 'administration', 'American', 'Trump', 'businesses', 'While', 'big', 'families', 'small', 'American', 'families', 'workers', 'reacted', 'medical', 'quickly', 'masks', 'demand', 'shortage', 'cloth', 'emerging', 'face', 'reverse', 'masks', 'needed', 'give', 'response', 'confidence', 'clear', 'power', 'Learn', 'free', 'recommendations', 'market', 'face', 'give', 'cloth', 'confidence', 'demand', 'power', 'quickly', 'free', 'reacted', 'market', 'families', 'civil', 'small', 'society', 'big', 'example', 'businesses', 'woman', 'American', 'Michigan', 'story', 'started', 'equipment', 'Facebook', 'protective', 'group', 'personal', 'called', 'masks', 'West', 'shortage', 'Michigan', 'address', 'sews', 'action', 'hope', 'took', 'started', 'administration', 'group', 'face', 'staff', 'cloth', 'Spectrum', 'reusable', 'Health', 'making', 'health', 'group', 'system', 'started', 'based', 'hope', 'Grand', 'sews', 'Rapids', 'Michigan', 'hospital', 'West', 'told', 'called', 'MLive', 'group', 'early', 'Facebook', 'April', 'started', 'received', 'Michigan', 'clinically', 'woman', 'equivalent', 'example', 'masks', 'society', 'community', 'civil', 'woman', 'market', 'started', 'equivalent', 'community', 'clinically', 'woman', 'received', 'started', 'April', 'group', 'early', 'worked', 'MLive', 'church', 'told', 'Impact', 'hospital', 'Church', 'Rapids', 'create', 'Grand', 'kits', 'based', 'others', 'system', 'use', 'health', 'making', 'Health', 'masks', 'Spectrum', 'hospital', 'staff', 'Now', 'masks', 'group', 'face', 'broadened', 'cloth', 'reach', 'reusable', 'help', 'making', 'hospital', 'use', 'Now', 'others', 'group', 'kits', 'broadened', 'create', 'reach', 'Church', 'help', 'Impact', 'provide', 'church', 'masks', 'worked', 'institutions', 'group', 'local', 'started', 'nursing', 'woman', 'homes', 'community', 'first', 'masks', 'responders', 'equivalent', 'Larger', 'clinically', 'clothing', 'received', 'retail', 'April', 'companies', 'early', 'responded', 'MLive', 'increased', 'provide', 'institutions', 'help', 'local', 'reach', 'nursing', 'broadened', 'homes', 'group', 'first', 'Now', 'responders', 'hospital', 'Larger', 'masks', 'clothing', 'making', 'retail', 'use', 'companies', 'others', 'responded', 'kits', 'increased', 'create', 'demand', 'Church', 'cloth', 'Impact', 'masks', 'church', 'Lilly', 'worked', 'Pulitzer', 'group', 'produced', 'started', 'masks', 'woman', 'bright', 'cloth', 'Lilly', 'demand', 'Pulitzer', 'increased', 'produced', 'responded', 'masks', 'companies', 'bright', 'retail', 'cheerful', 'clothing', 'patterns', 'Larger', 'selling', 'responders', 'At', 'first', 'time', 'homes', 'company', 'nursing', 'donated', 'local', 'masks', 'institutions', 'health', 'masks', 'care', 'provide', 'workers', 'help', 'across', 'reach', 'country', 'broadened', 'Gap', 'group', 'produced', 'produced', 'bright', 'Pulitzer', 'cheerful', 'Lilly', 'patterns', 'masks', 'selling', 'cloth', 'At', 'demand', 'time', 'increased', 'company', 'responded', 'donated', 'companies', 'masks', 'retail', 'health', 'clothing', 'care', 'Larger', 'workers', 'responders', 'across', 'first', 'country', 'homes', 'Gap', 'nursing', 'produced', 'local', 'masks', 'institutions', 'individuals', 'masks', 'costing', 'provide', 'donated', 'donated', 'health', 'company', 'care', 'time', 'workers', 'At', 'across', 'selling', 'country', 'patterns', 'Gap', 'cheerful', 'produced', 'bright', 'masks', 'masks', 'individuals', 'produced', 'costing', 'Pulitzer', 'donated', 'Lilly', 'masks', 'masks', 'Boys', 'cloth', 'Girls', 'demand', 'Clubs', 'increased', 'Masks', 'responded', 'Vera', 'companies', 'Bradley', 'retail', 'priced', 'clothing', 'sold', 'produced', 'individuals', 'Gap', 'costing', 'country', 'donated', 'across', 'masks', 'workers', 'Boys', 'care', 'Girls', 'health', 'Clubs', 'masks', 'Masks', 'donated', 'Vera', 'company', 'Bradley', 'time', 'priced', 'At', 'sold', 'selling', 'several', 'patterns', 'times', 'cheerful', 'company', 'bright', 'donated', 'masks', 'American', 'produced', 'Nurses', 'Pulitzer', 'Foundation', 'Lilly', 'Coronavirus', 'donated', 'Boys', 'costing', 'Girls', 'individuals', 'Clubs', 'masks', 'Masks', 'produced', 'Vera', 'Gap', 'Bradley', 'country', 'priced', 'across', 'sold', 'workers', 'several', 'care', 'times', 'health', 'company', 'masks', 'donated', 'donated', 'American', 'company', 'Nurses', 'time', 'Foundation', 'At', 'Coronavirus', 'selling', 'Response', 'patterns', 'Fund', 'cheerful', 'mask', 'bright', 'sales', 'demand', 'Before', 'meet', 'pandemic', 'overtime', 'cloth', 'working', 'masks', 'businesses', 'popular', 'Small', 'items', 'sales', 'Etsy', 'mask', 'sellers', 'Fund', 'online', 'Response', 'marketplace', 'Coronavirus', 'reported', 'Foundation', 'Etsy', 'Nurses', 'sellers', 'American', 'sold', 'donated', 'total', 'company', 'million', 'times', 'face', 'several', 'masks', 'sold', 'worth', 'priced', 'million', 'cloth', 'popular', 'pandemic', 'items', 'Before', 'Etsy', 'masks', 'sellers', 'demand', 'online', 'meet', 'marketplace', 'overtime', 'reported', 'working', 'Etsy', 'businesses', 'sellers', 'Small', 'sold', 'sales', 'total', 'mask', 'million', 'Fund', 'face', 'Response', 'masks', 'Coronavirus', 'worth', 'Foundation', 'million', 'Nurses', 'second', 'American', 'Sellers', 'donated', 'able', 'company', 'quickly', 'face', 'worth', 'million', 'million', 'total', 'second', 'sold', 'Sellers', 'sellers', 'able', 'Etsy', 'quickly', 'reported', 'respond', 'marketplace', 'increased', 'online', 'demand', 'sellers', 'thanks', 'Etsy', 'platforms', 'items', 'Etsy', 'popular', 'What', 'masks', 'stories', 'cloth', 'teach', 'pandemic', 'individuals', 'Before', 'companies', 'masks', 'First', 'demand', 'foremost', 'meet', 'cloth', 'businesses', 'often', 'difficult', 'imported', 'profitable', 'China', 'ensuring', 'purchased', 'production', 'little', 'Restarting', 'per', 'offshore', 'box', 'moved', 'opposite', 'largely', 'proved', 'production', 'true', 'mask', 'increased', 'pandemic', 'demand', 'prior', 'met', 'demand', 'increase', 'consistent', 'price', 'lack', 'per', 'Due', 'mask', 'instantly', 'Plus', 'almost', 'companies', 'response', 'selling', 'selling', 'advertised', 'companies', 'plans', 'Plus', 'make', 'mask', 'charitable', 'per', 'contributions', 'price', 'justifying', 'increase', 'higher', 'met', 'prices', 'demand', 'Spontaneous', 'increased', 'charitable', 'true', 'donations', 'proved', 'individuals', 'opposite', 'religious', 'box', 'organizations', 'per', 'unexpected', 'little', 'demonstrate', 'purchased', 'strength', 'China', 'civil', 'imported', 'society', 'often', 'America', 'face', 'incredibly', 'cloth', 'innovative', 'Creators', 'Mask', 'need', 'options', 'others', 'individuals', 'chip', 'went', 'willingness', 'plain', 'America', 'blue', 'society', 'masks', 'civil', 'reusable', 'strength', 'masks', 'demonstrate', 'cleaned', 'unexpected', 'washing', 'organizations', 'machine', 'religious', 'Innovative', 'individuals', 'masks', 'donations', 'included', 'charitable', 'features', 'Spontaneous', 'adjustable', 'prices', 'ear', 'blue', 'reusable', 'plain', 'masks', 'went', 'cleaned', 'individuals', 'washing', 'options', 'machine', 'Mask', 'Innovative', 'innovative', 'masks', 'incredibly', 'included', 'masks', 'features', 'face', 'adjustable', 'cloth', 'ear', 'Creators', 'loops', 'need', 'nose', 'others', 'bridges', 'chip', 'slots', 'willingness', 'added', 'America', 'filters', 'society', 'short', 'civil', 'period', 'strength', 'time', 'reusable', 'cleaned', 'masks', 'washing', 'blue', 'machine', 'plain', 'Innovative', 'went', 'masks', 'individuals', 'included', 'options', 'features', 'Mask', 'adjustable', 'innovative', 'ear', 'incredibly', 'loops', 'masks', 'nose', 'face', 'bridges', 'cloth', 'slots', 'Creators', 'added', 'need', 'filters', 'others', 'short', 'chip', 'period', 'willingness', 'time', 'America', 'mask', 'society', 'producers', 'Innovative', 'included', 'machine', 'features', 'washing', 'adjustable', 'cleaned', 'ear', 'masks', 'loops', 'reusable', 'nose', 'masks', 'bridges', 'blue', 'slots', 'plain', 'added', 'went', 'filters', 'individuals', 'short', 'options', 'period', 'Mask', 'time', 'innovative', 'mask', 'incredibly', 'producers', 'masks', 'went', 'face', 'meeting', 'cloth', 'high', 'Creators', 'demand', 'need', 'address', 'wearing', 'choosing', 'inconvenience', 'fabrics', 'embraced', 'match', 'Americans', 'outfits', 'Many', 'represented', 'consumers', 'personal', 'preferences', 'style', 'variety', 'Rather', 'wide', 'brightening', 'meeting', 'someone', 'health', 'day', 'public', 'smile', 'address', 'folks', 'demand', 'spreading', 'high', 'joy', 'meeting', 'masks', 'went', 'sporting', 'producers', 'inspirational', 'mask', 'sayings', 'time', 'funny', 'joy', 'sporting', 'spreading', 'inspirational', 'folks', 'sayings', 'smile', 'funny', 'day', 'printed', 'someone', 'faces', 'brightening', 'Even', 'Rather', 'grim', 'style', 'circumstances', 'personal', 'pandemic', 'represented', 'American', 'outfits', 'spirit', 'match', 'entrepreneurship', 'fabrics', 'philanthropy', 'choosing', 'day', 'masks', 'wearing', 'inconvenience', 'embraced', 'Americans', 'making', 'Newport', 'teams', 'News', 'shipbuilding', 'Facilities', 'coverings', 'frequently', 'face', 'cleaned', 'wear', 'workers', 'employees', 'asked', 'requiring', 'maintain', 'shipyard', 'social', 'concerns', 'six', 'employee', 'feet', 'consideration', 'away', 'taking', 'workplace', 'time', 'letter', 'innovative', 'shipyard', 'companies', 'president', 'forcing', 'reminds', 'coronavirus', 'employees', 'years', 'liberal', 'effects', 'leave', 'wear', 'generally', 'admonition', 'press', 'simplified', 'briefing', 'merely', 'Biden', 'rhetoric', 'endorsed', 'kind', 'nationwide', 'Normally', 'mandate', 'effect', 'adding', 'zero', 'gloomy', 'exactly', 'justification', 'mask', 'estimates', 'places', 'experts', 'including', 'save', 'lot', 'lives', 'encompasses', 'next', 'Outside', 'three', 'briefing', 'months', 'press', 'More', 'recent', 'estimate', 'Biden', 'moment', 'wear', 'procedures', 'Surgeons', 'protect', 'sense', 'surgeon', 'common', 'prevent', 'experience', 'surgeon', 'clinical', 'respirations', 'comes', 'contaminating', 'mask', 'field', 'wear', 'reason', 'recommendation', 'patients', 'sidewalk', 'similar', 'simply', 'diseases', 'store', 'masked', 'grocery', 'transported', 'car', 'hospital', 'lot', 'So', 'parking', 'science', 'realistically', 'say', 'field', 'tremendous', 'empty', 'research', 'shows', 'panacea', 'study', 'lightweight', 'single', 'solution', 'every', 'comes', 'aerosols', 'little', 'droplets', 'cost', 'respiratory', 'individual', 'infectious', 'serve', 'potentially', 'adjuncts', 'spread', 'safety', 'speed', 'precautions', 'decrease', 'handwashing', 'orifices', 'distancing', 'respiratory', 'minimizing', 'front', 'unnecessary', 'barrier', 'close', 'physical', 'contacts', 'put', 'Regarding', 'Therefore', 'claim', 'respirations', 'saving', 'wear', 'April', 'required', 'May', 'nationwide', 'problem', 'employees', 'Biden', 'saved', 'claim', 'lives', 'obvious', 'estimates', 'Requiring', 'policies', 'employees', 'mitigation', 'masked', 'various', 'requiring', 'effects', 'Americans', 'models', 'masked', 'analysis', 'situation', 'statistical', 'April', 'referring', 'May', 'presumably', 'significantly', 'Biden', 'different', 'lives', 'situation', 'saving', 'thing', 'claim', 'masks', 'thing', 'much', 'situation', 'accepted', 'different', 'secondly', 'significantly', 'infection', 'May', 'already', 'April', 'spread', 'situation', 'nearly', 'masked', 'major', 'Americans', 'cities', 'requiring', 'means', 'masked', 'population', 'employees', 'immunity', 'Requiring', 'although', 'obvious', 'yet', 'claim', 'herd', 'Biden', 'immunity', 'problem', 'levels', 'May', 'going', 'April', 'much', 'masks', 'greater', 'wearing', 'social', 'ones', 'distancing', 'loved', 'possible', 'care', 'President', 'trust', 'Donald', 'need', 'Trump', 'people', 'said', 'caring', 'patriotic', 'generous', 'thing', 'large', 'Americans', 'thing', 'right', 'diverts', 'trust', 'public', 'compromises', 'misleading', 'know', 'claims', 'sanitizer', 'attendees', 'hand', 'Masks', 'providing', 'something', 'rally', 'Liberia', 'going', 'required', 'everyone', 'measures', 'temperature', 'seem', 'checking', 'sound', 'said', 'hope', 'campaign', 'political', 'Trump', 'lead', 'Similarly', 'get', 'meetings', 'back', 'rallies', 'mode', 'campaign', 'Liberia', 'places', 'able', 'polling', 'hold', 'measures', 'election', 'preventative', 'voting', 'follow', 'campaign', 'providing', 'employees', 'related', 'installing', 'expenses', 'transparent', 'additional', 'dividers', 'cover', 'retail', 'Congress', 'locations', 'funds', 'amount', 'supplemental', 'needed', 'requested', 'address', 'DeJoy', 'costs', 'debt', 'billion', 'national', 'billion', 'adding', 'instead', 'expense', 'closer', 'line', 'billion', 'bottom', 'Another', 'Service', 'common', 'Postal', 'justification', 'improve', 'bailout', 'grant', 'upcoming', 'mentioning', 'medicine', 'without', 'needed', 'common', 'combat', 'shortages', 'coronavirus', 'electrical', 'Recent', 'fuel', 'outbreaks', 'Water', 'infectious', 'risk', 'diseases', 'higher', 'like', 'crisis', 'malaria', 'going', 'measles', 'population', 'spread', 'general', 'beyond', 'means', 'Venezuela', 'healthcare', 'borders', 'food', 'Brazil', 'sufficient', 'Colombia', 'without', 'Venezuela', 'impoverished', 'political', 'people', 'situation', 'How', 'increasingly', 'help', 'reality', 'offensive', 'China', 'charm', 'bumping', 'China', 'rhetoric', 'Hence', 'Chinese', 'image', 'Communist', 'global', 'Party', 'soften', 'example', 'trying', 'Beijing', 'definitely', 'contributes', 'regime', 'million', 'reputation', 'World', 'hits', 'Health', 'recent', 'Organization', 'panda', 'kicks', 'cuddly', 'million', 'turn', 'double', 'China', 'next', 'No', 'largest', 'surgical', 'gloves', 'equipment', 'etc', 'protective', 'hospital', 'personal', 'beds', 'need', 'pharmaceuticals', 'increased', 'ventilators', 'likely', 'respiratory', 'scale', 'distress', 'outbreak', 'More', 'viral', 'critical', 'During', 'success', 'season', 'medical', 'flu', 'materiel', 'tough', 'preventing', 'peak', 'virus', 'likely', 'overpowering', 'coming', 'force', 'system', 'intrepid', 'care', 'health', 'health', 'care', 'face', 'disposable', 'wear', 'gloves', 'voters', 'maintain', 'requiring', 'social', 'protocols', 'distancing', 'health', 'pass', 'strict', 'temperature', 'articulated', 'check', 'NEC', 'casting', 'Commission', 'ballot', 'Election', 'Voters', 'National', 'failing', 'year', 'temperature', 'Agenda', 'check', 'Subscribe', 'required', 'week', 'use', 'inbox', 'special', 'straight', 'voting', 'delivered', 'station', 'experts', 'disinfected', 'warnings', 'deprive', 'resonate', 'body', 'media', 'oxygen', 'social', 'So', 'side', 'wearing', 'On', 'mask', 'prone', 'prevent', 'seem', 'getting', 'officials', 'infected', 'health', 'send', 'public', 'stupor', 'statements', 'hypoxia', 'unsubstantiated', 'Neither', 'another', 'Masks', 'making', 'help', 'Redfield', 'prevent', 'suggests', 'people', 'time', 'spreading', 'All', 'virus', 'mask', 'others', 'proof', 'really', 'scientific', 'help', 'yields', 'prevent', 'experiment', 'spread', 'controlled', 'coronavirus', 'properly', 'definitive', 'conduct', 'proof', 'You', 'masks', 'possible', 'work', 'certainty', 'wear', 'scientific', 'Mostly', 'effect', 'commonsense', 'mask', 'Scientists', 'wearing', 'seem', 'says', 'fairly', 'CDC', 'certain', 'others', 'spread', 'protect', 'droplets', 'protect', 'although', 'CDC', 'evidence', 'proof', 'work', 'definitive', 'wear', 'coronavirus', 'Mostly', 'spread', 'commonsense', 'prevent', 'Scientists', 'help', 'seem', 'really', 'fairly', 'masks', 'certain', 'proof', 'spread', 'scientific', 'droplets', 'yields', 'although', 'experiment', 'evidence', 'controlled', 'present', 'properly', 'aerosols', 'conduct', 'Either', 'You', 'way', 'possible', 'breaths', 'certainty', 'evidence', 'scientific', 'people', 'effect', 'know', 'barrier', 'reduce', 'physical', 'speed', 'imposing', 'spread', 'By', 'breaths', 'others', 'thought', 'disease', 'lessen', 'spread', 'chance', 'infected', 'person', 'know', 'know', 'people', 'shedding', 'evidence', 'virus', 'breaths', 'spread', 'way', 'infection', 'Either', 'So', 'aerosols', 'good', 'present', 'idea', 'evidence', 'wear', 'although', 'sends', 'droplets', 'swoon', 'spread', 'True', 'respirators', 'protective', 'beds', 'Some', 'hospital', 'criticized', 'syringes', 'President', 'everything', 'Trump', 'stockpiles', 'response', 'ensure', 'little', 'Influenza', 'late', 'Pandemic', 'Trump', 'Strategy', 'imposed', 'National', 'travel', 'creation', 'restrictions', 'ordered', 'convened', 'Bush', 'national', 'Influenza', 'response', 'Great', 'strategy', 'flu', 'demanded', 'Spanish', 'cooperation', 'history', 'public', 'Barry', 'private', 'respiratory', 'protective', 'tons', 'suits', 'metric', 'health', 'six', 'workers', 'delivered', 'Shanghai', 'On', 'distribution', 'pandemic', 'Wuhan', 'people', 'United', 'Chinese', 'States', 'aid', 'contributed', 'provide', 'nearly', 'organizations', 'billion', 'first', 'United', 'UNICEF', 'Nations', 'million', 'High', 'contributed', 'Commissioner', 'China', 'Refugees', 'Fund', 'aids', 'Children', 'millions', 'Nations', 'refugees', 'face', 'California', 'using', 'exactly', 'disease', 'wrong', 'spread', 'mandate', 'reduce', 'Policymakers', 'help', 'public', 'way', 'health', 'easy', 'officials', 'pandemic', 'encourage', 'continuing', 'use', 'amid', 'masks', 'reopen', 'absolutely', 'attempts', 'avoid', 'country', 'mandating', 'Mandating', 'mask', 'use', 'turn', 'lightweight', 'solution', 'use', 'absolutely', 'encourage', 'avoid', 'officials', 'mandating', 'health', 'Mandating', 'public', 'mask', 'Policymakers', 'use', 'mandate', 'turn', 'wrong', 'lightweight', 'exactly', 'solution', 'California', 'yet', 'masks', 'another', 'face', 'onerous', 'using', 'burden', 'disease', 'American', 'spread', 'people', 'reduce', 'pandemic', 'help', 'exclusive', 'way', 'insider', 'easy', 'information', 'pandemic', 'Heritage', 'face', 'effective', 'stated', 'preventing', 'messaging', 'disease', 'health', 'general', 'public', 'public', 'response', 'encouraged', 'pandemic', 'purchase', 'early', 'surgical', 'missteps', 'masks', 'major', 'No', 'One', 'less', 'stores', 'Anthony', 'retail', 'Fauci', 'salons', 'recently', 'contact', 'admitted', 'close', 'early', 'prolonged', 'messaging', 'require', 'meant', 'businesses', 'protect', 'prudent', 'public', 'surgical', 'No', 'purchase', 'less', 'encouraged', 'Anthony', 'public', 'Fauci', 'general', 'recently', 'disease', 'admitted', 'preventing', 'early', 'effective', 'messaging', 'masks', 'meant', 'face', 'protect', 'stated', 'public', 'messaging', 'rather', 'health', 'preserve', 'public', 'supply', 'response', 'masks', 'pandemic', 'health', 'early', 'care', 'missteps', 'providers', 'major', 'goal', 'One', 'ensuring', 'supply', 'health', 'preserve', 'care', 'rather', 'providers', 'public', 'goal', 'protect', 'ensuring', 'meant', 'provider', 'messaging', 'access', 'early', 'protective', 'admitted', 'equipment', 'recently', 'laudable', 'Fauci', 'Americans', 'Anthony', 'start', 'less', 'trusted', 'No', 'clear', 'masks', 'concise', 'surgical', 'transparent', 'purchase', 'information', 'encouraged', 'messaging', 'public', 'trusted', 'general', 'act', 'face', 'Increased', 'using', 'testing', 'dismiss', 'throughout', 'Americans', 'country', 'encourage', 'shown', 'doctor', 'month', 'said', 'multiple', 'mask', 'statewide', 'face', 'lockdown', 'wearing', 'orders', 'measure', 'tens', 'simple', 'thousands', 'especially', 'new', 'public', 'cases', 'cooperation', 'still', 'trust', 'occur', 'build', 'daily', 'way', 'Because', 'accordingly', 'fast', 'act', 'disease', 'face', 'solution', 'use', 'low', 'life', 'cost', 'daily', 'light', 'normal', 'imposition', 'parts', 'lives', 'resuming', 'individual', 'virus', 'Americans', 'fighting', 'Even', 'continue', 'showing', 'necessary', 'symptoms', 'solution', 'masks', 'burdensome', 'let', 'less', 'Americans', 'much', 'go', 'solutions', 'resume', 'realistic', 'normal', 'never', 'lives', 'nature', 'know', 'virus', 'masks', 'symptoms', 'let', 'showing', 'Americans', 'Even', 'go', 'Americans', 'resume', 'individual', 'normal', 'lives', 'lives', 'imposition', 'know', 'light', 'masks', 'cost', 'easy', 'low', 'way', 'solution', 'reducing', 'masks', 'transmission', 'face', 'confined', 'use', 'indoor', 'life', 'spaces', 'daily', 'otherwise', 'normal', 'little', 'parts', 'effect', 'resuming', 'outdoor', 'virus', 'open', 'know', 'easy', 'lives', 'way', 'normal', 'reducing', 'resume', 'transmission', 'go', 'confined', 'Americans', 'indoor', 'let', 'spaces', 'masks', 'otherwise', 'symptoms', 'little', 'showing', 'effect', 'Even', 'outdoor', 'Americans', 'open', 'individual', 'spaces', 'lives', 'instance', 'imposition', 'use', 'light', 'necessary', 'cost', 'areas', 'low', 'little', 'solution', 'close', 'masks', 'contact', 'wear', 'procedures', 'surgeons', 'protect', 'reason', 'surgeon', 'expulsion', 'protect', 'spread', 'patient', 'travel', 'surgeon', 'limits', 'respiratory', 'expulsion', 'particles', 'respiratory', 'Of', 'person', 'course', 'path', 'sick', 'sort', 'still', 'barrier', 'need', 'physical', 'stay', 'information', 'home', 'best', 'Regular', 'breathing', 'cloth', 'spreads', 'masks', 'public', 'surgical', 'going', 'masks', 'cloth', 'surgical', 'Regular', 'masks', 'home', 'stop', 'stay', 'transmission', 'need', 'disease', 'still', 'need', 'sick', 'reliability', 'course', 'limitations', 'Of', 'information', 'particles', 'Current', 'respiratory', 'evidence', 'surgeon', 'regard', 'patient', 'face', 'protect', 'masks', 'surgeon', 'largely', 'protect', 'sparse', 'procedures', 'guidance', 'masks', 'wear', 'wear', 'masks', 'surgeons', 'based', 'surgical', 'stop', 'masks', 'transmission', 'cloth', 'disease', 'Regular', 'need', 'home', 'reliability', 'stay', 'limitations', 'need', 'information', 'still', 'Current', 'sick', 'evidence', 'course', 'regard', 'Of', 'face', 'particles', 'masks', 'respiratory', 'largely', 'surgeon', 'sparse', 'patient', 'guidance', 'protect', 'wear', 'surgeon', 'masks', 'protect', 'based', 'procedures', 'clinical', 'masks', 'experience', 'face', 'largely', 'regard', 'sparse', 'evidence', 'guidance', 'Current', 'wear', 'information', 'masks', 'limitations', 'based', 'reliability', 'clinical', 'need', 'experience', 'disease', 'data', 'transmission', 'prior', 'stop', 'experiments', 'masks', 'similar', 'surgical', 'viruses', 'masks', 'mean', 'cloth', 'wait', 'Regular', 'wear', 'home', 'masks', 'stay', 'hard', 'need', 'evidence', 'still', 'randomized', 'wear', 'based', 'guidance', 'clinical', 'sparse', 'experience', 'largely', 'data', 'masks', 'prior', 'face', 'experiments', 'regard', 'similar', 'evidence', 'viruses', 'Current', 'mean', 'information', 'wait', 'limitations', 'wear', 'reliability', 'masks', 'need', 'hard', 'disease', 'evidence', 'transmission', 'randomized', 'stop', 'controlled', 'masks', 'trial', 'surgical', 'throw', 'masks', 'commonsense', 'cloth', 'pursuit', 'wear', 'hard', 'wait', 'evidence', 'mean', 'randomized', 'viruses', 'controlled', 'similar', 'trial', 'experiments', 'throw', 'prior', 'commonsense', 'data', 'pursuit', 'experience', 'policy', 'clinical', 'needlessly', 'based', 'impede', 'masks', 'public', 'wear', 'health', 'guidance', 'effort', 'sparse', 'prevent', 'largely', 'spread', 'masks', 'disease', 'face', 'At', 'regard', 'time', 'evidence', 'means', 'keep', 'faces', 'directions', 'hours', 'certain', 'day', 'walk', 'Children', 'kindergarteners', 'low', 'less', 'risk', 'much', 'present', 'adolescents', 'low', 'asking', 'risk', 'futile', 'others', 'ultimately', 'trouble', 'rules', 'following', 'procedural', 'mitigation', 'following', 'rules', 'uncompliant', 'At', 'notoriously', 'time', 'Children', 'keeping', 'classes', 'children', 'resuming', 'home', 'prevented', 'might', 'keep', 'face', 'workers', 'shields', 'short', 'several', 'supplies', 'shifts', 'room', 'visibly', 'patient', 'soiled', 'exiting', 'makes', 'entering', 'personal', 'equipment', 'protective', 'protective', 'equipment', 'personal', 'good', 'set', 'way', 'discards', 'federal', 'worker', 'government', 'care', 'backstop', 'health', 'local', 'Ideally', 'efforts', 'patients', 'prepare', 'treating', 'resurgence', 'dedicated', 'cases', 'use', 'winter', 'widespread', 'Japanese', 'factors', 'bow', 'cultural', 'greeting', 'speculated', 'versus', 'Some', 'handshake', 'effort', 'hug', 'little', 'contributed', 'well', 'case', 'done', 'totals', 'country', 'begun', 'questioned', 'climb', 'reports', 'central', 'media', 'government', 'Japan', 'minimalist', 'cases', 'actions', 'early', 'drawing', 'curve', 'greater', 'bending', 'criticism', 'model', 'With', 'diplomacy', 'malign', 'public', 'increasingly', 'China', 'powerful', 'recognition', 'competitor', 'sharpened', 'global', 'however', 'stage', 'effect', 'side', 'positive', 'produced', 'response', 'inept', 'Beijing', 'triggered', 'pandemic', 'global', 'time', 'continue', 'China', 'competition', 'protective', 'testing', 'like', 'swabs', 'countermeasures', 'vaccine', 'accelerate', 'development', 'companies', 'Invoking', 'multiple', 'act', 'agreements', 'vitally', 'struck', 'important', 'branch', 'acquiring', 'executive', 'medical', 'act', 'supplies', 'Through', 'fight', 'Learn', 'pandemic', 'recommendations', 'critical', 'made', 'boosting', 'far', 'domestic', 'So', 'ventilator', 'figure', 'production', 'thinkers', 'meet', 'top', 'country', 'medical', 'practicing', 'donating', 'social', 'help', 'distancing', 'Americans', 'donating', 'Ordinary', 'blood', 'another', 'helping', 'way', 'neighbors', 'threatens', 'recent', 'coronavirus', 'days', 'challenge', 'outpouring', 'meet', 'support', 'upon', 'health', 'depended', 'care', 'professionals', 'workers', 'Health', 'seen', 'task', 'across', 'step', 'country', 'American', 'countless', 'Every', 'fellow', 'efforts', 'Americans', 'supplies', 'gowns', 'medical', 'personal', 'hoarding', 'protective', 'side', 'equipment', 'physical', 'hand', 'source', 'sanitizer', 'questionable', 'etc', 'information', 'price', 'personal', 'gouging', 'give', 'horrifically', 'Never', 'inflated', 'click', 'prices', 'go', 'fearful', 'Watch', 'truly', 'practiced', 'needy', 'must', 'organizations', 'realm', 'war', 'cyber', 'profiteering', 'hygiene', 'pure', 'personal', 'simple', 'gas', 'really', 'garbed', 'challenge', 'soldiers', 'civil', 'events', 'rights', 'actual', 'protesters', 'stems', 'point', 'mythology', 'gun', 'Much', 'Moviemakers', 'Why', 'soon', 'common', 'appropriated', 'remains', 'motif', 'gunpoint', 'horror', 'quarantines', 'movies', 'enforcing', 'staple', 'soldiers', 'scary', 'means', 'filmdom', 'action', 'quarter', 'military', 'century', 'expectation', 'George', 'kneejerk', 'Romero', 'wear', 'socially', 'areas', 'distance', 'public', 'maintain', 'avoid', 'mitigation', 'continue', 'practices', 'rules', 'policymakers', 'mitigation', 'enable', 'relaxed', 'Americans', 'Americans', 'assess', 'many', 'risks', 'Will', 'livelihoods', 'decisions', 'make', 'good', 'best', 'make', 'decisions', 'Americans', 'families', 'trust', 'With', 'question', 'regards', 'effect', 'risk', 'took', 'important', 'orders', 'focus', 'admonishing', 'social', 'announcements', 'distancing', 'service', 'easy', 'public', 'conclude', 'numbers', 'hunker', 'case', 'pray', 'rising', 'coronavirus', 'stories', 'dies', 'news', 'wrong', 'nonstop', 'exclusive', 'bombarded', 'insider', 'months', 'information', 'wonder', 'Heritage', 'No', 'experts', 'hopeless', 'delivered', 'depressed', 'straight', 'felt', 'inbox', 'reported', 'week', 'respondents', 'Subscribe', 'June', 'Agenda', 'face', 'hand', 'supplies', 'sanitizer', 'medical', 'high', 'basic', 'demand', 'With', 'businesses', 'Supplies', 'sizes', 'Medical', 'industries', 'hospitals', 'helped', 'equipment', 'Hewlett', 'produced', 'Packard', 'rapidly', 'uses', 'companies', 'printers', 'maker', 'make', 'cleaner', 'face', 'vacuum', 'masks', 'Dyson', 'face', 'Motors', 'shields', 'General', 'MyPillow', 'respirators', 'voluntarily', 'ventilators', 'shifted', 'face', 'face', 'make', 'shields', 'printers', 'MyPillow', 'uses', 'voluntarily', 'Packard', 'shifted', 'Hewlett', 'production', 'helped', 'capacity', 'industries', 'making', 'sizes', 'cotton', 'businesses', 'face', 'demand', 'masks', 'high', 'donate', 'sanitizer', 'hospitals', 'hand', 'surgical', 'masks', 'masks', 'face', 'produced', 'supplies', 'Honeywell', 'medical', 'plant', 'basic', 'Rhode', 'With', 'Island', 'face', 'donate', 'cotton', 'hospitals', 'making', 'surgical', 'capacity', 'masks', 'production', 'produced', 'shifted', 'Honeywell', 'voluntarily', 'plant', 'MyPillow', 'Rhode', 'shields', 'Island', 'face', 'Superior', 'masks', 'Bindery', 'face', 'small', 'make', 'business', 'printers', 'Massachusetts', 'uses', 'turning', 'Packard', 'recycled', 'Hewlett', 'cardboard', 'helped', 'basic', 'industries', 'masks', 'sizes', 'general', 'surgical', 'produced', 'hospitals', 'Honeywell', 'donate', 'plant', 'masks', 'Rhode', 'face', 'Island', 'cotton', 'Superior', 'making', 'Bindery', 'capacity', 'small', 'production', 'business', 'shifted', 'Massachusetts', 'voluntarily', 'turning', 'MyPillow', 'recycled', 'shields', 'cardboard', 'face', 'basic', 'masks', 'masks', 'face', 'general', 'make', 'public', 'printers', 'American', 'uses', 'companies', 'Packard', 'alcoholic', 'basic', 'general', 'cardboard', 'public', 'recycled', 'American', 'turning', 'companies', 'Massachusetts', 'alcoholic', 'business', 'beverage', 'small', 'maker', 'Bindery', 'Pernod', 'Superior', 'Ricard', 'Island', 'well', 'Rhode', 'small', 'plant', 'local', 'Honeywell', 'distilleries', 'produced', 'making', 'masks', 'hand', 'surgical', 'sanitizer', 'hospitals', 'times', 'donate', 'like', 'masks', 'important', 'face', 'everyone', 'provided', 'supplies', 'Purse', 'suffering', 'Samaritan', 'peoples', 'like', 'Wuhan', 'organizations', 'provide', 'society', 'support', 'civil', 'merely', 'government', 'present', 'outbreak', 'certain', 'days', 'image', 'early', 'world', 'example', 'tangibly', 'chooses', 'help', 'government', 'policy', 'especially', 'seek', 'rights', 'amplify', 'preserve', 'voices', 'protect', 'Chinese', 'ready', 'people', 'stand', 'Their', 'distribution', 'disinfectants', 'accelerated', 'threatened', 'hampered', 'delay', 'services', 'vaccine', 'telehealth', 'development', 'access', 'object', 'blocked', 'lesson', 'barriers', 'regulatory', 'Regulatory', 'risk', 'health', 'engender', 'public', 'support', 'bad', 'permanent', 'regulation', 'reforms', 'excessive', 'better', 'demonstrated', 'protect', 'epidemic', 'public', 'health', 'revive', 'economy', 'Many', 'face', 'medical', 'donated', 'supplies', 'weeks', 'nations', 'recent', 'You', 'Taiwan', 'might', 'hand', 'think', 'well', 'medical', 'situation', 'system', 'domestic', 'setting', 'With', 'model', 'process', 'response', 'stringent', 'eagerness', 'implementing', 'help', 'docking', 'nations', 'ship', 'need', 'cruise', 'make', 'prohibiting', 'Taiwan', 'China', 'participation', 'parts', 'WHO', 'travel', 'You', 'reopened', 'longer', 'Schools', 'required', 'Austria', 'officials', 'time', 'observed', 'full', 'little', 'reopened', 'spread', 'schools', 'within', 'May', 'Canada', 'On', 'Quebec', 'classes', 'schools', 'schedule', 'reopened', 'best', 'May', 'decide', 'children', 'able', 'socialize', 'schools', 'groups', 'Individual', 'six', 'days', 'Science', 'remaining', 'reports', 'four', 'students', 'learning', 'teachers', 'wear', 'Individual', 'students', 'schools', 'full', 'close', 'classes', 'temporarily', 'Israel', 'student', 'May', 'staff', 'reopened', 'member', 'fully', 'contracts', 'Schools', 'virus', 'Israel', 'Japan', 'classes', 'Japan', 'weeks', 'began', 'two', 'reopening', 'home', 'schools', 'sent', 'June', 'student', 'Parents', 'infected', 'must', 'teachers', 'take', 'classmates', 'children', 'virus', 'temperature', 'wear', 'Netherlands', 'students', 'Netherlands', 'teachers', 'reopened', 'days', 'May', 'alternating', 'halved', 'attend', 'class', 'Children', 'sizes', 'schools', 'Schools', 'report', 'require', 'provide', 'social', 'morning', 'distancing', 'every', 'students', 'temperature', 'Sweden', 'children', 'Schools', 'take', 'Sweden', 'must', 'never', 'Parents', 'closed', 'June', 'young', 'schools', 'children', 'reopening', 'make', 'surgical', 'gowns', 'shields', 'goggles', 'face', 'first', 'gloves', 'shipments', 'resuscitators', 'international', 'ventilators', 'medical', 'portable', 'aid', 'thermometers', 'arrived', 'send', 'North', 'Borders', 'Korea', 'Without', 'borders', 'Doctors', 'delivery', 'Societies', 'hampered', 'Crescent', 'regime', 'Red', 'strict', 'Cross', 'quarantine', 'Red', 'restrictions', 'Federation', 'However', 'International', 'sanctions', 'Organization', 'prohibit', 'surgical', 'gowns', 'shields', 'goggles', 'face', 'first', 'gloves', 'shipments', 'resuscitators', 'international', 'ventilators', 'medical', 'portable', 'aid', 'thermometers', 'arrived', 'send', 'North', 'Borders', 'Korea', 'Without', 'borders', 'Doctors', 'delivery', 'Societies', 'hampered', 'Crescent', 'regime', 'Red', 'strict', 'Cross', 'quarantine', 'Red', 'restrictions', 'Federation', 'With', 'International', 'countries', 'Organization', 'focused', 'face', 'disposable', 'wear', 'gloves', 'voters', 'maintain', 'requiring', 'social', 'protocols', 'distancing', 'health', 'pass', 'strict', 'temperature', 'established', 'check', 'NEC', 'casting', 'Commission', 'ballots', 'Election', 'Those', 'National', 'failing', 'course', 'temperature', 'voters', 'check', 'entirely', 'required', 'pandemic', 'use', 'election', 'special', 'general', 'voting', 'conduct', 'stations', 'successfully', 'disinfected', 'making', 'FedEx', 'assistance', 'making', 'offer', 'transportation', 'reached', 'happen', 'Honeywell', 'Pernod', 'executives', 'Ricard', 'described', 'offered', 'Navarro', 'start', 'Peter', 'making', 'adviser', 'hand', 'House', 'sanitizer', 'White', 'trade', 'conference', 'associations', 'press', 'mobilizing', 'March', 'members', 'At', 'assist', 'forced', 'General', 'need', 'Electric', 'challenges', 'voluntarily', 'America', 'agreed', 'millions', 'done', 'way', 'respirators', 'minor', 'ventilators', 'chain', 'lot', 'supply', 'things', 'along', 'happening', 'somewhere', 'right', 'use', 'Defense', 'need', 'Production', 'threat', 'Act', 'industry', 'powerful', 'incentive', 'tool', 'great', 'likely', 'provide', 'administration', 'enough', 'need', 'Act', 'use', 'Production', 'juncture', 'Defense', 'maybe', 'threat', 'soon', 'said', 'breakthrough', 'pulling', 'talk', 'exposed', 'others', 'noses', 'thereby', 'leaving', 'negating', 'instance', 'benefit', 'mask', 'mask', 'wear', 'might', 'know', 'impossible', 'simply', 'ignore', 'Americans', 'surge', 'many', 'new', 'anecdotally', 'cases', 'Also', 'began', 'establishments', 'middle', 'back', 'June', 'linked', 'rather', 'cases', 'eventful', 'new', 'month', 'many', 'At', 'unsurprising', 'least', 'hoarded', 'protective', 'seize', 'equipment', 'instance', 'following', 'least', 'week', 'used', 'White', 'already', 'House', 'authority', 'started', 'supplies', 'get', 'equipment', 'specific', 'medical', 'wield', 'gouging', 'authorities', 'price', 'On', 'hoarding', 'March', 'stop', 'president', 'Title', 'issued', 'authority', 'memorandum', 'allocations', 'telling', 'HHS', 'HHS', 'giving', 'Secretary', 'Order', 'Alex', 'millions', 'Anheuser', 'make', 'Busch', 'others', 'Baccardi', 'Hanes', 'scores', 'Mypillow', 'boutique', 'Honeywell', 'distillers', 'ventilators', 'make', 'make', 'hand', 'companies', 'sanitizer', 'medical', 'list', 'partner', 'goes', 'volunteer', 'No', 'Toyota', 'central', 'Ford', 'office', 'like', 'dictating', 'companies', 'orders', 'seen', 'Washington', 'weeks', 'ever', 'two', 'better', 'last', 'job', 'wearing', 'public', 'symptoms', 'consistently', 'people', 'new', 'quarantining', 'mantra', 'gatherings', 'emerging', 'public', 'business', 'large', 'No', 'prohibiting', 'shoes', 'distancing', 'shirt', 'social', 'commission', 'mandatory', 'working', 'maintaining', 'balance', 'like', 'public', 'changes', 'health', 'big', 'concerns', 'pretty', 'need', 'make', 'get', 'willing', 'back', 'seem', 'work', 'retail', 'life']\n"
          ],
          "name": "stdout"
        }
      ]
    },
    {
      "cell_type": "code",
      "metadata": {
        "colab": {
          "base_uri": "https://localhost:8080/"
        },
        "id": "mOkbko_Xosx2",
        "outputId": "dde206d5-57b7-4025-bd6f-057a75b6bfe3"
      },
      "source": [
        "import nltk\r\n",
        "tokenDist = nltk.FreqDist(CollocationsNoStopWords)\r\n",
        "tokenDist.tabulate(40)"
      ],
      "execution_count": null,
      "outputs": [
        {
          "output_type": "stream",
          "text": [
            "      masks        face        wear      health      public     wearing        mask         use   employees      others   Americans       cloth      spread         MTA      demand       March      people     medical        make   companies        time     protect   officials        need    pandemic     workers  government    surgical        care        help     disease    produced  protective individuals    American       virus    evidence       first   sanitizer     donated \n",
            "        140          60          41          40          35          28          28          27          27          26          26          25          25          25          24          23          22          22          21          21          20          19          19          19          18          17          17          17          17          16          16          16          15          15          15          14          14          14          14          14 \n"
          ],
          "name": "stdout"
        }
      ]
    },
    {
      "cell_type": "code",
      "metadata": {
        "colab": {
          "base_uri": "https://localhost:8080/",
          "height": 727
        },
        "id": "RT0lyERiou4m",
        "outputId": "b4c23119-a1e1-40b8-8c31-4579cda2750d"
      },
      "source": [
        "%matplotlib inline\r\n",
        "import matplotlib.pyplot as plt\r\n",
        "plt.figure(figsize=(15, 11))  # the size you want\r\n",
        "tokenDist.plot(40, title=\"Top Frequency Collocates for \" + word2find.capitalize())"
      ],
      "execution_count": null,
      "outputs": [
        {
          "output_type": "display_data",
          "data": {
            "image/png": "[encoded data removed]",
            "text/plain": [
              "<Figure size 1080x792 with 1 Axes>"
            ]
          },
          "metadata": {
            "tags": [],
            "needs_background": "light"
          }
        }
      ]
    }
  ]
}